{
 "metadata": {
  "name": "setdict-json-instructor"
 },
 "nbformat": 3,
 "nbformat_minor": 0,
 "worksheets": [
  {
   "cells": [
    {
     "cell_type": "heading",
     "level": 1,
     "metadata": {},
     "source": [
      "Sets and Dictionaries in Python: JSON (Instructor Version)"
     ]
    },
    {
     "cell_type": "markdown",
     "metadata": {},
     "source": [
      "## Objectives\n",
      "\n",
      "* Correctly define \"JSON\" and give simple examples of valid JSON structures.\n",
      "* Describe JSON's strengths and weaknesses as a storage format.\n",
      "* Write code to read and write JSON-formatted data files using standard libraries."
     ]
    },
    {
     "cell_type": "markdown",
     "metadata": {},
     "source": [
      "## Lesson\n",
      "\n",
      "The example above used two data file formats: one for storing molecular\n",
      "formulas, the other for storing inventory. Both formats were specific to\n",
      "this application, which means we needed to write, debug, document, and\n",
      "maintain functions to handle them. Those functions weren't particularly\n",
      "difficult to create, but they still took time to create, and if anyone\n",
      "ever wants to read our files in Java, MATLAB, or Perl, they'll have to\n",
      "write equivalent functions themselves.\n",
      "\n",
      "A growing number of programs avoid these problems by using a flexible\n",
      "data format called [JSON](glossary.html#json), which stands for\n",
      "\"JavaScript Object Notation\". Despite the name, it is a\n",
      "language-independent way to store nested data structures made up of\n",
      "strings, numbers, Booleans, lists, dictionaries, and the special value\n",
      "`null` (equivalent to Python's `None`)\u2014in short, the basic data types\n",
      "that almost every language supports. For example, let's convert a\n",
      "dictionary of scientists' birthdays to a string:"
     ]
    },
    {
     "cell_type": "code",
     "collapsed": false,
     "input": [
      "import json\n",
      "birthdays = {'Curie' : 1867, 'Hopper' : 1906, 'Franklin' : 1920}\n",
      "as_string = json.dumps(birthdays)\n",
      "print as_string\n",
      "print type(as_string)"
     ],
     "language": "python",
     "metadata": {},
     "outputs": [
      {
       "output_type": "stream",
       "stream": "stdout",
       "text": [
        "{\"Curie\": 1867, \"Hopper\": 1906, \"Franklin\": 1920}\n",
        "<type 'str'>\n"
       ]
      }
     ],
     "prompt_number": 1
    },
    {
     "cell_type": "markdown",
     "metadata": {},
     "source": [
      "`json.dumps` doesn't seem to do much, but that's kind of the point: the\n",
      "textual representation of the data structure looks pretty much like what\n",
      "a programmer would type in to re-create it. The advantage is that this\n",
      "representation can be saved in a file:"
     ]
    },
    {
     "cell_type": "code",
     "collapsed": false,
     "input": [
      "writer = open('/tmp/example.json', 'w')\n",
      "json.dump(birthdays, writer)\n",
      "writer.close()\n",
      "\n",
      "reader = open('/tmp/example.json', 'r')\n",
      "duplicate = json.load(reader)\n",
      "reader.close()\n",
      "\n",
      "print 'original:', birthdays"
     ],
     "language": "python",
     "metadata": {},
     "outputs": [
      {
       "output_type": "stream",
       "stream": "stdout",
       "text": [
        "original: {'Curie': 1867, 'Hopper': 1906, 'Franklin': 1920}\n"
       ]
      }
     ],
     "prompt_number": 2
    },
    {
     "cell_type": "code",
     "collapsed": false,
     "input": [
      "print 'duplicate:', duplicate"
     ],
     "language": "python",
     "metadata": {},
     "outputs": [
      {
       "output_type": "stream",
       "stream": "stdout",
       "text": [
        "duplicate: {u'Curie': 1867, u'Hopper': 1906, u'Franklin': 1920}\n"
       ]
      }
     ],
     "prompt_number": 5
    },
    {
     "cell_type": "markdown",
     "metadata": {},
     "source": [
      "(Note that strings are stored as Unicode.)"
     ]
    },
    {
     "cell_type": "markdown",
     "metadata": {},
     "source": [
      "The data read in is the same as the original:"
     ]
    },
    {
     "cell_type": "code",
     "collapsed": false,
     "input": [
      "print 'original == duplicate:', birthdays == duplicate"
     ],
     "language": "python",
     "metadata": {},
     "outputs": [
      {
       "output_type": "stream",
       "stream": "stdout",
       "text": [
        "original == duplicate: True\n"
       ]
      }
     ],
     "prompt_number": 6
    },
    {
     "cell_type": "markdown",
     "metadata": {},
     "source": [
      "But it is *not* the same object in memory:"
     ]
    },
    {
     "cell_type": "code",
     "collapsed": false,
     "input": [
      "print 'original is duplicate:', birthdays is duplicate"
     ],
     "language": "python",
     "metadata": {},
     "outputs": [
      {
       "output_type": "stream",
       "stream": "stdout",
       "text": [
        "original is duplicate: False\n"
       ]
      }
     ],
     "prompt_number": 7
    },
    {
     "cell_type": "markdown",
     "metadata": {},
     "source": [
      "The data file holds what we'd type in to create the data in a program,\n",
      "which makes it easy to edit by hand:"
     ]
    },
    {
     "cell_type": "code",
     "collapsed": false,
     "input": [
      "!cat /tmp/example.json"
     ],
     "language": "python",
     "metadata": {},
     "outputs": [
      {
       "output_type": "stream",
       "stream": "stdout",
       "text": [
        "{\"Curie\": 1867, \"Hopper\": 1906, \"Franklin\": 1920}"
       ]
      }
     ],
     "prompt_number": 3
    },
    {
     "cell_type": "markdown",
     "metadata": {},
     "source": [
      "How is this different in practice from what we had? First, our inventory\n",
      "file now looks like this:"
     ]
    },
    {
     "cell_type": "code",
     "collapsed": false,
     "input": [
      "!cat inventory-03.json"
     ],
     "language": "python",
     "metadata": {},
     "outputs": [
      {
       "output_type": "stream",
       "stream": "stdout",
       "text": [
        "{\"He\" : 1, \"H\" : 4, \"O\" : 3}"
       ]
      }
     ],
     "prompt_number": 4
    },
    {
     "cell_type": "markdown",
     "metadata": {},
     "source": [
      "while our formula files are:"
     ]
    },
    {
     "cell_type": "code",
     "collapsed": false,
     "input": [
      "!cat formulas-03.json"
     ],
     "language": "python",
     "metadata": {},
     "outputs": [
      {
       "output_type": "stream",
       "stream": "stdout",
       "text": [
        "{\"helium\"   : {\"He\" : 1},\r\n",
        " \"water\"    : {\"H\" : 2, \"O\" : 1},\r\n",
        " \"hydrogen\" : {\"H\" : 2}}"
       ]
      }
     ],
     "prompt_number": 6
    },
    {
     "cell_type": "markdown",
     "metadata": {},
     "source": [
      "Those aren't as intuitive for non-programmers as the original flat text\n",
      "files, but they're not too bad. The worst thing is the lack of comments:\n",
      "unfortunately\u2014very unfortunately\u2014the JSON format doesn't support them.\n",
      "(And note that JSON requires us to use a double-quote for strings:\n",
      "unlike Python, we cannot substitute single quotes.)\n",
      "\n",
      "The good news is that given files like these, we can rewrite our program\n",
      "as:"
     ]
    },
    {
     "cell_type": "code",
     "collapsed": false,
     "input": [
      "def main(inventory_file, formula_file):\n",
      "    with open(inventory_file, 'r') as reader:\n",
      "        inventory = json.load(reader)\n",
      "    with open(formula_file, 'r') as reader:\n",
      "        formulas = json.load(reader)\n",
      "    counts = calculate_counts(inventory, formulas)\n",
      "    show_counts(counts)"
     ],
     "language": "python",
     "metadata": {},
     "outputs": [],
     "prompt_number": 7
    },
    {
     "cell_type": "markdown",
     "metadata": {},
     "source": [
      "The two functions that read formula and inventory files have been\n",
      "replaced with a couple of lines each. Nothing else has to\n",
      "change, because the data structures loaded from the data files are\n",
      "exactly what we had before. The end result is 51 lines long compared to\n",
      "the 80 we started with, a reduction of more than a third."
     ]
    },
    {
     "cell_type": "markdown",
     "metadata": {},
     "source": [
      "<h3>Nothing's Perfekt</h3>\n",
      "\n",
      "JSON's greatest weakness isn't its lack of support for comments, but the\n",
      "fact that it doesn't recognize and manage aliases. Instead, each\n",
      "occurrence of an aliased structure is treated as something brand new\n",
      "when data is being saved. For example:"
     ]
    },
    {
     "cell_type": "code",
     "collapsed": false,
     "input": [
      "inner = ['name']\n",
      "outer = [inner, inner] # Creating an alias\n",
      "print outer\n",
      "print outer[0] is outer[1]"
     ],
     "language": "python",
     "metadata": {},
     "outputs": [
      {
       "output_type": "stream",
       "stream": "stdout",
       "text": [
        "[['name'], ['name']]\n",
        "True\n"
       ]
      }
     ],
     "prompt_number": 9
    },
    {
     "cell_type": "code",
     "collapsed": false,
     "input": [
      "as_string = json.dumps(outer)\n",
      "duplicate = json.loads(as_string)\n",
      "print duplicate\n",
      "print duplicate[0] is duplicate[1]"
     ],
     "language": "python",
     "metadata": {},
     "outputs": [
      {
       "output_type": "stream",
       "stream": "stdout",
       "text": [
        "[[u'name'], [u'name']]\n",
        "False\n"
       ]
      }
     ],
     "prompt_number": 10
    },
    {
     "cell_type": "markdown",
     "metadata": {},
     "source": [
      "The diagram below shows the difference between the original data\n",
      "structure (referred to by `outer`) and what winds up in `duplicate`. If\n",
      "aliases might be present in our data, and it's important to preserve\n",
      "their structure, we must either record the aliasing ourself (which is\n",
      "tricky), or use some other format. Luckily, a lot of data either doesn't\n",
      "contain aliases, or the aliasing in it isn't important.\n",
      "\n",
      "<img src=\"files/json_alias.png\" alt=\"Lack of Aliasing in JSON\" />"
     ]
    },
    {
     "cell_type": "markdown",
     "metadata": {},
     "source": [
      "## Key Points\n",
      "\n",
      "* The JSON data format can represent arbitrarily-nested lists and dictionaries containing strings, numbers, Booleans, and `None`.\n",
      "* Using JSON reduces the code we have to write ourselves and improves interoperability with other programming languages.\n",
      "* JSON doesn't allow for comments, and doesn't handle aliasing."
     ]
    }
   ],
   "metadata": {}
  }
 ]
}