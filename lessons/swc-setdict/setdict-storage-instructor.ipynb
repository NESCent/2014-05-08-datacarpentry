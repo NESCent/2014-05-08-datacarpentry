{
 "metadata": {
  "name": "setdict-storage-instructor"
 },
 "nbformat": 3,
 "nbformat_minor": 0,
 "worksheets": [
  {
   "cells": [
    {
     "cell_type": "heading",
     "level": 1,
     "metadata": {},
     "source": [
      "Sets and Dictionaries in Python: Storage (Instructor Version)"
     ]
    },
    {
     "cell_type": "markdown",
     "metadata": {},
     "source": [
      "## Objectives\n",
      "\n",
      "* Draw a diagram showing how hash tables are implemented, and correctly label the main parts.\n",
      "* Explain the purpose of a hash function.\n",
      "* Explain why using mutable values as keys in a hash table can cause problems.\n",
      "* Correctly identify the error messages Python produces when programs try to put mutable values in hashed data structures.\n",
      "* Explain the similarities and differences between tuples and lists.\n",
      "* Explain why using tuples is better than concatenating values when storing multi-part data in hashed data structures."
     ]
    },
    {
     "cell_type": "markdown",
     "metadata": {},
     "source": [
      "## Lesson\n",
      "\n",
      "Let's create a set, add the string `'lithium'` to it (as a single item, not character by character), and print the result:"
     ]
    },
    {
     "cell_type": "code",
     "collapsed": false,
     "input": [
      "things = set()\n",
      "things.add(\"lithium\")\n",
      "print things"
     ],
     "language": "python",
     "metadata": {},
     "outputs": [
      {
       "output_type": "stream",
       "stream": "stdout",
       "text": [
        "set(['lithium'])\n"
       ]
      }
     ],
     "prompt_number": 1
    },
    {
     "cell_type": "markdown",
     "metadata": {},
     "source": [
      "As expected, the string is in the set. Now let's try adding a list to the same set:"
     ]
    },
    {
     "cell_type": "code",
     "collapsed": false,
     "input": [
      "things.add([1, 2, 3])"
     ],
     "language": "python",
     "metadata": {},
     "outputs": [
      {
       "ename": "TypeError",
       "evalue": "unhashable type: 'list'",
       "output_type": "pyerr",
       "traceback": [
        "\u001b[0;31m---------------------------------------------------------------------------\u001b[0m\n\u001b[0;31mTypeError\u001b[0m                                 Traceback (most recent call last)",
        "\u001b[0;32m<ipython-input-2-5c34a9426fc7>\u001b[0m in \u001b[0;36m<module>\u001b[0;34m()\u001b[0m\n\u001b[0;32m----> 1\u001b[0;31m \u001b[0mthings\u001b[0m\u001b[0;34m.\u001b[0m\u001b[0madd\u001b[0m\u001b[0;34m(\u001b[0m\u001b[0;34m[\u001b[0m\u001b[0;36m1\u001b[0m\u001b[0;34m,\u001b[0m \u001b[0;36m2\u001b[0m\u001b[0;34m,\u001b[0m \u001b[0;36m3\u001b[0m\u001b[0;34m]\u001b[0m\u001b[0;34m)\u001b[0m\u001b[0;34m\u001b[0m\u001b[0m\n\u001b[0m",
        "\u001b[0;31mTypeError\u001b[0m: unhashable type: 'list'"
       ]
      }
     ],
     "prompt_number": 2
    },
    {
     "cell_type": "markdown",
     "metadata": {},
     "source": [
      "Why doesn't that work? And what does that word \"unhashable\" mean?"
     ]
    },
    {
     "cell_type": "markdown",
     "metadata": {},
     "source": [
      "When we create a set, the computer allocates a block of memory to store\n",
      "references to the set's elements. When we add something to the set, or\n",
      "try to look something up, the computer uses a\n",
      "[hash function](glossary.html#hash-function) to figure out where to look. A\n",
      "hash function is any function that produces a seemingly-random number\n",
      "when given some data as input. For example, one way to hash a string is\n",
      "to add up the numerical values of its characters. If the string is\n",
      "\"zebra\", those values are 97 for lower-case 'a', 98 for lower-case 'b',\n",
      "and so on up to 122 for lower-case 'z'. When we add them up, we will\n",
      "always get the same result: in this case, 532. If our hash table has 8\n",
      "slots, we can take the remainder 532%8=4 to figure out where to store\n",
      "a reference to our string in the hash table."
     ]
    },
    {
     "cell_type": "markdown",
     "metadata": {},
     "source": [
      "<img src=\"files/set_storage_string.png\" alt=\"Storing a String in a Set\" />"
     ]
    },
    {
     "cell_type": "markdown",
     "metadata": {},
     "source": [
      "Now let's take a look at how a list would be stored. If the list\n",
      "contains the same five characters, so that its hash code is still 4, it\n",
      "would be stored:"
     ]
    },
    {
     "cell_type": "markdown",
     "metadata": {},
     "source": [
      "<img src=\"files/set_storage_list.png\" alt=\"Storing a List in a Hash Table\" />"
     ]
    },
    {
     "cell_type": "markdown",
     "metadata": {},
     "source": [
      "But what happens if we change the characters in the list after we've\n",
      "added it to the set? For example, suppose that we change the first\n",
      "letter in the list from 'z' to 'X'. The hash function's value is now 498\n",
      "instead of 532, which means that the modified list belongs in slot 2\n",
      "rather than slot 4. However, the reference to the list is still in the\n",
      "old location: the set doesn't know that the list's contents have\n",
      "changed, so it hasn't moved its reference to the right location."
     ]
    },
    {
     "cell_type": "markdown",
     "metadata": {},
     "source": [
      "<img src=\"files/set_storage_mutate.png\" alt=\"Contents of Memory After Changing List\" />"
     ]
    },
    {
     "cell_type": "markdown",
     "metadata": {},
     "source": [
      "This is bad news. If we now ask, \"Is the list containing 'X', 'e', 'b',\n",
      "'r', and 'a' in the set?\" the answer will be \"no\", because the reference\n",
      "to the list isn't stored in the location that our hash function tells us\n",
      "to look. It's as if someone changed their name from \"Tom Riddle\" to\n",
      "\"Lord Voldemort\", but we left all the personnel records filed under 'R'."
     ]
    },
    {
     "cell_type": "markdown",
     "metadata": {},
     "source": [
      "This problem arises with any [mutable](glossary.html#mutable)\n",
      "structure\u2014i.e., any structure whose contents or value can be changed\n",
      "after its creation. Integers and strings are safe to hash because their\n",
      "values are fixed, but the whole point of lists is that we can grow them,\n",
      "shrink them, and overwrite their contents."
     ]
    },
    {
     "cell_type": "markdown",
     "metadata": {},
     "source": [
      "Different languages and libraries handle this problem in different ways.\n",
      "One option is to have each list keep track of the sets that it is in,\n",
      "and move itself whenever its values change. However, this is expensive:\n",
      "every time a program touched a list, it would have to see if it was in\n",
      "any sets, and if it was, recalculate its hash code and update all the\n",
      "references to it."
     ]
    },
    {
     "cell_type": "markdown",
     "metadata": {},
     "source": [
      "A second option is to shrug and say, \"It's the programmer's fault.\" This\n",
      "is what most languages do, but it's also expensive: programmers can\n",
      "spend hours tracking down the bugs that arise from data being in the\n",
      "wrong place."
     ]
    },
    {
     "cell_type": "markdown",
     "metadata": {},
     "source": [
      "Python uses a third option: it only allows programmers to put\n",
      "[immutable](glossary.html#immutable) values in sets. After all, if\n",
      "something's value can't change, neither can its hash code or its\n",
      "location in a hash table."
     ]
    },
    {
     "cell_type": "markdown",
     "metadata": {},
     "source": [
      "But if sets can only hold immutable values, what do we do with mutable\n",
      "ones? In particular, how should we store things like (x,y) coordinates,\n",
      "which are naturally represented as lists, or people's names, which are\n",
      "naturally represented as lists of first, middle, and last names? Again,\n",
      "there are several options."
     ]
    },
    {
     "cell_type": "markdown",
     "metadata": {},
     "source": [
      "The first is to concatenate those values somehow. For example, if we\n",
      "want to store \"Charles\" and \"Darwin\", we'd create the string \"Charles\n",
      "Darwin\" and store that. This is simple to do, but our code will wind up\n",
      "being littered with string joins and string splits, which will make it\n",
      "slower to run and harder to read. More importantly, it's only safe to do\n",
      "if we can find a concatenator that can never come up in our data. (If we\n",
      "join \"Paul Antoine\" and \"St. Cyr\" using a space, there would be three\n",
      "possible ways to split it apart again.)"
     ]
    },
    {
     "cell_type": "markdown",
     "metadata": {},
     "source": [
      "The second option\u2014the right one\u2014is to use [tuples](glossary.html#tuple)\n",
      "instead of lists. A tuple is an immutable list, i.e., a sequence of\n",
      "values that cannot be changed after its creation. Tuples are created\n",
      "exactly like lists, except we use parentheses instead of square\n",
      "brackets:"
     ]
    },
    {
     "cell_type": "code",
     "collapsed": false,
     "input": [
      "full_name = ('Charles', 'Darwin')"
     ],
     "language": "python",
     "metadata": {},
     "outputs": [],
     "prompt_number": 1
    },
    {
     "cell_type": "markdown",
     "metadata": {},
     "source": [
      "They are indexed the same way, too, and functions like `len` do exactly\n",
      "what we'd expect:"
     ]
    },
    {
     "cell_type": "code",
     "collapsed": false,
     "input": [
      "print full_name[0]\n",
      "print len(full_name)"
     ],
     "language": "python",
     "metadata": {},
     "outputs": [
      {
       "output_type": "stream",
       "stream": "stdout",
       "text": [
        "Charles\n",
        "2\n"
       ]
      }
     ],
     "prompt_number": 2
    },
    {
     "cell_type": "markdown",
     "metadata": {},
     "source": [
      "What we *cannot* do is assign a new value to a tuple element, i.e.,\n",
      "change the tuple after it has been created:"
     ]
    },
    {
     "cell_type": "code",
     "collapsed": false,
     "input": [
      "full_name[0] = 'Erasmus'"
     ],
     "language": "python",
     "metadata": {},
     "outputs": [
      {
       "ename": "TypeError",
       "evalue": "'tuple' object does not support item assignment",
       "output_type": "pyerr",
       "traceback": [
        "\u001b[0;31m---------------------------------------------------------------------------\u001b[0m\n\u001b[0;31mTypeError\u001b[0m                                 Traceback (most recent call last)",
        "\u001b[0;32m<ipython-input-6-a7488b670820>\u001b[0m in \u001b[0;36m<module>\u001b[0;34m()\u001b[0m\n\u001b[0;32m----> 1\u001b[0;31m \u001b[0mfull_name\u001b[0m\u001b[0;34m[\u001b[0m\u001b[0;36m0\u001b[0m\u001b[0;34m]\u001b[0m \u001b[0;34m=\u001b[0m \u001b[0;34m'Erasmus'\u001b[0m\u001b[0;34m\u001b[0m\u001b[0m\n\u001b[0m",
        "\u001b[0;31mTypeError\u001b[0m: 'tuple' object does not support item assignment"
       ]
      }
     ],
     "prompt_number": 6
    },
    {
     "cell_type": "markdown",
     "metadata": {},
     "source": [
      "This means that a tuple's hash code never changes, and *that* means that\n",
      "tuples can be put in sets:"
     ]
    },
    {
     "cell_type": "code",
     "collapsed": false,
     "input": [
      "names = set()\n",
      "names.add(('Charles', 'Darwin'))\n",
      "print names"
     ],
     "language": "python",
     "metadata": {},
     "outputs": [
      {
       "output_type": "stream",
       "stream": "stdout",
       "text": [
        "set([('Charles', 'Darwin')])\n"
       ]
      }
     ],
     "prompt_number": 7
    },
    {
     "cell_type": "markdown",
     "metadata": {},
     "source": [
      "## Key Points\n",
      "\n",
      "* Sets are stored in hash tables, which guarantee fast access for arbitrary values.\n",
      "* The values in sets must be immutable to prevent hash tables misplacing them.\n",
      "* Use tuples to store multi-part values in sets."
     ]
    }
   ],
   "metadata": {}
  }
 ]
}