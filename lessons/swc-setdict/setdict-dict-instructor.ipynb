{
 "metadata": {
  "name": "setdict-dict-instructor"
 },
 "nbformat": 3,
 "nbformat_minor": 0,
 "worksheets": [
  {
   "cells": [
    {
     "cell_type": "heading",
     "level": 1,
     "metadata": {},
     "source": [
      "Sets and Dictionaries in Python: Dictionaries (Instructor Version)"
     ]
    },
    {
     "cell_type": "markdown",
     "metadata": {},
     "source": [
      "## Objectives\n",
      "\n",
      "* Explain the similarities and differences between sets and dictionaries.\n",
      "* Perform common operations on dictionaries."
     ]
    },
    {
     "cell_type": "markdown",
     "metadata": {},
     "source": [
      "## Lesson\n",
      "\n",
      "Now that we know how to find out what kinds of atoms are in our\n",
      "inventory, we want to find out how many of each we have. Our input is a\n",
      "list of several thousand atomic symbols, and the output we want is a\n",
      "list of names and counts."
     ]
    },
    {
     "cell_type": "markdown",
     "metadata": {},
     "source": [
      "Once again, we could use a list to store names and counts, but the right\n",
      "solution is to use another new data strucure called a\n",
      "[dictionary](glossary.html#dictionary). A dictionary is a unordered\n",
      "collection of key-value pairs. The keys\n",
      "are immutable, unique, and unordered, just like the elements of a set.\n",
      "There are no restrictions on the values stored with those keys: they\n",
      "don't have to be immutable or unique. However, we can only look up\n",
      "entries by their keys, not by their values."
     ]
    },
    {
     "cell_type": "markdown",
     "metadata": {},
     "source": [
      "We create a new dictionary by putting key-value pairs inside curly\n",
      "braces with a colon between the two parts of each pair:"
     ]
    },
    {
     "cell_type": "code",
     "collapsed": false,
     "input": [
      "birthdays = {'Newton' : 1642, 'Darwin' : 1809}"
     ],
     "language": "python",
     "metadata": {},
     "outputs": [],
     "prompt_number": 1
    },
    {
     "cell_type": "markdown",
     "metadata": {},
     "source": [
      "The dictionary's keys are the strings `'Newton'` and `'Darwin'`. The\n",
      "value associated with `'Newton'` is 1642, while the value associated\n",
      "with `'Darwin'` is 1809. We can think of this as a two-column table:\n",
      "\n",
      "<table>\n",
      "    <tr><th>Key</th><th>Value</th></tr>\n",
      "    <tr><td><code>'Newton'</code></td><td>1642</td></tr>\n",
      "    <tr><td><code>'Darwin'</code></td><td>1809</td></tr>\n",
      "</table>\n",
      "\n",
      "but it's important to remember that the entries aren't necessarily\n",
      "stored in this order (or any other specific order)."
     ]
    },
    {
     "cell_type": "markdown",
     "metadata": {},
     "source": [
      "We can get the value associated with a key by putting the key in square\n",
      "brackets:"
     ]
    },
    {
     "cell_type": "code",
     "collapsed": false,
     "input": [
      "print birthdays['Newton']"
     ],
     "language": "python",
     "metadata": {},
     "outputs": [
      {
       "output_type": "stream",
       "stream": "stdout",
       "text": [
        "1642\n"
       ]
      }
     ],
     "prompt_number": 2
    },
    {
     "cell_type": "markdown",
     "metadata": {},
     "source": [
      "This looks just like subscripting a string or list, except dictionary\n",
      "keys don't have to be integers\u2014they can be strings, tuples, or any other\n",
      "immutable object. It's just like using a phonebook or a real dictionary:\n",
      "instead of looking things up by location using an integer index, we look\n",
      "things up by name."
     ]
    },
    {
     "cell_type": "markdown",
     "metadata": {},
     "source": [
      "If we want to add another entry to a dictionary, we just assign a value\n",
      "to the key, just as we create a new variable in a program by assigning\n",
      "it a value:"
     ]
    },
    {
     "cell_type": "code",
     "collapsed": false,
     "input": [
      "birthdays['Turing'] = 1612\n",
      "print birthdays"
     ],
     "language": "python",
     "metadata": {},
     "outputs": [
      {
       "output_type": "stream",
       "stream": "stdout",
       "text": [
        "{'Turing': 1612, 'Newton': 1642, 'Darwin': 1809}\n"
       ]
      }
     ],
     "prompt_number": 3
    },
    {
     "cell_type": "markdown",
     "metadata": {},
     "source": [
      "If the key is already in the dictionary, assignment replaces the value\n",
      "associated with it rather than adding another entry (since each key can\n",
      "appear at most once). Let's fix Turing's birthday by replacing 1612 with\n",
      "1912:"
     ]
    },
    {
     "cell_type": "code",
     "collapsed": false,
     "input": [
      "birthdays['Turing'] = 1912\n",
      "print birthdays"
     ],
     "language": "python",
     "metadata": {},
     "outputs": [
      {
       "output_type": "stream",
       "stream": "stdout",
       "text": [
        "{'Turing': 1912, 'Newton': 1642, 'Darwin': 1809}\n"
       ]
      }
     ],
     "prompt_number": 4
    },
    {
     "cell_type": "markdown",
     "metadata": {},
     "source": [
      "At this point, our set looks like this:\n",
      "\n",
      "<img src=\"files/simple_dict.png\" alt=\"A Simple Dictionary\" />"
     ]
    },
    {
     "cell_type": "markdown",
     "metadata": {},
     "source": [
      "Trying to get the value associated with a key that *isn't* in the\n",
      "dictionary is an error, just like trying to access a nonexistent\n",
      "variable or get an out-of-bounds element from a list. For example, let's\n",
      "try to look up Florence Nightingale's birthday:"
     ]
    },
    {
     "cell_type": "code",
     "collapsed": false,
     "input": [
      "print birthdays['Nightingale']"
     ],
     "language": "python",
     "metadata": {},
     "outputs": [
      {
       "ename": "KeyError",
       "evalue": "'Nightingale'",
       "output_type": "pyerr",
       "traceback": [
        "\u001b[0;31m---------------------------------------------------------------------------\u001b[0m\n\u001b[0;31mKeyError\u001b[0m                                  Traceback (most recent call last)",
        "\u001b[0;32m<ipython-input-5-44ca8cabb590>\u001b[0m in \u001b[0;36m<module>\u001b[0;34m()\u001b[0m\n\u001b[0;32m----> 1\u001b[0;31m \u001b[0;32mprint\u001b[0m \u001b[0mbirthdays\u001b[0m\u001b[0;34m[\u001b[0m\u001b[0;34m'Nightingale'\u001b[0m\u001b[0;34m]\u001b[0m\u001b[0;34m\u001b[0m\u001b[0m\n\u001b[0m",
        "\u001b[0;31mKeyError\u001b[0m: 'Nightingale'"
       ]
      }
     ],
     "prompt_number": 5
    },
    {
     "cell_type": "markdown",
     "metadata": {},
     "source": [
      "If we're not sure whether a key is in a dictionary or not, we can test\n",
      "for it using `in`:"
     ]
    },
    {
     "cell_type": "code",
     "collapsed": false,
     "input": [
      "print 'Nightingale' in birthdays"
     ],
     "language": "python",
     "metadata": {},
     "outputs": [
      {
       "output_type": "stream",
       "stream": "stdout",
       "text": [
        "False\n"
       ]
      }
     ],
     "prompt_number": 6
    },
    {
     "cell_type": "code",
     "collapsed": false,
     "input": [
      "print 'Darwin' in birthdays"
     ],
     "language": "python",
     "metadata": {},
     "outputs": [
      {
       "output_type": "stream",
       "stream": "stdout",
       "text": [
        "True\n"
       ]
      }
     ],
     "prompt_number": 7
    },
    {
     "cell_type": "markdown",
     "metadata": {},
     "source": [
      "We can see how many entries are in the dictionary using `len`,\n",
      "and loop over the keys in a dictionary using `for`:"
     ]
    },
    {
     "cell_type": "code",
     "collapsed": false,
     "input": [
      "print len(birthdays)\n",
      "for name in birthdays:\n",
      "    print name, birthdays[name]"
     ],
     "language": "python",
     "metadata": {},
     "outputs": [
      {
       "output_type": "stream",
       "stream": "stdout",
       "text": [
        "3\n",
        "Turing 1912\n",
        "Newton 1642\n",
        "Darwin 1809\n"
       ]
      }
     ],
     "prompt_number": 8
    },
    {
     "cell_type": "markdown",
     "metadata": {},
     "source": [
      "This is a little bit different from looping over a list. When we loop\n",
      "over a list we get the values in the list. When we loop over a\n",
      "dictionary, on the other hand, the loop gives us the keys, which we can\n",
      "use to look up the values."
     ]
    },
    {
     "cell_type": "markdown",
     "metadata": {},
     "source": [
      "We're now ready to count atoms. The main body of our program looks like\n",
      "this:"
     ]
    },
    {
     "cell_type": "code",
     "collapsed": false,
     "input": [
      "def main(filename):\n",
      "    counts = count_atoms(filename)\n",
      "    for atom in counts:\n",
      "        print atom, counts[atom]"
     ],
     "language": "python",
     "metadata": {},
     "outputs": [],
     "prompt_number": 14
    },
    {
     "cell_type": "markdown",
     "metadata": {},
     "source": [
      "`count_atoms` reads atomic symbols from a file, one per line, and\n",
      "creates a dictionary of atomic symbols and counts. Once we have that\n",
      "dictionary, we use a loop like the one we just saw to print out its\n",
      "contents.\n",
      "\n",
      "Here's the function that does the counting:"
     ]
    },
    {
     "cell_type": "code",
     "collapsed": false,
     "input": [
      "def count_atoms(filename):\n",
      "    '''Count unique atoms, returning a dictionary.'''\n",
      "\n",
      "    result = {}\n",
      "    with open(filename, 'r') as reader:\n",
      "\tfor line in reader:\n",
      "\t    atom = line.strip()\n",
      "            if atom not in result:\n",
      "                result[atom] = 1\n",
      "            else:\n",
      "                result[atom] = result[atom] + 1\n",
      "    return result"
     ],
     "language": "python",
     "metadata": {},
     "outputs": [],
     "prompt_number": 15
    },
    {
     "cell_type": "markdown",
     "metadata": {},
     "source": [
      "We start with a docstring to explain the function's purpose to whoever\n",
      "has to read it next. We then create an empty dictionary to fill with\n",
      "data, and use a loop to process the lines from the input file one by\n",
      "one. Notice that the empty dictionary is written `{}`: this is the\n",
      "\"[previous use](#a:previous-use)\" we referred to when explaining why an\n",
      "empty set had to be written `set()`."
     ]
    },
    {
     "cell_type": "markdown",
     "metadata": {},
     "source": [
      "After stripping whitespace off the atom's symbol, we check to see if\n",
      "we've seen it before. If we haven't, we set its count to 1, because\n",
      "we've now seen that atom one time. If we *have* seen it before, we add\n",
      "one to the previous count and store that new value back in the\n",
      "dictionary. When the loop is done, we return the dictionary we have\n",
      "created."
     ]
    },
    {
     "cell_type": "markdown",
     "metadata": {},
     "source": [
      "Let's watch this function in action. Before we read any data, our\n",
      "dictionary is empty. After we see `'Na'` for the first time, our\n",
      "dictionary has one entry: its key is `'Na'`, and its value is 1. When we\n",
      "see `'Fe'`, we add another entry to the dictionary with that string as a\n",
      "key and 1 as a value. Finally, when we see `'Na'` for the second time,\n",
      "we add one to its count.\n",
      "\n",
      "<table>\n",
      "  <tr>\n",
      "    <th>Input</th>\n",
      "    <th>Dictionary</th>\n",
      "  </tr>\n",
      "  <tr>\n",
      "    <td><em>start</em></td>\n",
      "    <td><code>{}</code></td>\n",
      "  </tr>\n",
      "  <tr>\n",
      "    <td><code>Na</code></td>\n",
      "    <td><code>{'Na' : 1}</code></td>\n",
      "  </tr>\n",
      "  <tr>\n",
      "    <td><code>Fe</code></td>\n",
      "    <td><code>{'Na' : 1, 'Fe' : 1}</code></td>\n",
      "  </tr>\n",
      "  <tr>\n",
      "    <td><code>Na</code></td>\n",
      "    <td><code>{'Na' : 2, 'Fe' : 1}</code></td>\n",
      "  </tr>\n",
      "</table>"
     ]
    },
    {
     "cell_type": "code",
     "collapsed": false,
     "input": [
      "main('some_atoms.txt')"
     ],
     "language": "python",
     "metadata": {},
     "outputs": [
      {
       "output_type": "stream",
       "stream": "stdout",
       "text": [
        "Na 3\n",
        "Si 1\n",
        "Fe 1\n",
        "Pd 1\n"
       ]
      }
     ],
     "prompt_number": 16
    },
    {
     "cell_type": "markdown",
     "metadata": {},
     "source": [
      "Just as we use tuples for multi-part entries in sets, we can use them\n",
      "for multi-part keys in dictionaries. For example, if we want to store\n",
      "the years in which scientists were born using their full names, we could\n",
      "do this:"
     ]
    },
    {
     "cell_type": "code",
     "collapsed": false,
     "input": [
      "birthdays = {\n",
      "    ('Isaac', 'Newton') : 1642,\n",
      "    ('Charles', 'Robert', 'Darwin') : 1809,\n",
      "    ('Alan', 'Mathison', 'Turing') : 1912\n",
      "}\n",
      "print birthdays"
     ],
     "language": "python",
     "metadata": {},
     "outputs": [
      {
       "output_type": "stream",
       "stream": "stdout",
       "text": [
        "{('Charles', 'Robert', 'Darwin'): 1809, ('Isaac', 'Newton'): 1642, ('Alan', 'Mathison', 'Turing'): 1912}\n"
       ]
      }
     ],
     "prompt_number": 17
    },
    {
     "cell_type": "markdown",
     "metadata": {},
     "source": [
      "If we do this, though, we always have to look things up by the full key:\n",
      "there is no way to ask for all the entries whose keys contain the word\n",
      "`'Darwin'`, because Python cannot match part of a tuple."
     ]
    },
    {
     "cell_type": "markdown",
     "metadata": {},
     "source": [
      "If we think of a dictionary as a two-column table, it is occasionally\n",
      "useful to get one or the other column, i.e., just the keys or just the\n",
      "values:"
     ]
    },
    {
     "cell_type": "code",
     "collapsed": false,
     "input": [
      "all_keys = birthdays.keys()\n",
      "print all_keys"
     ],
     "language": "python",
     "metadata": {},
     "outputs": [
      {
       "output_type": "stream",
       "stream": "stdout",
       "text": [
        "[('Charles', 'Robert', 'Darwin'), ('Isaac', 'Newton'), ('Alan', 'Mathison', 'Turing')]\n"
       ]
      }
     ],
     "prompt_number": 18
    },
    {
     "cell_type": "code",
     "collapsed": false,
     "input": [
      "all_values = birthdays.values()\n",
      "print all_values"
     ],
     "language": "python",
     "metadata": {},
     "outputs": [
      {
       "output_type": "stream",
       "stream": "stdout",
       "text": [
        "[1809, 1642, 1912]\n"
       ]
      }
     ],
     "prompt_number": 20
    },
    {
     "cell_type": "markdown",
     "metadata": {},
     "source": [
      "These methods should be used sparingly: the dictionary doesn't store the\n",
      "keys or values in a list, these methods both actually create a new list\n",
      "as their result. In particular, we *shouldn't* loop over a dictionary's\n",
      "entries like this:"
     ]
    },
    {
     "cell_type": "code",
     "collapsed": false,
     "input": [
      "for key in birthdays.keys():\n",
      "    print key, birthdays[key]"
     ],
     "language": "python",
     "metadata": {},
     "outputs": [
      {
       "output_type": "stream",
       "stream": "stdout",
       "text": [
        "Newton 1642\n",
        "Darwin 1809\n"
       ]
      }
     ],
     "prompt_number": 2
    },
    {
     "cell_type": "markdown",
     "metadata": {},
     "source": [
      "## Key Points\n",
      "\n",
      "* Use dictionaries to store key-value pairs with distinct keys.\n",
      "* Create dictionaries using `{k1:v1, k2:v2, ...}`.\n",
      "* Dictionaries are mutable, i.e., they can be updated in place.\n",
      "* Dictionary keys must be immutable, but values can be anything.\n",
      "* Use tuples to store multi-part keys in dictionaries.\n",
      "* `dict[key]` refers to the dictionary entry with a particular key.\n",
      "* `key in dict` tests whether a key is in a dictionary.\n",
      "* `len(dict)` returns the number of entries in a dictionary.\n",
      "* A loop over a dictionary produces each key once, in arbitrary order.\n",
      "* `dict.keys()` creates a list of the keys in a dictionary.\n",
      "* `dict.values()` creates a list of the keys in a dictionary."
     ]
    }
   ],
   "metadata": {}
  }
 ]
}