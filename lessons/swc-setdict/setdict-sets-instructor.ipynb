{
 "metadata": {
  "name": "setdict-sets-instructor"
 },
 "nbformat": 3,
 "nbformat_minor": 0,
 "worksheets": [
  {
   "cells": [
    {
     "cell_type": "heading",
     "level": 1,
     "metadata": {},
     "source": [
      "Sets and Dictionaries in Python: Sets (Instructor Version)"
     ]
    },
    {
     "cell_type": "markdown",
     "metadata": {},
     "source": [
      "## Objectives\n",
      "\n",
      "-   Explain why some programs that use lists become proportionally\n",
      "    slower as data sizes increase.\n",
      "-   Explain the three adjectives in \"unordered collection of distinct\n",
      "    values\".\n",
      "-   Use a set to eliminate duplicate values from data."
     ]
    },
    {
     "cell_type": "markdown",
     "metadata": {},
     "source": [
      "## Lesson\n",
      "\n",
      "Let's start with something simpler than our actual inventory problem.\n",
      "Suppose we have a list of all the atoms in the warehouse, and we want to\n",
      "know which different kinds we have\u2014not how many, but just their types.\n",
      "We could solve this problem using a list to store the unique atomic\n",
      "symbols we have seen. Here's a function to add a new atom to the list:"
     ]
    },
    {
     "cell_type": "code",
     "collapsed": false,
     "input": [
      "def another_atom(seen, atom):\n",
      "    for i in range(len(seen)):\n",
      "        if seen[i] == atom:\n",
      "            return # atom is already present, so do not re-add\n",
      "    seen.append(atom)"
     ],
     "language": "python",
     "metadata": {},
     "outputs": [],
     "prompt_number": 1
    },
    {
     "cell_type": "markdown",
     "metadata": {},
     "source": [
      "`another_atom`'s arguments are a list of the unique atoms we've already\n",
      "seen, and the symbol of the atom we're adding. Inside the function, we\n",
      "loop over the atoms that are already in the list. If we find the one\n",
      "we're trying to add, we exit the function immediately: we aren't\n",
      "supposed to have duplicates in our list, so there's nothing to add. If\n",
      "we reach the end of the list without finding this symbol, though, we\n",
      "append it. This is a common [design pattern](glossary.html#design-pattern): either we find pre-existing data\n",
      "in a loop and return right away, or take some default action if we\n",
      "finish the loop without finding a match."
     ]
    },
    {
     "cell_type": "markdown",
     "metadata": {},
     "source": [
      "Let's watch this function in action. We start with an empty list. If the\n",
      "first atomic symbol is `'Na'`, we find no match (since the list is\n",
      "empty), so we add it. The next symbol is `'Fe'`; it doesn't match\n",
      "`'Na'`, so we add it as well. Our third symbol is `'Na'` again. It\n",
      "matches the first entry in the list, so we exit the function\n",
      "immediately."
     ]
    },
    {
     "cell_type": "markdown",
     "metadata": {},
     "source": [
      "<table>\n",
      "  <tr>\n",
      "    <th>Before</th>\n",
      "    <th>Adding</th>\n",
      "    <th>After</th>\n",
      "  </tr>\n",
      "  <tr>\n",
      "    <td><code>[]</code></td>\n",
      "    <td><code>'Na'</code></td>\n",
      "    <td><code>['Na']</code></td>\n",
      "  </tr>\n",
      "  <tr>\n",
      "    <td><code>['Na']</code></td>\n",
      "    <td><code>'Fe'</code></td>\n",
      "    <td><code>['Na', 'Fe']</code></td>\n",
      "  </tr>\n",
      "  <tr>\n",
      "    <td><code>['Na', 'Fe']</code></td>\n",
      "    <td><code>'Na'</code></td>\n",
      "    <td><code>['Na', 'Fe']</code></td>\n",
      "  </tr>\n",
      "</table>"
     ]
    },
    {
     "cell_type": "markdown",
     "metadata": {},
     "source": [
      "This code works, but it is inefficient. Suppose there are *V* distinct\n",
      "atomic symbols in our data, and *N* symbols in total. Each time we add\n",
      "an observation to our list, we have to look through an average of *V/2*\n",
      "entries. The total running time for our program is therefore\n",
      "approximately *NV/2*. If *V* is small, this is only a few times larger\n",
      "than *N*, but what happens if we're keeping track of something like\n",
      "patient records rather than atoms? In that case, most values are\n",
      "distinct, so *V* is approximately the same as *N*, which means that our\n",
      "running time is proportional to *N^2^/2*. That's bad news: if we double\n",
      "the size of our data set, our program runs four times slower, and if we\n",
      "double it again, our program will have slowed down by a factor of 16."
     ]
    },
    {
     "cell_type": "markdown",
     "metadata": {},
     "source": [
      "There's a better way to solve this problem that is simpler to use and\n",
      "runs much faster. The trick is to use a [set](glossary.html#set) to\n",
      "store the symbols. A set is an unordered collection of distinct items.\n",
      "The word \"collection\" means that a set can hold zero or more values. The\n",
      "word \"distinct\" means that any particular value is either in the set or\n",
      "not: a set can't store two or more copies of the same thing. And\n",
      "finally, \"unordered\" means that values are simply \"in\" the set. They're\n",
      "not in any particular order, and there's no first value or last value.\n",
      "(They actually are stored in some order, but as we'll discuss in\n",
      "[the next section](#s:storage), that order is as random as the computer can\n",
      "make it.)"
     ]
    },
    {
     "cell_type": "markdown",
     "metadata": {},
     "source": [
      "To create a set, we simply write down its elements inside curly braces:"
     ]
    },
    {
     "cell_type": "code",
     "collapsed": false,
     "input": [
      "primes = {3, 5, 7}"
     ],
     "language": "python",
     "metadata": {},
     "outputs": [],
     "prompt_number": 2
    },
    {
     "cell_type": "markdown",
     "metadata": {},
     "source": [
      "The set stores references to the three values in no particular order:\n",
      "\n",
      "<img src=\"files/simple_set.png\" alt=\"A Simple Set\" />"
     ]
    },
    {
     "cell_type": "markdown",
     "metadata": {},
     "source": [
      "However, we have to use `set()` to create an empty set, because the\n",
      "symbol `{}` was already being used for something else when sets were\n",
      "added to Python:"
     ]
    },
    {
     "cell_type": "code",
     "collapsed": false,
     "input": [
      "even_primes = set() # not '{}' as in math"
     ],
     "language": "python",
     "metadata": {},
     "outputs": [],
     "prompt_number": 3
    },
    {
     "cell_type": "markdown",
     "metadata": {},
     "source": [
      "We'll meet that \"something else\" [later in this chapter](#s:dict)."
     ]
    },
    {
     "cell_type": "markdown",
     "metadata": {},
     "source": [
      "To see what we can do with sets, let's create three holding the integers\n",
      "0 through 9, the first half of that same range of numbers (0 through 4),\n",
      "and the odd values 1, 3, 5, 7, and 9:"
     ]
    },
    {
     "cell_type": "code",
     "collapsed": false,
     "input": [
      "ten = {0, 1, 2, 3, 4, 5, 6, 7, 8, 9}\n",
      "lows = {0, 1, 2, 3, 4}\n",
      "odds = {1, 3, 5, 7, 9}"
     ],
     "language": "python",
     "metadata": {},
     "outputs": [],
     "prompt_number": 4
    },
    {
     "cell_type": "markdown",
     "metadata": {},
     "source": [
      "If we ask Python to display one of our sets, it shows us this:"
     ]
    },
    {
     "cell_type": "code",
     "collapsed": false,
     "input": [
      "print lows"
     ],
     "language": "python",
     "metadata": {},
     "outputs": [
      {
       "output_type": "stream",
       "stream": "stdout",
       "text": [
        "set([0, 1, 2, 3, 4])\n"
       ]
      }
     ],
     "prompt_number": 5
    },
    {
     "cell_type": "markdown",
     "metadata": {},
     "source": [
      "rather than using the curly-bracket notation. I personally regard this\n",
      "as a design flaw, but it does remind us that we can create always create\n",
      "a set from a list."
     ]
    },
    {
     "cell_type": "markdown",
     "metadata": {},
     "source": [
      "Sets have methods just like strings and lists, and, like the methods of\n",
      "strings and lists, most of those methods create new sets instead of\n",
      "modifying the set they are called for. These three come straight from\n",
      "mathematics:"
     ]
    },
    {
     "cell_type": "code",
     "collapsed": false,
     "input": [
      "print lows.union(odds)"
     ],
     "language": "python",
     "metadata": {},
     "outputs": [
      {
       "output_type": "stream",
       "stream": "stdout",
       "text": [
        "set([0, 1, 2, 3, 4, 5, 7, 9])\n"
       ]
      }
     ],
     "prompt_number": 6
    },
    {
     "cell_type": "code",
     "collapsed": false,
     "input": [
      "print lows.intersection(odds)"
     ],
     "language": "python",
     "metadata": {},
     "outputs": [
      {
       "output_type": "stream",
       "stream": "stdout",
       "text": [
        "set([1, 3])\n"
       ]
      }
     ],
     "prompt_number": 7
    },
    {
     "cell_type": "code",
     "collapsed": false,
     "input": [
      "print lows.difference(odds)"
     ],
     "language": "python",
     "metadata": {},
     "outputs": [
      {
       "output_type": "stream",
       "stream": "stdout",
       "text": [
        "set([0, 2, 4])\n"
       ]
      }
     ],
     "prompt_number": 8
    },
    {
     "cell_type": "markdown",
     "metadata": {},
     "source": [
      "Another method that creates a new set is `symmetric_difference`, which\n",
      "is sometimes called \"exclusive or\":"
     ]
    },
    {
     "cell_type": "code",
     "collapsed": false,
     "input": [
      "print lows.symmetric_difference(odds)"
     ],
     "language": "python",
     "metadata": {},
     "outputs": [
      {
       "output_type": "stream",
       "stream": "stdout",
       "text": [
        "set([0, 2, 4, 5, 7, 9])\n"
       ]
      }
     ],
     "prompt_number": 9
    },
    {
     "cell_type": "markdown",
     "metadata": {},
     "source": [
      "It returns the values that are in one set or another, but not in both."
     ]
    },
    {
     "cell_type": "markdown",
     "metadata": {},
     "source": [
      "Not all set methods return new sets. For example, `issubset` returns\n",
      "`True` or `False` depending on whether all the elements in one set are\n",
      "present in another:"
     ]
    },
    {
     "cell_type": "code",
     "collapsed": false,
     "input": [
      "print lows.issubset(ten)"
     ],
     "language": "python",
     "metadata": {},
     "outputs": [
      {
       "output_type": "stream",
       "stream": "stdout",
       "text": [
        "True\n"
       ]
      }
     ],
     "prompt_number": 10
    },
    {
     "cell_type": "markdown",
     "metadata": {},
     "source": [
      "A complementary method called `issuperset` also exists, and does the\n",
      "obvious thing:"
     ]
    },
    {
     "cell_type": "code",
     "collapsed": false,
     "input": [
      "print lows.issuperset(odds)"
     ],
     "language": "python",
     "metadata": {},
     "outputs": [
      {
       "output_type": "stream",
       "stream": "stdout",
       "text": [
        "False\n"
       ]
      }
     ],
     "prompt_number": 11
    },
    {
     "cell_type": "markdown",
     "metadata": {},
     "source": [
      "We can count how many values are in a set using `len` (just as we would\n",
      "to find the length of a list or string), and check whether a particular\n",
      "value is in the set or not using `in`:"
     ]
    },
    {
     "cell_type": "code",
     "collapsed": false,
     "input": [
      "print len(odds)"
     ],
     "language": "python",
     "metadata": {},
     "outputs": [
      {
       "output_type": "stream",
       "stream": "stdout",
       "text": [
        "5\n"
       ]
      }
     ],
     "prompt_number": 12
    },
    {
     "cell_type": "code",
     "collapsed": false,
     "input": [
      "print 6 in odds"
     ],
     "language": "python",
     "metadata": {},
     "outputs": [
      {
       "output_type": "stream",
       "stream": "stdout",
       "text": [
        "False\n"
       ]
      }
     ],
     "prompt_number": 13
    },
    {
     "cell_type": "markdown",
     "metadata": {},
     "source": [
      "Some methods modify the sets they are called for. The most commonly used\n",
      "is `add`, which adds an element to the set:"
     ]
    },
    {
     "cell_type": "code",
     "collapsed": false,
     "input": [
      "lows.add(9)\n",
      "print lows"
     ],
     "language": "python",
     "metadata": {},
     "outputs": [
      {
       "output_type": "stream",
       "stream": "stdout",
       "text": [
        "set([0, 1, 2, 3, 4, 9])\n"
       ]
      }
     ],
     "prompt_number": 14
    },
    {
     "cell_type": "markdown",
     "metadata": {},
     "source": [
      "If the thing being added is already in the set, `add` has no effect,\n",
      "because any specific thing can appear in a set at most once:"
     ]
    },
    {
     "cell_type": "code",
     "collapsed": false,
     "input": [
      "lows.add(9)\n",
      "print lows"
     ],
     "language": "python",
     "metadata": {},
     "outputs": [
      {
       "output_type": "stream",
       "stream": "stdout",
       "text": [
        "set([0, 1, 2, 3, 4, 9])\n"
       ]
      }
     ],
     "prompt_number": 15
    },
    {
     "cell_type": "markdown",
     "metadata": {},
     "source": [
      "This behavior is different from that of `list.append`, which always adds\n",
      "a new element to a list."
     ]
    },
    {
     "cell_type": "markdown",
     "metadata": {},
     "source": [
      "Finally, we can remove individual elements from the set:"
     ]
    },
    {
     "cell_type": "code",
     "collapsed": false,
     "input": [
      "lows.remove(0)\n",
      "print lows"
     ],
     "language": "python",
     "metadata": {},
     "outputs": [
      {
       "output_type": "stream",
       "stream": "stdout",
       "text": [
        "set([1, 2, 3, 4, 9])\n"
       ]
      }
     ],
     "prompt_number": 16
    },
    {
     "cell_type": "markdown",
     "metadata": {},
     "source": [
      "or clear it entirely:"
     ]
    },
    {
     "cell_type": "code",
     "collapsed": false,
     "input": [
      "lows.clear()\n",
      "print lows"
     ],
     "language": "python",
     "metadata": {},
     "outputs": [
      {
       "output_type": "stream",
       "stream": "stdout",
       "text": [
        "set([])\n"
       ]
      }
     ],
     "prompt_number": 17
    },
    {
     "cell_type": "markdown",
     "metadata": {},
     "source": [
      "Removing elements is similar to deleting things from a list, but there's\n",
      "an important difference. When we delete something from a list, we\n",
      "specify its *location*. When we delete something from a set, though, we\n",
      "must specify the *value* that we want to take out, because sets are not\n",
      "ordered. If that value isn't in the set, `remove` does nothing."
     ]
    },
    {
     "cell_type": "markdown",
     "metadata": {},
     "source": [
      "To help make programs easier to type and read, most of the methods we've\n",
      "just seen can be written using arithmetic operators as well. For\n",
      "example, instead of `lows.issubset(ten)`, we can write `lows <= ten`,\n",
      "just as if we were using pen and paper. There are even a couple of\n",
      "operators, like the strict subset test `<`, that don't have long-winded\n",
      "equivalents."
     ]
    },
    {
     "cell_type": "code",
     "collapsed": false,
     "input": [
      "ten = {0, 1, 2, 3, 4, 5, 6, 7, 8, 9}\n",
      "lows = {0, 1, 2, 3, 4}\n",
      "odds = {1, 3, 5, 7, 9}"
     ],
     "language": "python",
     "metadata": {},
     "outputs": [],
     "prompt_number": 18
    },
    {
     "cell_type": "markdown",
     "metadata": {},
     "source": [
      "<table>\n",
      "  <tr>\n",
      "    <th>Operation</th>\n",
      "    <th>As Method</th>\n",
      "    <th>Using Operator</th>\n",
      "  </tr>\n",
      "  <tr>\n",
      "    <td><em>difference</em></td>\n",
      "    <td><code>lows.difference(odds)</code></td>\n",
      "    <td><code>lows - odds</code></td>\n",
      "  </tr>\n",
      "  <tr>\n",
      "    <td><em>intersection</em></td>\n",
      "    <td><code>lows.intersection(odds)</code></td>\n",
      "    <td><code>lows &amp; odds</code></td>\n",
      "  </tr>\n",
      "  <tr>\n",
      "    <td><em>subset</em></td>\n",
      "    <td><code>lows.issubset(ten)</code></td>\n",
      "    <td><code>lows &lt;= ten</code></td>\n",
      "  </tr>\n",
      "  <tr>\n",
      "    <td><em>strict subset</em></td> <td></td>\n",
      "    <td><code>lows &lt; ten</code></td>\n",
      "  </tr>\n",
      "  <tr>\n",
      "    <td><em>superset</em></td>\n",
      "    <td><code>lows.issuperset(ten)</code></td>\n",
      "    <td><code>lows &gt;= odds</code></td>\n",
      "  </tr>\n",
      "  <tr>\n",
      "    <td><em>strict superset</em></td> <td></td>\n",
      "    <td><code>lows &gt;= odds</code></td>\n",
      "  </tr>\n",
      "  <tr>\n",
      "    <td><em>exclusive or</em></td>\n",
      "    <td><code>lows.symmetric_difference(odds)</code></td>\n",
      "    <td><code>lows ^ odds</code></td>\n",
      "  </tr>\n",
      "  <tr>\n",
      "    <td><em>union</em></td>\n",
      "    <td><code>lows.union(odds)</code></td>\n",
      "    <td><code>lows | odds</code></td>\n",
      "  </tr>\n",
      "</table>"
     ]
    },
    {
     "cell_type": "markdown",
     "metadata": {},
     "source": [
      "The fact that the values in a set are distinct makes them a convenient\n",
      "way to get rid of duplicate values, like the \"unique atoms\" problem at\n",
      "the start of this section. Suppose we have a file containing the names\n",
      "of all the atoms in our warehouse, and our task is to produce a list of\n",
      "the their types. Here's how simple that code is:"
     ]
    },
    {
     "cell_type": "code",
     "collapsed": false,
     "input": [
      "def unique_atoms(filename):\n",
      "    atoms = set()\n",
      "    with open(filename, 'r') as source:\n",
      "        for line in source:\n",
      "            name = line.strip()\n",
      "            atoms.add(name)\n",
      "    return atoms"
     ],
     "language": "python",
     "metadata": {},
     "outputs": [],
     "prompt_number": 19
    },
    {
     "cell_type": "markdown",
     "metadata": {},
     "source": [
      "We start by creating an empty set which we will fill with atomic symbols\n",
      "and opening the file containing our data. As we read the lines in the\n",
      "file, we strip off any whitespace (such as the newline character at the\n",
      "end of the line) and put the resulting strings in the set. When we're\n",
      "done, we print the set. If our input is the file:"
     ]
    },
    {
     "cell_type": "code",
     "collapsed": false,
     "input": [
      "!cat some_atoms.txt"
     ],
     "language": "python",
     "metadata": {},
     "outputs": [
      {
       "output_type": "stream",
       "stream": "stdout",
       "text": [
        "Na\r\n",
        "Fe\r\n",
        "Na\r\n",
        "Si\r\n",
        "Pd\r\n",
        "Na"
       ]
      }
     ],
     "prompt_number": 23
    },
    {
     "cell_type": "markdown",
     "metadata": {},
     "source": [
      "then our output is:"
     ]
    },
    {
     "cell_type": "code",
     "collapsed": false,
     "input": [
      "print unique_atoms('some_atoms.txt')"
     ],
     "language": "python",
     "metadata": {},
     "outputs": [
      {
       "output_type": "stream",
       "stream": "stdout",
       "text": [
        "set(['Na', 'Si', 'Fe', 'Pd'])\n"
       ]
      }
     ],
     "prompt_number": 24
    },
    {
     "cell_type": "markdown",
     "metadata": {},
     "source": [
      "The right atoms are there, but what are those extra square brackets for?\n",
      "The answer is that if we want to construct a set with values using\n",
      "`set()`, we have to pass those values in a single object, such as a\n",
      "list. This syntax does *not* work:"
     ]
    },
    {
     "cell_type": "code",
     "collapsed": false,
     "input": [
      "set('Na', 'Fe', 'Si', 'Pd')"
     ],
     "language": "python",
     "metadata": {},
     "outputs": [
      {
       "ename": "TypeError",
       "evalue": "set expected at most 1 arguments, got 4",
       "output_type": "pyerr",
       "traceback": [
        "\u001b[0;31m---------------------------------------------------------------------------\u001b[0m\n\u001b[0;31mTypeError\u001b[0m                                 Traceback (most recent call last)",
        "\u001b[0;32m<ipython-input-25-9812d46f58c1>\u001b[0m in \u001b[0;36m<module>\u001b[0;34m()\u001b[0m\n\u001b[0;32m----> 1\u001b[0;31m \u001b[0mset\u001b[0m\u001b[0;34m(\u001b[0m\u001b[0;34m'Na'\u001b[0m\u001b[0;34m,\u001b[0m \u001b[0;34m'Fe'\u001b[0m\u001b[0;34m,\u001b[0m \u001b[0;34m'Si'\u001b[0m\u001b[0;34m,\u001b[0m \u001b[0;34m'Pd'\u001b[0m\u001b[0;34m)\u001b[0m\u001b[0;34m\u001b[0m\u001b[0m\n\u001b[0m",
        "\u001b[0;31mTypeError\u001b[0m: set expected at most 1 arguments, got 4"
       ]
      }
     ],
     "prompt_number": 25
    },
    {
     "cell_type": "markdown",
     "metadata": {},
     "source": [
      "On the other hand,\n",
      "this means that we can construct a set from almost anything that a `for`\n",
      "loop can iterate over:"
     ]
    },
    {
     "cell_type": "code",
     "collapsed": false,
     "input": [
      "set('lithium')"
     ],
     "language": "python",
     "metadata": {},
     "outputs": [
      {
       "output_type": "pyout",
       "prompt_number": 26,
       "text": [
        "set(['i', 'h', 'm', 'l', 'u', 't'])"
       ]
      }
     ],
     "prompt_number": 26
    },
    {
     "cell_type": "markdown",
     "metadata": {},
     "source": [
      "But hang on: if we're adding characters to the set in the order `'l'`,\n",
      "`'i'`, `'t'`, `'h'`, `'i'`, `'u'`, `'m'`, why does Python show them in\n",
      "the order `'i'`, `'h'`, `'m'`, `'l'`, `'u'`, `'t'`? To answer that\n",
      "question, we need to look at how sets are actually stored, and why\n",
      "they're stored that way."
     ]
    },
    {
     "cell_type": "markdown",
     "metadata": {},
     "source": [
      "## Keypoints\n",
      "\n",
      "-   Use sets to store distinct unique values.\n",
      "-   Create sets using `set()` or `{v1, v2, ...}`.\n",
      "-   Sets are mutable, i.e., they can be updated in place like lists.\n",
      "-   A loop over a set produces each element once, in arbitrary order.\n",
      "-   Use sets to find unique things."
     ]
    }
   ],
   "metadata": {}
  }
 ]
}