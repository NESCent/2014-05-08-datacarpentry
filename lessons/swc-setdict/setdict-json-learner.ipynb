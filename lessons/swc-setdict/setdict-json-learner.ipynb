{
 "metadata": {
  "name": "setdict-json-learner"
 },
 "nbformat": 3,
 "nbformat_minor": 0,
 "worksheets": [
  {
   "cells": [
    {
     "cell_type": "heading",
     "level": 1,
     "metadata": {},
     "source": [
      "Sets and Dictionaries in Python: JSON (Learner Version)"
     ]
    },
    {
     "cell_type": "markdown",
     "metadata": {},
     "source": [
      "## Objectives\n",
      "\n",
      "* Correctly define \"JSON\" and give simple examples of valid JSON structures.\n",
      "* Describe JSON's strengths and weaknesses as a storage format.\n",
      "* Write code to read and write JSON-formatted data files using standard libraries."
     ]
    },
    {
     "cell_type": "markdown",
     "metadata": {},
     "source": [
      "## Lesson\n",
      "\n",
      "* Custom data formats require custom code, which requires debugging and maintenance\n",
      "* Use JavaScript Object Notation (JSON) instead\n",
      "* Represent any mix of numbers, strings, Booleans, `None`, lists, and dictionaries\n",
      "* Can be written and read by many languages"
     ]
    },
    {
     "cell_type": "code",
     "collapsed": false,
     "input": [
      "import json\n",
      "birthdays = {'Curie' : 1867, 'Hopper' : 1906, 'Franklin' : 1920}\n",
      "as_string = json.dumps(birthdays)\n",
      "print as_string\n",
      "print type(as_string)"
     ],
     "language": "python",
     "metadata": {},
     "outputs": [
      {
       "output_type": "stream",
       "stream": "stdout",
       "text": [
        "{\"Curie\": 1867, \"Hopper\": 1906, \"Franklin\": 1920}\n",
        "<type 'str'>\n"
       ]
      }
     ],
     "prompt_number": 1
    },
    {
     "cell_type": "code",
     "collapsed": false,
     "input": [
      "writer = open('/tmp/example.json', 'w')\n",
      "json.dump(birthdays, writer)\n",
      "writer.close()\n",
      "\n",
      "reader = open('/tmp/example.json', 'r')\n",
      "duplicate = json.load(reader)\n",
      "reader.close()\n",
      "\n",
      "print 'original:', birthdays"
     ],
     "language": "python",
     "metadata": {},
     "outputs": [
      {
       "output_type": "stream",
       "stream": "stdout",
       "text": [
        "original: {'Curie': 1867, 'Hopper': 1906, 'Franklin': 1920}\n"
       ]
      }
     ],
     "prompt_number": 2
    },
    {
     "cell_type": "code",
     "collapsed": false,
     "input": [
      "print 'duplicate:', duplicate"
     ],
     "language": "python",
     "metadata": {},
     "outputs": [
      {
       "output_type": "stream",
       "stream": "stdout",
       "text": [
        "duplicate: {u'Curie': 1867, u'Hopper': 1906, u'Franklin': 1920}\n"
       ]
      }
     ],
     "prompt_number": 5
    },
    {
     "cell_type": "markdown",
     "metadata": {},
     "source": [
      "* Note: strings are Unicode"
     ]
    },
    {
     "cell_type": "markdown",
     "metadata": {},
     "source": [
      "* Data read in is the same:"
     ]
    },
    {
     "cell_type": "code",
     "collapsed": false,
     "input": [
      "print 'original == duplicate:', birthdays == duplicate"
     ],
     "language": "python",
     "metadata": {},
     "outputs": [
      {
       "output_type": "stream",
       "stream": "stdout",
       "text": [
        "original == duplicate: True\n"
       ]
      }
     ],
     "prompt_number": 6
    },
    {
     "cell_type": "markdown",
     "metadata": {},
     "source": [
      "* But it's a new copy:"
     ]
    },
    {
     "cell_type": "code",
     "collapsed": false,
     "input": [
      "print 'original is duplicate:', birthdays is duplicate"
     ],
     "language": "python",
     "metadata": {},
     "outputs": [
      {
       "output_type": "stream",
       "stream": "stdout",
       "text": [
        "original is duplicate: False\n"
       ]
      }
     ],
     "prompt_number": 7
    },
    {
     "cell_type": "code",
     "collapsed": false,
     "input": [
      "!cat /tmp/example.json"
     ],
     "language": "python",
     "metadata": {},
     "outputs": [
      {
       "output_type": "stream",
       "stream": "stdout",
       "text": [
        "{\"Curie\": 1867, \"Hopper\": 1906, \"Franklin\": 1920}"
       ]
      }
     ],
     "prompt_number": 8
    },
    {
     "cell_type": "markdown",
     "metadata": {},
     "source": [
      "* Inventory data file is now:"
     ]
    },
    {
     "cell_type": "code",
     "collapsed": false,
     "input": [
      "!cat inventory-03.json"
     ],
     "language": "python",
     "metadata": {},
     "outputs": [
      {
       "output_type": "stream",
       "stream": "stdout",
       "text": [
        "{\"He\" : 1, \"H\" : 4, \"O\" : 3}"
       ]
      }
     ],
     "prompt_number": 3
    },
    {
     "cell_type": "markdown",
     "metadata": {},
     "source": [
      "* Formulas file is now:"
     ]
    },
    {
     "cell_type": "code",
     "collapsed": false,
     "input": [
      "!cat formulas-03.json"
     ],
     "language": "python",
     "metadata": {},
     "outputs": [
      {
       "output_type": "stream",
       "stream": "stdout",
       "text": [
        "{\"helium\"   : {\"He\" : 1},\r\n",
        " \"water\"    : {\"H\" : 2, \"O\" : 1},\r\n",
        " \"hydrogen\" : {\"H\" : 2}}"
       ]
      }
     ],
     "prompt_number": 4
    },
    {
     "cell_type": "code",
     "collapsed": false,
     "input": [
      "def main(inventory_file, formula_file):\n",
      "    with open(inventory_file, 'r') as reader:\n",
      "        inventory = json.load(reader)\n",
      "    with open(formula_file, 'r') as reader:\n",
      "        formulas = json.load(reader)\n",
      "    counts = calculate_counts(inventory, formulas)\n",
      "    show_counts(counts)"
     ],
     "language": "python",
     "metadata": {},
     "outputs": [],
     "prompt_number": 9
    },
    {
     "cell_type": "markdown",
     "metadata": {},
     "source": [
      "* The `read_inventory` and `read_formulas` functions no longer need to be written (debugged, documented, maintained, ...)\n",
      "* Programs in other languages can read our data files\n",
      "* But JSON doesn't support comments\n",
      "* And doesn't handle aliasing"
     ]
    },
    {
     "cell_type": "markdown",
     "metadata": {},
     "source": [
      "## Key Points\n",
      "\n",
      "* The JSON data format can represent arbitrarily-nested lists and dictionaries containing strings, numbers, Booleans, and `None`.\n",
      "* Using JSON reduces the code we have to write ourselves and improves interoperability with other programming languages.\n",
      "* JSON doesn't allow for comments, and doesn't handle aliasing."
     ]
    }
   ],
   "metadata": {}
  }
 ]
}