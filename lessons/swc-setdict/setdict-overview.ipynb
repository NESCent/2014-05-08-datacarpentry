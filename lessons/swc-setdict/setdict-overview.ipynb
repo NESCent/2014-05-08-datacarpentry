{
 "metadata": {
  "name": "setdict-overview"
 },
 "nbformat": 3,
 "nbformat_minor": 0,
 "worksheets": [
  {
   "cells": [
    {
     "cell_type": "heading",
     "level": 1,
     "metadata": {},
     "source": [
      "Sets and Dictionaries in Python"
     ]
    },
    {
     "cell_type": "markdown",
     "metadata": {},
     "source": [
      "<h2>Motivation</h2>\n",
      "\n",
      "Fan Fullerene has just joined Molecules'R'Us, a nanotechnology startup\n",
      "that fabricates molecules using only the highest quality atoms. His\n",
      "first job is to build a simple inventory management system that compares\n",
      "incoming orders for molecules to the stock of atoms in the company's\n",
      "supercooled warehouse to see how many of those molecules we can build.\n",
      "For example, if the warehouse holds 20 hydrogen atoms, 5 oxygen atoms,\n",
      "and 11 nitrogen atoms, Fan could make 10 water molecules (H<sub>2</sub>O) or 6\n",
      "ammonia molecules (NH<sub>3</sub>), but could not make any methane (CH<sub>4</sub>)\n",
      "because there isn't any carbon.\n",
      "\n",
      "Fan could solve this problem using the tools we've seen so far. As we'll\n",
      "see, though, it's a lot more efficient to do it using a different data\n",
      "structure. And \"efficient\" means both \"takes less programmer time to\n",
      "create\" and \"takes less computer time to execute\": the data structures\n",
      "introduced in this chapter are both simpler to use and faster than the\n",
      "lists most programmers are introduced to first."
     ]
    },
    {
     "cell_type": "markdown",
     "metadata": {},
     "source": [
      "<h2>For Instructors</h2>\n",
      "\n",
      "The ostensible goal of this set of lessons is to introduce learners to\n",
      "non-linear data structures. Most have ony ever seen arrays or lists,\n",
      "i.e., things that are accessed using sequential numeric indices. Sets\n",
      "and dictionaries are usually their first exposure to accessing content\n",
      "by value rather than by location, and to the bigger idea that there are\n",
      "lots of other data structures they might want to learn about.\n",
      "(Unfortunately, there still isn't a good data structure handbook for\n",
      "Python programmers that we can point them at.)\n",
      "\n",
      "These lessons also introduce JSON as a general-purpose data format that\n",
      "requires less effort to work with than flat text or CSV. We discuss its\n",
      "shortcomings as well as its benefits to help learners see what forces\n",
      "are at play when designing and/or choosing data representations.\n",
      "\n",
      "Finally, these lessons are also our first chance to introduce the idea\n",
      "of computational complexity via back-of-the-envelope calculations of how\n",
      "the number of steps required to look things up in an unordered list\n",
      "grows with the number of things being looked up. We return to this idea\n",
      "in the [extended example of invasion percolation](dev.html), and to the\n",
      "notion that algorithmic improvements help more than tuning code, but\n",
      "this is a chance to touch on the idea in classes that don't get to that\n",
      "example. The discussion of hash tables is also good preparation for the\n",
      "discussion of [relational databases](db.html), but isn't required.\n",
      "\n",
      "Everything in this lesson except the final example on phylogenetic trees\n",
      "can be covered in two hours, assuming that only three short exercises\n",
      "are given (one for sets, one for basic dictionary operations, and one\n",
      "related to aggregation).\n",
      "\n",
      "-   Start with sets: they're a familiar concept, there's no confusion\n",
      "    between keys and values, and they are enough to motivate discussion\n",
      "    of hash tables.\n",
      "-   Python's requirement that entries in hash-based data structures be\n",
      "    immutable only makes sense once the mechanics of hash tables are\n",
      "    explained. Terms like \"hash codes\" and \"hash function\" also come up\n",
      "    in error messages and Python's documentation, so learners are likely\n",
      "    to become confused without some kind of hand-waving overview. Tuples\n",
      "    are also easy to explain as \"how to create immutable multi-part\n",
      "    keys\", and it's easy to explain why entries can't be looked up by\n",
      "    parts (e.g., why a tuple containing a first and a last name can't be\n",
      "    looked up by last name only) in terms of hash functions.\n",
      "-   Finally, explaining why hash tables are fast is a good first\n",
      "    encounter with the idea of \"big oh\" complexity.\n",
      "-   Once sets have been mastered, dictionaries can be explained as \"sets\n",
      "    with extra information attached to each entry\". The canonical\n",
      "    example\u2014counting things\u2014shows why that \"extra information\" is\n",
      "    useful. The original motivating problem then uses both a dictionary\n",
      "    and a dictionary of dictionaries; when introducing the latter,\n",
      "    compare it to a list of lists.\n",
      "-   Use the nanotechnology inventory example to re-emphasize how code is\n",
      "    build top-down by writing code as if desired functions existed, then\n",
      "    filling them in.\n",
      "-   Only tackle the phylogenetic tree example with very advanced\n",
      "    learners. The algorithm is usually presented as a table, which makes\n",
      "    an array a natural representation. Showing how and why to use\n",
      "    dictionaries instead is as important as showing vector operations\n",
      "    when introducing NumPy, but the example is hard to follow (and\n",
      "    debug) without a graphical representation of the evolving tree.\n",
      "\n",
      "<h3>Prerequisites</h3>\n",
      "\n",
      "Basic data types (strings, numbers, lists); loops; file I/O;\n",
      "conditionals; string operations; references and aliasing; creating\n",
      "functions; top-down development."
     ]
    },
    {
     "cell_type": "markdown",
     "metadata": {},
     "source": [
      "<h2>Lessons</h2>\n",
      "\n",
      "FIXME: add links"
     ]
    },
    {
     "cell_type": "markdown",
     "metadata": {},
     "source": [
      "<h2>Summary</h2>\n",
      "\n",
      "Every programmer meets lists (or arrays or matrices) early in her\n",
      "career. Many in science never meet sets and dictionaries, and that's a\n",
      "shame: they often make programs easier to write and faster to run at the\n",
      "same time.\n",
      "\n",
      "Before we leave this topic, try running the function `globals` at an\n",
      "interactive Python prompt:"
     ]
    },
    {
     "cell_type": "code",
     "collapsed": false,
     "input": [
      "globals()"
     ],
     "language": "python",
     "metadata": {},
     "outputs": [
      {
       "output_type": "pyout",
       "prompt_number": 1,
       "text": [
        "{'In': ['', u'globals()'],\n",
        " 'Out': {},\n",
        " '_': '',\n",
        " '__': '',\n",
        " '___': '',\n",
        " '__builtin__': <module '__builtin__' (built-in)>,\n",
        " '__builtins__': <module '__builtin__' (built-in)>,\n",
        " '__name__': '__main__',\n",
        " '_dh': [u'/Users/gwilson/bc/lessons/guide-setdict'],\n",
        " '_i': u'',\n",
        " '_i1': u'globals()',\n",
        " '_ih': ['', u'globals()'],\n",
        " '_ii': u'',\n",
        " '_iii': u'',\n",
        " '_oh': {},\n",
        " '_sh': <module 'IPython.core.shadowns' from '/Users/gwilson/anaconda/lib/python2.7/site-packages/IPython/core/shadowns.pyc'>,\n",
        " 'exit': <IPython.core.autocall.ZMQExitAutocall at 0x10238b8d0>,\n",
        " 'get_ipython': <bound method ZMQInteractiveShell.get_ipython of <IPython.zmq.zmqshell.ZMQInteractiveShell object at 0x10238b2d0>>,\n",
        " 'help': Type help() for interactive help, or help(object) for help about object.,\n",
        " 'quit': <IPython.core.autocall.ZMQExitAutocall at 0x10238b8d0>}"
       ]
      }
     ],
     "prompt_number": 1
    },
    {
     "cell_type": "markdown",
     "metadata": {},
     "source": [
      "That's right&mdash;Python actually stores the program's variables in a\n",
      "dictionary. In fact, it uses one dictionary for the global variables and\n",
      "one for each currently-active function call:"
     ]
    },
    {
     "cell_type": "code",
     "collapsed": false,
     "input": [
      "def example(first, second):\n",
      "    print 'locals in example:', locals()\n",
      "example(22, 33)"
     ],
     "language": "python",
     "metadata": {},
     "outputs": [
      {
       "output_type": "stream",
       "stream": "stdout",
       "text": [
        "locals in example: {'second': 33, 'first': 22}\n"
       ]
      }
     ],
     "prompt_number": 3
    },
    {
     "cell_type": "markdown",
     "metadata": {},
     "source": [
      "You now know everything you need to know in order to build a programming\n",
      "language of your own. But please don't: the world will be much better\n",
      "off if you keep doing science instead."
     ]
    }
   ],
   "metadata": {}
  }
 ]
}