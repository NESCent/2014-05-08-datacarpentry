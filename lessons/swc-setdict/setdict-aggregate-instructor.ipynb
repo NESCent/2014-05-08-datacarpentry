{
 "metadata": {
  "name": "setdict-aggregate-instructor"
 },
 "nbformat": 3,
 "nbformat_minor": 0,
 "worksheets": [
  {
   "cells": [
    {
     "cell_type": "heading",
     "level": 1,
     "metadata": {},
     "source": [
      "Sets and Dictionaries in Python: Aggregation (Instructor Version)"
     ]
    },
    {
     "cell_type": "markdown",
     "metadata": {},
     "source": [
      "## Objectives\n",
      "\n",
      "* Recognize problems that can be solved by aggregating values.\n",
      "* Use dictionaries to aggregate values.\n",
      "* Explain why actual data values should be used as initializers rather than \"impossible\" values."
     ]
    },
    {
     "cell_type": "markdown",
     "metadata": {},
     "source": [
      "## Lesson\n",
      "\n",
      "To see how useful dictionaries can be, let's switch tracks and do some\n",
      "birdwatching. We'll start by asking how early in the day we saw each\n",
      "kind of bird? Our data consists of the date and time of the observation,\n",
      "the bird's name, and an optional comment:"
     ]
    },
    {
     "cell_type": "code",
     "collapsed": false,
     "input": [
      "!cat some_birds.txt"
     ],
     "language": "python",
     "metadata": {},
     "outputs": [
      {
       "output_type": "stream",
       "stream": "stdout",
       "text": [
        "2010-07-03    05:38    loon\r\n",
        "2010-07-03    06:02    goose\r\n",
        "2010-07-03    06:07    loon\r\n",
        "2010-07-04    05:09    ostrich   # hallucinating?\r\n",
        "2010-07-04    05:29    loon"
       ]
      }
     ],
     "prompt_number": 1
    },
    {
     "cell_type": "markdown",
     "metadata": {},
     "source": [
      "Rephrasing our problem, we want the minimum of all the times associated\n",
      "with each bird name. If our data was stored in memory like this:"
     ]
    },
    {
     "cell_type": "markdown",
     "metadata": {},
     "source": [
      "    loon = ['05:38', '06:07', '05:20', ...]"
     ]
    },
    {
     "cell_type": "markdown",
     "metadata": {},
     "source": [
      "the solution would simply be `min(loon)`, and similarly for the other\n",
      "birds. However, we have to work with the data we have, so let's start by\n",
      "reading our data file and creating a list of tuples, each of which\n",
      "contains a date, time, and bird name as strings:"
     ]
    },
    {
     "cell_type": "code",
     "collapsed": false,
     "input": [
      "def read_observations(filename):\n",
      "    '''Read data, returning [(date, time, bird)...].'''\n",
      "\n",
      "    reader = open(filename, 'r')\n",
      "    result = []\n",
      "\n",
      "    for line in reader:\n",
      "        fields = line.split('#')[0].strip().split()\n",
      "        assert len(fields) == 3, 'Bad line \"%s\"' % line\n",
      "        result.append(fields)\n",
      "\n",
      "    return result"
     ],
     "language": "python",
     "metadata": {},
     "outputs": [],
     "prompt_number": 3
    },
    {
     "cell_type": "markdown",
     "metadata": {},
     "source": [
      "This function follows the pattern we've seen many times before. We set\n",
      "up by opening the input file and creating an empty list that we'll\n",
      "append records to. We then process each line of the file in turn.\n",
      "Splitting the line on the `'#'` character and taking the first part of\n",
      "the result gets rid of any comment that might be present; stripping off\n",
      "whitespace and then splitting breaks the remainder into fields.\n",
      "\n",
      "To prevent trouble later on, we check that there actually are three\n",
      "fields before going on. (An industrial-strength version of this function\n",
      "would also check that the date and time were properly formatted, but\n",
      "we'll skip that for now.) Once we've done our check, we append the\n",
      "triple containing the date, time, and bird name to the list we're going\n",
      "to return."
     ]
    },
    {
     "cell_type": "markdown",
     "metadata": {},
     "source": [
      "Here's the function that turns that list of tuples into a dictionary:"
     ]
    },
    {
     "cell_type": "code",
     "collapsed": false,
     "input": [
      "def earliest_observation(data):\n",
      "    '''How early did we see each bird?'''\n",
      "\n",
      "    result = {}\n",
      "    for (date, time, bird) in data:\n",
      "        if bird not in result:\n",
      "            result[bird] = time\n",
      "        else:\n",
      "            result[bird] = min(result[bird], time)\n",
      "\n",
      "    return result"
     ],
     "language": "python",
     "metadata": {},
     "outputs": [],
     "prompt_number": 4
    },
    {
     "cell_type": "markdown",
     "metadata": {},
     "source": [
      "Once again, the pattern should by now be familiar. We start by creating\n",
      "an empty dictionary, then use a loop to inspect each tuple in turn. The\n",
      "loop explodes the tuple into separate variables for the date, time and\n",
      "bird. If the bird's name is not already a key in our dictionary, this\n",
      "must be the first time we've seen it, so we store the time we saw it in\n",
      "the dictionary. If the bird's name is already there, on the other hand,\n",
      "we keep the minimum of the stored time and the new time. This is almost\n",
      "exactly the same as our earlier counting example, but instead of either\n",
      "storing 1 or adding 1 to the count so far, we're either storing the time\n",
      "or taking the minimum of it and the least time so far.\n",
      "\n",
      "Let's test what we've written so far:"
     ]
    },
    {
     "cell_type": "code",
     "collapsed": false,
     "input": [
      "entries = read_observations('some_birds.txt')\n",
      "result = earliest_observation(entries)\n",
      "print result"
     ],
     "language": "python",
     "metadata": {},
     "outputs": [
      {
       "output_type": "stream",
       "stream": "stdout",
       "text": [
        "{'loon': '05:29', 'goose': '06:02', 'ostrich': '05:09'}\n"
       ]
      }
     ],
     "prompt_number": 5
    },
    {
     "cell_type": "markdown",
     "metadata": {},
     "source": [
      "Now, what if we want to find out which birds were seen on particular\n",
      "days? Once again, we are [aggregating](glossary.html#aggregation)\n",
      "values, i.e., combining many separate values to create one new one.\n",
      "However, since we probably saw more than one kind of bird each day, that\n",
      "\"new value\" needs to be a collection of some kind. We're only interested\n",
      "in which birds we saw, so the right kind of collection is a set. Here's\n",
      "our function:"
     ]
    },
    {
     "cell_type": "code",
     "collapsed": false,
     "input": [
      "def birds_by_date(data):\n",
      "    '''Which birds were seen on each day?'''\n",
      "\n",
      "    result = {}\n",
      "    for (date, time, bird) in data:\n",
      "        if date not in result:\n",
      "            result[date] = {bird}\n",
      "        else:\n",
      "            result[date].add(bird)\n",
      "\n",
      "    return result\n",
      "\n",
      "print birds_by_date(entries)"
     ],
     "language": "python",
     "metadata": {},
     "outputs": [
      {
       "output_type": "stream",
       "stream": "stdout",
       "text": [
        "{'2010-07-04': set(['loon', 'ostrich']), '2010-07-03': set(['loon', 'goose'])}\n"
       ]
      }
     ],
     "prompt_number": 6
    },
    {
     "cell_type": "markdown",
     "metadata": {},
     "source": [
      "Again, we start by creating an empty dictionary, and then process each\n",
      "tuple in turn. Since we're recording birds by date, the keys in our\n",
      "dictionary are dates rather than bird names. If the current date isn't\n",
      "already a key in the dictionary, we create a set containing only this\n",
      "bird, and store it in the dictionary with the date as the key.\n",
      "Otherwise, we add this bird to the set associated with the date. (As\n",
      "always, we don't need to check whether the bird is already in that set,\n",
      "since the set will automatically eliminate any duplication.)\n",
      "\n",
      "Let's watch this function in action for the first few records from our\n",
      "data:\n",
      "\n",
      "<table>\n",
      "  <tr>\n",
      "    <th>Input</th>\n",
      "    <th>Dictionary</th>\n",
      "  </tr>\n",
      "  <tr>\n",
      "    <td><em>start</em></td>\n",
      "    <td><code>{}</code></td>\n",
      "  </tr>\n",
      "  <tr>\n",
      "    <td><code>2010-07-03&nbsp;&nbsp;05:38&nbsp;&nbsp;loon</code></td>\n",
      "    <td><code>{'2010-07-03' : {'loon'}}</code></td>\n",
      "  </tr>\n",
      "  <tr>\n",
      "    <td><code>2010-07-03&nbsp;&nbsp;06:02&nbsp;&nbsp;goose</code></td>\n",
      "    <td><code>{'2010-07-03' : {'goose', 'loon'}}</code></td>\n",
      "  </tr>\n",
      "  <tr>\n",
      "    <td><code>2010-07-03&nbsp;&nbsp;06:07&nbsp;&nbsp;loon</code></td>\n",
      "    <td><code>{'2010-07-03' : {'goose', 'loon'}}</code></td>\n",
      "  </tr>\n",
      "  <tr>\n",
      "    <td><code>2010-07-04&nbsp;&nbsp;05:09&nbsp;&nbsp;ostrich</code></td>\n",
      "    <td><code>{'2010-07-03' : {'goose', 'loon'}, '2010-07-04' : {'ostrich'}}</code></td>\n",
      "  </tr>\n",
      "  <tr>\n",
      "    <td><code>2010-07-04&nbsp;&nbsp;05:29&nbsp;&nbsp;loon</code></td>\n",
      "    <td><code>{'2010-07-03' : {'goose', 'loon'}, '2010-07-04' : {'ostrich', 'loon'}}</code></td>\n",
      "  </tr>\n",
      "</table>"
     ]
    },
    {
     "cell_type": "markdown",
     "metadata": {},
     "source": [
      "For our last example, we'll figure out which bird we saw least\n",
      "frequently\u2014or rather, which *birds*, since two or more may be tied for\n",
      "the low score. Forgetting that values may not be unique is a common\n",
      "mistake in data crunching, and often a hard one to track down.\n",
      "\n",
      "Our first strategy is simple: figure out how many times we've seen each\n",
      "bird, then find the minimum of those counts and get the set of birds\n",
      "we've seen that many times. The function below implements this fairly\n",
      "directly:"
     ]
    },
    {
     "cell_type": "code",
     "collapsed": false,
     "input": [
      "def least_common_birds(data):\n",
      "    '''Which bird or birds have been seen least frequently?'''\n",
      "    \n",
      "    counts = count_by_bird(data) # need to write this\n",
      "    least = min(counts.values())\n",
      "    result = set()\n",
      "    for bird in counts:\n",
      "        if counts[bird] == least:\n",
      "            result.add(bird)\n",
      "    return result"
     ],
     "language": "python",
     "metadata": {},
     "outputs": [],
     "prompt_number": 7
    },
    {
     "cell_type": "markdown",
     "metadata": {},
     "source": [
      "`least_common_birds` depends on a function `count_by_bird`, but this is\n",
      "yet another example of using a dictionary to aggregate values (in this\n",
      "case, to sum the number of birds we have seen). Just for variety's sake,\n",
      "we'll use a slightly different strategy that we've used before: whenever\n",
      "we see a new kind of bird, we'll set its count to zero, and then always\n",
      "add one to the stored count:"
     ]
    },
    {
     "cell_type": "code",
     "collapsed": false,
     "input": [
      "def count_by_bird(data):\n",
      "    '''How many times was each bird seen?'''\n",
      "    result = {}\n",
      "    for (date, time, bird) in data:\n",
      "        if bird not in result:\n",
      "            result[bird] = 0\n",
      "        result[bird] += 1\n",
      "    return result"
     ],
     "language": "python",
     "metadata": {},
     "outputs": [],
     "prompt_number": 8
    },
    {
     "cell_type": "markdown",
     "metadata": {},
     "source": [
      "Finally, we'll test our function:"
     ]
    },
    {
     "cell_type": "code",
     "collapsed": false,
     "input": [
      "print least_common_birds(entries)"
     ],
     "language": "python",
     "metadata": {},
     "outputs": [
      {
       "output_type": "stream",
       "stream": "stdout",
       "text": [
        "set(['goose', 'ostrich'])\n"
       ]
      }
     ],
     "prompt_number": 9
    },
    {
     "cell_type": "markdown",
     "metadata": {},
     "source": [
      "This does the job, but is somewhat inefficient: we do one pass through\n",
      "all the data while counting birds, then another pass through all the\n",
      "birds to find those that we've seen the least number of times. We can\n",
      "actually do the whole job with a single pass through the data, but as\n",
      "we'll see in the challenges, the resulting code is significantly more\n",
      "complex than what we have written so far. Unless we're sure that the\n",
      "second pass is really a performance bottleneck, we should stick with\n",
      "this simple implementation."
     ]
    },
    {
     "cell_type": "markdown",
     "metadata": {},
     "source": [
      "## Key Points\n",
      "\n",
      "* Use dictionaries to count things.\n",
      "* Initialize values from actual data instead of trying to guess what values could \"never\" occur."
     ]
    }
   ],
   "metadata": {}
  }
 ]
}