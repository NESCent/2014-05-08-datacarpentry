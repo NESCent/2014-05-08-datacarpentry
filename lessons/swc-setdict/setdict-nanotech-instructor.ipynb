{
 "metadata": {
  "name": "setdict-nanotech-instructor"
 },
 "nbformat": 3,
 "nbformat_minor": 0,
 "worksheets": [
  {
   "cells": [
    {
     "cell_type": "heading",
     "level": 1,
     "metadata": {},
     "source": [
      "Sets and Dictionaries in Python: Nanotech Inventory (Instructor Version)"
     ]
    },
    {
     "cell_type": "markdown",
     "metadata": {},
     "source": [
      "## Objectives\n",
      "\n",
      "* Create and manipulate nested dictionaries.\n",
      "* Explain the similarities and differences between nested dictionaries and nested lists."
     ]
    },
    {
     "cell_type": "markdown",
     "metadata": {},
     "source": [
      "## Lesson\n",
      "\n",
      "We can now solve Fan's original nanotech inventory problem. As explained\n",
      "in the introduction, our goal is to find out how many molecules of\n",
      "various kinds we can make using the atoms in our warehouse. The number\n",
      "of molecules of any particular type we can make is limited by the\n",
      "scarcest atom that molecule requires. For example, if we have five\n",
      "nitrogen atoms and ten hydrogen atoms, we can only make three ammonia\n",
      "molecules, because we need three hydrogen atoms for each.\n",
      "\n",
      "The formulas for the molecules we know how to make are stored in a file\n",
      "like this:"
     ]
    },
    {
     "cell_type": "code",
     "collapsed": false,
     "input": [
      "!cat formulas-03.txt"
     ],
     "language": "python",
     "metadata": {},
     "outputs": [
      {
       "output_type": "stream",
       "stream": "stdout",
       "text": [
        "# Molecular formula file\r\n",
        "\r\n",
        "helium : He 1\r\n",
        "water : H 2 O 1\r\n",
        "hydrogen : H 2"
       ]
      }
     ],
     "prompt_number": 11
    },
    {
     "cell_type": "markdown",
     "metadata": {},
     "source": [
      "and our inventory is stored in a file like this:"
     ]
    },
    {
     "cell_type": "code",
     "collapsed": false,
     "input": [
      "!cat inventory-03.txt"
     ],
     "language": "python",
     "metadata": {},
     "outputs": [
      {
       "output_type": "stream",
       "stream": "stdout",
       "text": [
        "# Atomic inventory file\r\n",
        "He 1\r\n",
        "H 4\r\n",
        "O 3"
       ]
      }
     ],
     "prompt_number": 12
    },
    {
     "cell_type": "markdown",
     "metadata": {},
     "source": [
      "Let's start by reading in our inventory. It consists of pairs of strings\n",
      "and numbers, which by now should suggest using a dictionary for storage.\n",
      "The keys will be atomic symbols, and the values will be the number of\n",
      "atoms of that kind we currently have. \n",
      "If an atom isn't listed in our inventory, we'll assume that we don't have any.\n",
      "\n",
      "<img src=\"files/nanotech_inventory.png\" alt=\"Inventory in Memory\" />"
     ]
    },
    {
     "cell_type": "markdown",
     "metadata": {},
     "source": [
      "What about the formulas for the molecules we know how to make? Once\n",
      "again, we want to use strings\u2014the names of molecules\u2014as indices, which\n",
      "suggests a dictionary. Each of its values will be something storing\n",
      "atomic symbols and the number of atoms of that type in the molecule\u2014the\n",
      "same structure, in fact, that we're using for our inventory.\n",
      "The diagram below shows what this looks like in memory if the\n",
      "only molecules we know how to make are water and ammonia.\n",
      "\n",
      "<img src=\"files/nanotech_formulas.png\" alt=\"Formulas in Memory\" />"
     ]
    },
    {
     "cell_type": "markdown",
     "metadata": {},
     "source": [
      "Finally, we'll store the results of our calculation in yet another\n",
      "dictionary, this one mapping the names of molecules to how many\n",
      "molecules of that kind we can make,\n",
      "and display like this:\n",
      "\n",
      "```\n",
      "helium 1\n",
      "hydrogen 2\n",
      "water 2\n",
      "```"
     ]
    },
    {
     "cell_type": "markdown",
     "metadata": {},
     "source": [
      "The main body of the program is straightforward. It reads in the input\n",
      "files, does our calculation, and prints the result:"
     ]
    },
    {
     "cell_type": "code",
     "collapsed": false,
     "input": [
      "def main(inventory_file, formula_file):\n",
      "    inventory = read_inventory(inventory_file)\n",
      "    formulas = read_formulas(formula_file)\n",
      "    counts = calculate_counts(inventory, formulas)\n",
      "    show_counts(counts)"
     ],
     "language": "python",
     "metadata": {},
     "outputs": [],
     "prompt_number": 13
    },
    {
     "cell_type": "markdown",
     "metadata": {},
     "source": [
      "Reading the inventory file is simple. We take each interesting line in\n",
      "the file, split it to get an atomic symbol and a count, and store them\n",
      "together in a dictionary:"
     ]
    },
    {
     "cell_type": "code",
     "collapsed": false,
     "input": [
      "def read_inventory(inventory_file):\n",
      "    result = {}\n",
      "    with open(inventory_file, 'r') as reader:\n",
      "        for line in reader:\n",
      "            name, count = line.strip().split()\n",
      "            result[name] = int(count)\n",
      "    return result"
     ],
     "language": "python",
     "metadata": {},
     "outputs": [],
     "prompt_number": 14
    },
    {
     "cell_type": "markdown",
     "metadata": {},
     "source": [
      "Let's test it:"
     ]
    },
    {
     "cell_type": "code",
     "collapsed": false,
     "input": [
      "print read_inventory('inventory-03.txt')"
     ],
     "language": "python",
     "metadata": {},
     "outputs": [
      {
       "ename": "ValueError",
       "evalue": "too many values to unpack",
       "output_type": "pyerr",
       "traceback": [
        "\u001b[0;31m---------------------------------------------------------------------------\u001b[0m\n\u001b[0;31mValueError\u001b[0m                                Traceback (most recent call last)",
        "\u001b[0;32m<ipython-input-15-c05b7b912bfb>\u001b[0m in \u001b[0;36m<module>\u001b[0;34m()\u001b[0m\n\u001b[0;32m----> 1\u001b[0;31m \u001b[0;32mprint\u001b[0m \u001b[0mread_inventory\u001b[0m\u001b[0;34m(\u001b[0m\u001b[0;34m'inventory-03.txt'\u001b[0m\u001b[0;34m)\u001b[0m\u001b[0;34m\u001b[0m\u001b[0m\n\u001b[0m",
        "\u001b[0;32m<ipython-input-14-d5dd028eb45b>\u001b[0m in \u001b[0;36mread_inventory\u001b[0;34m(inventory_file)\u001b[0m\n\u001b[1;32m      3\u001b[0m     \u001b[0;32mwith\u001b[0m \u001b[0mopen\u001b[0m\u001b[0;34m(\u001b[0m\u001b[0minventory_file\u001b[0m\u001b[0;34m,\u001b[0m \u001b[0;34m'r'\u001b[0m\u001b[0;34m)\u001b[0m \u001b[0;32mas\u001b[0m \u001b[0mreader\u001b[0m\u001b[0;34m:\u001b[0m\u001b[0;34m\u001b[0m\u001b[0m\n\u001b[1;32m      4\u001b[0m         \u001b[0;32mfor\u001b[0m \u001b[0mline\u001b[0m \u001b[0;32min\u001b[0m \u001b[0mreader\u001b[0m\u001b[0;34m:\u001b[0m\u001b[0;34m\u001b[0m\u001b[0m\n\u001b[0;32m----> 5\u001b[0;31m             \u001b[0mname\u001b[0m\u001b[0;34m,\u001b[0m \u001b[0mcount\u001b[0m \u001b[0;34m=\u001b[0m \u001b[0mline\u001b[0m\u001b[0;34m.\u001b[0m\u001b[0mstrip\u001b[0m\u001b[0;34m(\u001b[0m\u001b[0;34m)\u001b[0m\u001b[0;34m.\u001b[0m\u001b[0msplit\u001b[0m\u001b[0;34m(\u001b[0m\u001b[0;34m)\u001b[0m\u001b[0;34m\u001b[0m\u001b[0m\n\u001b[0m\u001b[1;32m      6\u001b[0m             \u001b[0mresult\u001b[0m\u001b[0;34m[\u001b[0m\u001b[0mname\u001b[0m\u001b[0;34m]\u001b[0m \u001b[0;34m=\u001b[0m \u001b[0mint\u001b[0m\u001b[0;34m(\u001b[0m\u001b[0mcount\u001b[0m\u001b[0;34m)\u001b[0m\u001b[0;34m\u001b[0m\u001b[0m\n\u001b[1;32m      7\u001b[0m     \u001b[0;32mreturn\u001b[0m \u001b[0mresult\u001b[0m\u001b[0;34m\u001b[0m\u001b[0m\n",
        "\u001b[0;31mValueError\u001b[0m: too many values to unpack"
       ]
      }
     ],
     "prompt_number": 15
    },
    {
     "cell_type": "markdown",
     "metadata": {},
     "source": [
      "Our mistake was to forget that files can contain blank lines and\n",
      "comments. It's easy enough to modify the function to handle them, though\n",
      "it complicates the logic:"
     ]
    },
    {
     "cell_type": "code",
     "collapsed": false,
     "input": [
      "def read_inventory(inventory_file):\n",
      "    result = {}\n",
      "    with open(inventory_file, 'r') as reader:\n",
      "        for line in reader:\n",
      "            line = line.strip()\n",
      "            if (not line) or line.startswith('#'):\n",
      "                continue\n",
      "            name, count = line.split()\n",
      "            result[name] = int(count)\n",
      "    return result\n",
      "\n",
      "print read_inventory('inventory-03.txt')"
     ],
     "language": "python",
     "metadata": {},
     "outputs": [
      {
       "output_type": "stream",
       "stream": "stdout",
       "text": [
        "{'H': 4, 'O': 3, 'He': 1}"
       ]
      },
      {
       "output_type": "stream",
       "stream": "stdout",
       "text": [
        "\n"
       ]
      }
     ],
     "prompt_number": 16
    },
    {
     "cell_type": "markdown",
     "metadata": {},
     "source": [
      "The next step is to read the files containing formulas. Since the file\n",
      "format is more complicated, the function is as well. In fact, it's\n",
      "complicated enough that we'll come back later and simplify it."
     ]
    },
    {
     "cell_type": "markdown",
     "metadata": {},
     "source": [
      "FIXME: diagram"
     ]
    },
    {
     "cell_type": "code",
     "collapsed": false,
     "input": [
      "def read_formulas(formula_file):\n",
      "    result = {}\n",
      "    with open(formula_file, 'r') as reader:\n",
      "        for line in reader:\n",
      "            line = line.strip()\n",
      "            if (not line) or line.startswith('#'):\n",
      "                continue\n",
      "            name, atoms = line.split(':')\n",
      "            name = name.strip()\n",
      "            atoms = atoms.strip().split()\n",
      "    \n",
      "            formula = {}\n",
      "            for i in range(0, len(atoms), 2):\n",
      "                symbol = atoms[i].strip()\n",
      "                count = int(atoms[i+1])\n",
      "                formula[symbol] = count\n",
      "            result[name] = formula\n",
      "\n",
      "    return result"
     ],
     "language": "python",
     "metadata": {},
     "outputs": [],
     "prompt_number": 17
    },
    {
     "cell_type": "markdown",
     "metadata": {},
     "source": [
      "We start by creating a dictionary to hold our results. We then split\n",
      "each interesting line in the data file on the colon ':' to separate the\n",
      "molecule's name (which may contain spaces) from its formula. We then\n",
      "split the formulas into a list of strings. These alternate between\n",
      "atomic symbols and numbers, so in the inner loop, we move forward\n",
      "through those values two elements at a time, storing the atomic symbol\n",
      "and count in a dictionary. Once we're done, we store that dictionary as\n",
      "the value for the molecule name in the main dictionary. When we've\n",
      "processed all the lines, we return the final result. Here's a simple\n",
      "test:"
     ]
    },
    {
     "cell_type": "code",
     "collapsed": false,
     "input": [
      "print read_formulas('formulas-03.txt')"
     ],
     "language": "python",
     "metadata": {},
     "outputs": [
      {
       "output_type": "stream",
       "stream": "stdout",
       "text": [
        "{'water': {'H': 2, 'O': 1}, 'hydrogen': {'H': 2}, 'helium': {'He': 1}}\n"
       ]
      }
     ],
     "prompt_number": 18
    },
    {
     "cell_type": "markdown",
     "metadata": {},
     "source": [
      "Now that we have all our data, it's time to calculate how many molecules\n",
      "of each kind we can make. `inventory` maps atomic symbols to counts, and\n",
      "so does `formulas[name]`, so let's loop over all the molecules we know\n",
      "how to make and \"divide\" the inventory by each one:"
     ]
    },
    {
     "cell_type": "code",
     "collapsed": false,
     "input": [
      "def calculate_counts(inventory, formulas):\n",
      "    counts = {}\n",
      "    for name in formulas:\n",
      "        counts[name] = dict_divide(inventory, formulas[name])\n",
      "    return counts"
     ],
     "language": "python",
     "metadata": {},
     "outputs": [],
     "prompt_number": 19
    },
    {
     "cell_type": "markdown",
     "metadata": {},
     "source": [
      "We say we're \"dividing\" the inventory by each molecule because we're\n",
      "trying to find out how many of that molecule we can make without\n",
      "requiring more of any particular atom than we actually have. (By\n",
      "analogy, when we divide 11 by 3, we're trying to find out how many 3's\n",
      "we can make from 11.) The function that does the division is:"
     ]
    },
    {
     "cell_type": "code",
     "collapsed": false,
     "input": [
      "def dict_divide(inventory, molecule):\n",
      "    number = None\n",
      "    for atom in molecule:\n",
      "        required = molecule[atom]\n",
      "        available = inventory.get(atom, 0)\n",
      "        limit = available / required\n",
      "        if (number is None) or (limit < number):\n",
      "            number = limit\n",
      "    return number"
     ],
     "language": "python",
     "metadata": {},
     "outputs": [],
     "prompt_number": 20
    },
    {
     "cell_type": "markdown",
     "metadata": {},
     "source": [
      "This function loops over all the atoms in the molecule we're trying to\n",
      "build, see what limit the available inventory puts on us, and return the\n",
      "minimum of all those results. This function uses a few patterns that\n",
      "come up frequently in many kinds of programs:\n",
      "\n",
      "1.  The first pattern is to initialize the value we're going to return\n",
      "    to `None`, then test for that value inside the loop to make sure we\n",
      "    re-set it to a legal value the first time we have real data. In this\n",
      "    case, we could just as easily use -1 or some other impossible value\n",
      "    as an \"uninitialized\" flag for `number`.\n",
      "2.  Since we're looping over the keys of `molecule`, we know that we can\n",
      "    get the value stored in `molecule[atom]`. However, that atom might\n",
      "    not be a key in `inventory`, so we use `inventory.get(atom, 0)` to\n",
      "    get either the stored value or a sensible default. In this case\n",
      "    zero, the sensible default is 0, because if the atom's symbol isn't\n",
      "    in the dictionary, we don't have any of it. This is our second\n",
      "    pattern.\n",
      "3.  The third is using calculate, test, and store to find a single\n",
      "    value\u2014in this case, the minimum\u2014from a set of calculated values. We\n",
      "    could calculate the list of available over required values, then\n",
      "    find the minimum of the list, but doing the minimum test as we go\n",
      "    along saves us having to store the list of intermediate values. It's\n",
      "    probably not a noticeable time saving in this case, but it would be\n",
      "    with larger data sets."
     ]
    },
    {
     "cell_type": "markdown",
     "metadata": {},
     "source": [
      "The last step in building our program is to show how many molecules of\n",
      "each kind we can make. We could just loop over our result dictionary,\n",
      "printing each molecule's name and the number of times we could make it,\n",
      "but let's put the results in alphabetical order to make it easier to\n",
      "read:"
     ]
    },
    {
     "cell_type": "code",
     "collapsed": false,
     "input": [
      "def show_counts(counts):\n",
      "    names = counts.keys()\n",
      "    names.sort()\n",
      "    for name in names:\n",
      "        print name, counts[name]"
     ],
     "language": "python",
     "metadata": {},
     "outputs": [],
     "prompt_number": 21
    },
    {
     "cell_type": "markdown",
     "metadata": {},
     "source": [
      "It's time to test our code. Let's start by using an empty inventory and\n",
      "a single formula:"
     ]
    },
    {
     "cell_type": "code",
     "collapsed": false,
     "input": [
      "!cat inventory-00.txt"
     ],
     "language": "python",
     "metadata": {},
     "outputs": [],
     "prompt_number": 22
    },
    {
     "cell_type": "code",
     "collapsed": false,
     "input": [
      "!cat formulas-00.txt"
     ],
     "language": "python",
     "metadata": {},
     "outputs": [],
     "prompt_number": 23
    },
    {
     "cell_type": "code",
     "collapsed": false,
     "input": [
      "main('inventory-00.txt', 'formulas-00.txt')"
     ],
     "language": "python",
     "metadata": {},
     "outputs": [],
     "prompt_number": 24
    },
    {
     "cell_type": "markdown",
     "metadata": {},
     "source": [
      "There's no output, which is what we expect. Let's add a formula but no atoms:"
     ]
    },
    {
     "cell_type": "code",
     "collapsed": false,
     "input": [
      "!cat formulas-01.txt"
     ],
     "language": "python",
     "metadata": {},
     "outputs": [
      {
       "output_type": "stream",
       "stream": "stdout",
       "text": [
        "helium : He 1"
       ]
      }
     ],
     "prompt_number": 26
    },
    {
     "cell_type": "code",
     "collapsed": false,
     "input": [
      "main('inventory-00.txt', 'formulas-01.txt')"
     ],
     "language": "python",
     "metadata": {},
     "outputs": [
      {
       "output_type": "stream",
       "stream": "stdout",
       "text": [
        "helium"
       ]
      },
      {
       "output_type": "stream",
       "stream": "stdout",
       "text": [
        " 0\n"
       ]
      }
     ],
     "prompt_number": 27
    },
    {
     "cell_type": "markdown",
     "metadata": {},
     "source": [
      "and now an atom:"
     ]
    },
    {
     "cell_type": "code",
     "collapsed": false,
     "input": [
      "!cat inventory-01.txt"
     ],
     "language": "python",
     "metadata": {},
     "outputs": [
      {
       "output_type": "stream",
       "stream": "stdout",
       "text": [
        "He 1"
       ]
      }
     ],
     "prompt_number": 29
    },
    {
     "cell_type": "code",
     "collapsed": false,
     "input": [
      "main('inventory-01.txt', 'formulas-01.txt')"
     ],
     "language": "python",
     "metadata": {},
     "outputs": [
      {
       "output_type": "stream",
       "stream": "stdout",
       "text": [
        "helium 1\n"
       ]
      }
     ],
     "prompt_number": 30
    },
    {
     "cell_type": "markdown",
     "metadata": {},
     "source": [
      "That seems right as well. Let's add some hydrogen and another formula:"
     ]
    },
    {
     "cell_type": "code",
     "collapsed": false,
     "input": [
      "!cat inventory-02.txt"
     ],
     "language": "python",
     "metadata": {},
     "outputs": [
      {
       "output_type": "stream",
       "stream": "stdout",
       "text": [
        "He 1\r\n",
        "H 4"
       ]
      }
     ],
     "prompt_number": 31
    },
    {
     "cell_type": "code",
     "collapsed": false,
     "input": [
      "!cat formulas-02.txt"
     ],
     "language": "python",
     "metadata": {},
     "outputs": [
      {
       "output_type": "stream",
       "stream": "stdout",
       "text": [
        "helium : He 1\r\n",
        "water : H 2 O 1"
       ]
      }
     ],
     "prompt_number": 33
    },
    {
     "cell_type": "code",
     "collapsed": false,
     "input": [
      "main('inventory-02.txt', 'formulas-02.txt')"
     ],
     "language": "python",
     "metadata": {},
     "outputs": [
      {
       "output_type": "stream",
       "stream": "stdout",
       "text": [
        "helium 1\n",
        "water 0\n"
       ]
      }
     ],
     "prompt_number": 34
    },
    {
     "cell_type": "markdown",
     "metadata": {},
     "source": [
      "The output doesn't change, which is correct. Our final test adds some oxygen:"
     ]
    },
    {
     "cell_type": "code",
     "collapsed": false,
     "input": [
      "!cat inventory-03.txt"
     ],
     "language": "python",
     "metadata": {},
     "outputs": [
      {
       "output_type": "stream",
       "stream": "stdout",
       "text": [
        "# Atomic inventory file\r\n",
        "He 1\r\n",
        "H 4\r\n",
        "O 3"
       ]
      }
     ],
     "prompt_number": 35
    },
    {
     "cell_type": "code",
     "collapsed": false,
     "input": [
      "main('inventory-03.txt', 'formulas-02.txt')"
     ],
     "language": "python",
     "metadata": {},
     "outputs": [
      {
       "output_type": "stream",
       "stream": "stdout",
       "text": [
        "helium 1\n",
        "water 2\n"
       ]
      }
     ],
     "prompt_number": 36
    },
    {
     "cell_type": "markdown",
     "metadata": {},
     "source": [
      "That's right too: we can make two water molecules (because we don't have\n",
      "enough hydrogen to pair with our three oxygen atoms)."
     ]
    },
    {
     "cell_type": "markdown",
     "metadata": {},
     "source": [
      "There are quite a few other interesting tests still to run, but before\n",
      "we do that, we should clean up our code. Both of our input functions\n",
      "handle comments and blank lines the same way; let's put that code in a\n",
      "helper function:"
     ]
    },
    {
     "cell_type": "code",
     "collapsed": false,
     "input": [
      "def readlines(filename):\n",
      "    result = []\n",
      "    with open(filename, 'r') as reader:\n",
      "        for line in reader:\n",
      "            line = line.strip()\n",
      "            if line and (not line.startswith('#')):\n",
      "                result.append(line)\n",
      "    return result"
     ],
     "language": "python",
     "metadata": {},
     "outputs": [],
     "prompt_number": 37
    },
    {
     "cell_type": "markdown",
     "metadata": {},
     "source": [
      "If we convert `read_inventory` to use it, the result is six lines long\n",
      "instead of ten. More importantly, the logic of what we're doing is much\n",
      "clearer:"
     ]
    },
    {
     "cell_type": "code",
     "collapsed": false,
     "input": [
      "def read_inventory(inventory_file):\n",
      "    result = {}\n",
      "    for line in readlines(inventory_file):\n",
      "        name, count = line.split()\n",
      "        result[name] = int(count)\n",
      "    return result"
     ],
     "language": "python",
     "metadata": {},
     "outputs": [],
     "prompt_number": 38
    },
    {
     "cell_type": "markdown",
     "metadata": {},
     "source": [
      "The converted version of `read_formulas` is 15 lines instead of 19:"
     ]
    },
    {
     "cell_type": "code",
     "collapsed": false,
     "input": [
      "def read_formulas(formula_file):\n",
      "    result = {}\n",
      "    for line in readlines(formula_file):\n",
      "        name, atoms = line.split(':')\n",
      "        name = name.strip()\n",
      "        atoms = atoms.strip().split()\n",
      "\n",
      "        formula = {}\n",
      "        for i in range(0, len(atoms), 2):\n",
      "            symbol = atoms[i].strip()\n",
      "            count = int(atoms[i+1])\n",
      "            formula[symbol] = count\n",
      "        result[name] = formula\n",
      "\n",
      "    return result"
     ],
     "language": "python",
     "metadata": {},
     "outputs": []
    },
    {
     "cell_type": "markdown",
     "metadata": {},
     "source": [
      "We can do better still by putting the code that handles atom/count pairs in a helper function of its own:"
     ]
    },
    {
     "cell_type": "code",
     "collapsed": false,
     "input": [
      "def read_formulas(formula_file):\n",
      "    result = {}\n",
      "    for line in readlines(formula_file):\n",
      "        name, atoms = line.split(':')\n",
      "        name = name.strip()\n",
      "        result[name] = make_formula(atoms)\n",
      "    return result\n",
      "\n",
      "def make_formula(atoms):\n",
      "    formula = {}\n",
      "    atoms = atoms.strip().split()\n",
      "    for i in range(0, len(atoms), 2):\n",
      "        symbol = atoms[i].strip()\n",
      "        count = int(atoms[i+1])\n",
      "        formula[symbol] = count\n",
      "    return formula"
     ],
     "language": "python",
     "metadata": {},
     "outputs": [],
     "prompt_number": 39
    },
    {
     "cell_type": "markdown",
     "metadata": {},
     "source": [
      "This change has actually made the code slightly longer, but each\n",
      "function now does one small job, and as a bonus, the code in\n",
      "`make_formula` (which is moderately complex) can now be tested on its\n",
      "own. We're not done until we test our changes, though:"
     ]
    },
    {
     "cell_type": "code",
     "collapsed": false,
     "input": [
      "main('inventory-00.txt', 'formulas-00.txt')"
     ],
     "language": "python",
     "metadata": {},
     "outputs": [],
     "prompt_number": 40
    },
    {
     "cell_type": "code",
     "collapsed": false,
     "input": [
      "main('inventory-01.txt', 'formulas-01.txt')"
     ],
     "language": "python",
     "metadata": {},
     "outputs": [
      {
       "output_type": "stream",
       "stream": "stdout",
       "text": [
        "helium 1\n"
       ]
      }
     ],
     "prompt_number": 41
    },
    {
     "cell_type": "code",
     "collapsed": false,
     "input": [
      "main('inventory-02.txt', 'formulas-02.txt')"
     ],
     "language": "python",
     "metadata": {},
     "outputs": [
      {
       "output_type": "stream",
       "stream": "stdout",
       "text": [
        "helium 1\n",
        "water 0\n"
       ]
      }
     ],
     "prompt_number": 42
    },
    {
     "cell_type": "code",
     "collapsed": false,
     "input": [
      "main('inventory-03.txt', 'formulas-03.txt')"
     ],
     "language": "python",
     "metadata": {},
     "outputs": [
      {
       "output_type": "stream",
       "stream": "stdout",
       "text": [
        "helium 1\n",
        "hydrogen 2\n",
        "water 2\n"
       ]
      }
     ],
     "prompt_number": 43
    },
    {
     "cell_type": "markdown",
     "metadata": {},
     "source": [
      "In fact, we could (and should) have tested right after refactoring `read_inventory`, and only then refactored `read_formulas`."
     ]
    },
    {
     "cell_type": "markdown",
     "metadata": {},
     "source": [
      "## Key Points\n",
      "\n",
      "* Whenever names are used to label things, consider using dictionaries to store them.\n",
      "* Use nested dictionaries to store hierarchical values (like molecule names and atomic counts).\n",
      "* Get it right, then refactor to make each part simple.\n",
      "* Test after each refactoring step."
     ]
    }
   ],
   "metadata": {}
  }
 ]
}