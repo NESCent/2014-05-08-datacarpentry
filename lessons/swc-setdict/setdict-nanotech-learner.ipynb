{
 "metadata": {
  "name": "setdict-nanotech-learner"
 },
 "nbformat": 3,
 "nbformat_minor": 0,
 "worksheets": [
  {
   "cells": [
    {
     "cell_type": "heading",
     "level": 1,
     "metadata": {},
     "source": [
      "Sets and Dictionaries in Python: Nanotech Inventory (Learner Version)"
     ]
    },
    {
     "cell_type": "markdown",
     "metadata": {},
     "source": [
      "## Objectives\n",
      "\n",
      "* Create and manipulate nested dictionaries.\n",
      "* Explain the similarities and differences between nested dictionaries and nested lists."
     ]
    },
    {
     "cell_type": "markdown",
     "metadata": {},
     "source": [
      "## Lesson\n",
      "\n",
      "* How many molecules of various kinds can we make from the atoms in our warehouse?\n",
      "* Inventory stored in files like this:"
     ]
    },
    {
     "cell_type": "code",
     "collapsed": false,
     "input": [
      "!cat inventory-03.txt"
     ],
     "language": "python",
     "metadata": {},
     "outputs": [
      {
       "output_type": "stream",
       "stream": "stdout",
       "text": [
        "# Atomic inventory file\r\n",
        "He 1\r\n",
        "H 4\r\n",
        "O 3"
       ]
      }
     ],
     "prompt_number": 7
    },
    {
     "cell_type": "markdown",
     "metadata": {},
     "source": [
      "<img src=\"files/nanotech_inventory.png\" alt=\"Inventory in Memory\" />"
     ]
    },
    {
     "cell_type": "markdown",
     "metadata": {},
     "source": [
      "* Formulas stored in files like this:"
     ]
    },
    {
     "cell_type": "code",
     "collapsed": false,
     "input": [
      "!cat formulas-03.txt"
     ],
     "language": "python",
     "metadata": {},
     "outputs": [
      {
       "output_type": "stream",
       "stream": "stdout",
       "text": [
        "# Molecular formula file\r\n",
        "\r\n",
        "helium : He 1\r\n",
        "water : H 2 O 1\r\n",
        "hydrogen : H 2"
       ]
      }
     ],
     "prompt_number": 8
    },
    {
     "cell_type": "markdown",
     "metadata": {},
     "source": [
      "<img src=\"files/nanotech_formulas.png\" alt=\"Formulas in Memory\" />"
     ]
    },
    {
     "cell_type": "markdown",
     "metadata": {},
     "source": [
      "* Result is molecule names and counts\n",
      "\n",
      "```\n",
      "helium 1\n",
      "hydrogen 2\n",
      "water 2\n",
      "```"
     ]
    },
    {
     "cell_type": "markdown",
     "metadata": {},
     "source": [
      "* Main body of program reads files, calculates result, and prints it:"
     ]
    },
    {
     "cell_type": "code",
     "collapsed": false,
     "input": [
      "def main(inventory_file, formula_file):\n",
      "    inventory = read_inventory(inventory_file)\n",
      "    formulas = read_formulas(formula_file)\n",
      "    counts = calculate_counts(inventory, formulas)\n",
      "    show_counts(counts)"
     ],
     "language": "python",
     "metadata": {},
     "outputs": [],
     "prompt_number": 9
    },
    {
     "cell_type": "markdown",
     "metadata": {},
     "source": [
      "* Inventory format is simpler than formula format, so write that function first"
     ]
    },
    {
     "cell_type": "code",
     "collapsed": false,
     "input": [
      "def read_inventory(inventory_file):\n",
      "    result = {}\n",
      "    with open(inventory_file, 'r') as reader:\n",
      "        for line in reader:\n",
      "            name, count = line.strip().split()\n",
      "            result[name] = int(count)\n",
      "    return result"
     ],
     "language": "python",
     "metadata": {},
     "outputs": [],
     "prompt_number": 10
    },
    {
     "cell_type": "markdown",
     "metadata": {},
     "source": [
      "* And test:"
     ]
    },
    {
     "cell_type": "code",
     "collapsed": false,
     "input": [
      "print read_inventory('inventory-03.txt')"
     ],
     "language": "python",
     "metadata": {},
     "outputs": [
      {
       "ename": "ValueError",
       "evalue": "too many values to unpack",
       "output_type": "pyerr",
       "traceback": [
        "\u001b[0;31m---------------------------------------------------------------------------\u001b[0m\n\u001b[0;31mValueError\u001b[0m                                Traceback (most recent call last)",
        "\u001b[0;32m<ipython-input-11-c05b7b912bfb>\u001b[0m in \u001b[0;36m<module>\u001b[0;34m()\u001b[0m\n\u001b[0;32m----> 1\u001b[0;31m \u001b[0;32mprint\u001b[0m \u001b[0mread_inventory\u001b[0m\u001b[0;34m(\u001b[0m\u001b[0;34m'inventory-03.txt'\u001b[0m\u001b[0;34m)\u001b[0m\u001b[0;34m\u001b[0m\u001b[0m\n\u001b[0m",
        "\u001b[0;32m<ipython-input-10-d5dd028eb45b>\u001b[0m in \u001b[0;36mread_inventory\u001b[0;34m(inventory_file)\u001b[0m\n\u001b[1;32m      3\u001b[0m     \u001b[0;32mwith\u001b[0m \u001b[0mopen\u001b[0m\u001b[0;34m(\u001b[0m\u001b[0minventory_file\u001b[0m\u001b[0;34m,\u001b[0m \u001b[0;34m'r'\u001b[0m\u001b[0;34m)\u001b[0m \u001b[0;32mas\u001b[0m \u001b[0mreader\u001b[0m\u001b[0;34m:\u001b[0m\u001b[0;34m\u001b[0m\u001b[0m\n\u001b[1;32m      4\u001b[0m         \u001b[0;32mfor\u001b[0m \u001b[0mline\u001b[0m \u001b[0;32min\u001b[0m \u001b[0mreader\u001b[0m\u001b[0;34m:\u001b[0m\u001b[0;34m\u001b[0m\u001b[0m\n\u001b[0;32m----> 5\u001b[0;31m             \u001b[0mname\u001b[0m\u001b[0;34m,\u001b[0m \u001b[0mcount\u001b[0m \u001b[0;34m=\u001b[0m \u001b[0mline\u001b[0m\u001b[0;34m.\u001b[0m\u001b[0mstrip\u001b[0m\u001b[0;34m(\u001b[0m\u001b[0;34m)\u001b[0m\u001b[0;34m.\u001b[0m\u001b[0msplit\u001b[0m\u001b[0;34m(\u001b[0m\u001b[0;34m)\u001b[0m\u001b[0;34m\u001b[0m\u001b[0m\n\u001b[0m\u001b[1;32m      6\u001b[0m             \u001b[0mresult\u001b[0m\u001b[0;34m[\u001b[0m\u001b[0mname\u001b[0m\u001b[0;34m]\u001b[0m \u001b[0;34m=\u001b[0m \u001b[0mint\u001b[0m\u001b[0;34m(\u001b[0m\u001b[0mcount\u001b[0m\u001b[0;34m)\u001b[0m\u001b[0;34m\u001b[0m\u001b[0m\n\u001b[1;32m      7\u001b[0m     \u001b[0;32mreturn\u001b[0m \u001b[0mresult\u001b[0m\u001b[0;34m\u001b[0m\u001b[0m\n",
        "\u001b[0;31mValueError\u001b[0m: too many values to unpack"
       ]
      }
     ],
     "prompt_number": 11
    },
    {
     "cell_type": "markdown",
     "metadata": {},
     "source": [
      "* Whoops: forgot comments and blank lines"
     ]
    },
    {
     "cell_type": "code",
     "collapsed": false,
     "input": [
      "def read_inventory(inventory_file):\n",
      "    result = {}\n",
      "    with open(inventory_file, 'r') as reader:\n",
      "        for line in reader:\n",
      "            line = line.strip()\n",
      "            if (not line) or line.startswith('#'):\n",
      "                continue\n",
      "            name, count = line.split()\n",
      "            result[name] = int(count)\n",
      "    return result\n",
      "\n",
      "print read_inventory('inventory-03.txt')"
     ],
     "language": "python",
     "metadata": {},
     "outputs": [
      {
       "output_type": "stream",
       "stream": "stdout",
       "text": [
        "{'H': 4, 'O': 3, 'He': 1}"
       ]
      },
      {
       "output_type": "stream",
       "stream": "stdout",
       "text": [
        "\n"
       ]
      }
     ],
     "prompt_number": 12
    },
    {
     "cell_type": "markdown",
     "metadata": {},
     "source": [
      "* Now read formulas (taking blank lines and comments into account)\n",
      "* Function is complex enough that we'll come back later and simplify it"
     ]
    },
    {
     "cell_type": "code",
     "collapsed": false,
     "input": [
      "def read_formulas(formula_file):\n",
      "    result = {}\n",
      "    with open(formula_file, 'r') as reader:\n",
      "        for line in reader:\n",
      "            line = line.strip()\n",
      "            if (not line) or line.startswith('#'):\n",
      "                continue\n",
      "            name, atoms = line.split(':')\n",
      "            name = name.strip()\n",
      "            atoms = atoms.strip().split()\n",
      "    \n",
      "            formula = {}\n",
      "            for i in range(0, len(atoms), 2):\n",
      "                symbol = atoms[i].strip()\n",
      "                count = int(atoms[i+1])\n",
      "                formula[symbol] = count\n",
      "            result[name] = formula\n",
      "\n",
      "    return result"
     ],
     "language": "python",
     "metadata": {},
     "outputs": [],
     "prompt_number": 13
    },
    {
     "cell_type": "markdown",
     "metadata": {},
     "source": [
      "* And test:"
     ]
    },
    {
     "cell_type": "code",
     "collapsed": false,
     "input": [
      "print read_formulas('formulas-03.txt')"
     ],
     "language": "python",
     "metadata": {},
     "outputs": [
      {
       "output_type": "stream",
       "stream": "stdout",
       "text": [
        "{'water': {'H': 2, 'O': 1}, 'hydrogen': {'H': 2}, 'helium': {'He': 1}}\n"
       ]
      }
     ],
     "prompt_number": 14
    },
    {
     "cell_type": "markdown",
     "metadata": {},
     "source": [
      "* Calculate how many molecules of each kind we could make given available inventory\n",
      "  * Again, calculate for each molecule independently"
     ]
    },
    {
     "cell_type": "code",
     "collapsed": false,
     "input": [
      "def calculate_counts(inventory, formulas):\n",
      "    counts = {}\n",
      "    for name in formulas:\n",
      "        counts[name] = dict_divide(inventory, formulas[name])\n",
      "    return counts"
     ],
     "language": "python",
     "metadata": {},
     "outputs": [],
     "prompt_number": 15
    },
    {
     "cell_type": "markdown",
     "metadata": {},
     "source": [
      "* And write helper function:"
     ]
    },
    {
     "cell_type": "code",
     "collapsed": false,
     "input": [
      "def dict_divide(inventory, molecule):\n",
      "    number = None\n",
      "    for atom in molecule:\n",
      "        required = molecule[atom]\n",
      "        available = inventory.get(atom, 0)\n",
      "        limit = available / required\n",
      "        if (number is None) or (limit < number):\n",
      "            number = limit\n",
      "    return number"
     ],
     "language": "python",
     "metadata": {},
     "outputs": [],
     "prompt_number": 16
    },
    {
     "cell_type": "markdown",
     "metadata": {},
     "source": [
      "* Again, initializing with `None` rather than some arbitrary large value"
     ]
    },
    {
     "cell_type": "markdown",
     "metadata": {},
     "source": [
      "* Finally, display counts in alphabetical order:"
     ]
    },
    {
     "cell_type": "code",
     "collapsed": false,
     "input": [
      "def show_counts(counts):\n",
      "    names = counts.keys()\n",
      "    names.sort()\n",
      "    for name in names:\n",
      "        print name, counts[name]"
     ],
     "language": "python",
     "metadata": {},
     "outputs": [],
     "prompt_number": 17
    },
    {
     "cell_type": "markdown",
     "metadata": {},
     "source": [
      "* Simplest test we could do is no inventory and no formulas"
     ]
    },
    {
     "cell_type": "code",
     "collapsed": false,
     "input": [
      "!cat inventory-00.txt"
     ],
     "language": "python",
     "metadata": {},
     "outputs": [],
     "prompt_number": 18
    },
    {
     "cell_type": "code",
     "collapsed": false,
     "input": [
      "!cat formulas-00.txt"
     ],
     "language": "python",
     "metadata": {},
     "outputs": [],
     "prompt_number": 19
    },
    {
     "cell_type": "code",
     "collapsed": false,
     "input": [
      "main('inventory-00.txt', 'formulas-00.txt')"
     ],
     "language": "python",
     "metadata": {},
     "outputs": [],
     "prompt_number": 20
    },
    {
     "cell_type": "markdown",
     "metadata": {},
     "source": [
      "* No output is correct, but hardly reassuring\n",
      "* What about no inventory, and one formula?"
     ]
    },
    {
     "cell_type": "code",
     "collapsed": false,
     "input": [
      "!cat formulas-01.txt"
     ],
     "language": "python",
     "metadata": {},
     "outputs": [
      {
       "output_type": "stream",
       "stream": "stdout",
       "text": [
        "helium : He 1"
       ]
      }
     ],
     "prompt_number": 21
    },
    {
     "cell_type": "code",
     "collapsed": false,
     "input": [
      "main('inventory-00.txt', 'formulas-01.txt')"
     ],
     "language": "python",
     "metadata": {},
     "outputs": [
      {
       "output_type": "stream",
       "stream": "stdout",
       "text": [
        "helium"
       ]
      },
      {
       "output_type": "stream",
       "stream": "stdout",
       "text": [
        " 0\n"
       ]
      }
     ],
     "prompt_number": 22
    },
    {
     "cell_type": "markdown",
     "metadata": {},
     "source": [
      "* That's encouraging\n",
      "* Try some inventory"
     ]
    },
    {
     "cell_type": "code",
     "collapsed": false,
     "input": [
      "!cat inventory-01.txt"
     ],
     "language": "python",
     "metadata": {},
     "outputs": [
      {
       "output_type": "stream",
       "stream": "stdout",
       "text": [
        "He 1"
       ]
      }
     ],
     "prompt_number": 23
    },
    {
     "cell_type": "code",
     "collapsed": false,
     "input": [
      "main('inventory-01.txt', 'formulas-01.txt')"
     ],
     "language": "python",
     "metadata": {},
     "outputs": [
      {
       "output_type": "stream",
       "stream": "stdout",
       "text": [
        "helium 1\n"
       ]
      }
     ],
     "prompt_number": 24
    },
    {
     "cell_type": "markdown",
     "metadata": {},
     "source": [
      "* Now something more complex"
     ]
    },
    {
     "cell_type": "code",
     "collapsed": false,
     "input": [
      "!cat inventory-02.txt"
     ],
     "language": "python",
     "metadata": {},
     "outputs": [
      {
       "output_type": "stream",
       "stream": "stdout",
       "text": [
        "He 1\r\n",
        "H 4"
       ]
      }
     ],
     "prompt_number": 25
    },
    {
     "cell_type": "code",
     "collapsed": false,
     "input": [
      "!cat formulas-02.txt"
     ],
     "language": "python",
     "metadata": {},
     "outputs": [
      {
       "output_type": "stream",
       "stream": "stdout",
       "text": [
        "helium : He 1\r\n",
        "water : H 2 O 1"
       ]
      }
     ],
     "prompt_number": 26
    },
    {
     "cell_type": "code",
     "collapsed": false,
     "input": [
      "main('inventory-02.txt', 'formulas-02.txt')"
     ],
     "language": "python",
     "metadata": {},
     "outputs": [
      {
       "output_type": "stream",
       "stream": "stdout",
       "text": [
        "helium 1\n",
        "water 0\n"
       ]
      }
     ],
     "prompt_number": 27
    },
    {
     "cell_type": "markdown",
     "metadata": {},
     "source": [
      "* Use the inventory file that included some oxygen"
     ]
    },
    {
     "cell_type": "code",
     "collapsed": false,
     "input": [
      "!cat inventory-03.txt"
     ],
     "language": "python",
     "metadata": {},
     "outputs": [
      {
       "output_type": "stream",
       "stream": "stdout",
       "text": [
        "# Atomic inventory file\r\n",
        "He 1\r\n",
        "H 4\r\n",
        "O 3"
       ]
      }
     ],
     "prompt_number": 28
    },
    {
     "cell_type": "code",
     "collapsed": false,
     "input": [
      "main('inventory-03.txt', 'formulas-02.txt')"
     ],
     "language": "python",
     "metadata": {},
     "outputs": [
      {
       "output_type": "stream",
       "stream": "stdout",
       "text": [
        "helium 1\n",
        "water 2\n"
       ]
      }
     ],
     "prompt_number": 29
    },
    {
     "cell_type": "markdown",
     "metadata": {},
     "source": [
      "* Now *refactor*\n",
      "* Write a single function to read interesting lines from files\n",
      "* Then rewrite `read_inventory` and `read_formulas` to use it"
     ]
    },
    {
     "cell_type": "code",
     "collapsed": false,
     "input": [
      "def readlines(filename):\n",
      "    result = []\n",
      "    with open(filename, 'r') as reader:\n",
      "        for line in reader:\n",
      "            line = line.strip()\n",
      "            if line and (not line.startswith('#')):\n",
      "                result.append(line)\n",
      "    return result"
     ],
     "language": "python",
     "metadata": {},
     "outputs": [],
     "prompt_number": 33
    },
    {
     "cell_type": "code",
     "collapsed": false,
     "input": [
      "def read_inventory(inventory_file):\n",
      "    result = {}\n",
      "    for line in readlines(inventory_file):\n",
      "        name, count = line.split()\n",
      "        result[name] = int(count)\n",
      "    return result"
     ],
     "language": "python",
     "metadata": {},
     "outputs": [],
     "prompt_number": 34
    },
    {
     "cell_type": "markdown",
     "metadata": {},
     "source": [
      "* 6 lines instead of 10\n",
      "* And only one level of nesting instead of two"
     ]
    },
    {
     "cell_type": "code",
     "collapsed": false,
     "input": [
      "def read_formulas(formula_file):\n",
      "    result = {}\n",
      "    for line in readlines(formula_file):\n",
      "        name, atoms = line.split(':')\n",
      "        name = name.strip()\n",
      "        atoms = atoms.strip().split()\n",
      "\n",
      "        formula = {}\n",
      "        for i in range(0, len(atoms), 2):\n",
      "            symbol = atoms[i].strip()\n",
      "            count = int(atoms[i+1])\n",
      "            formula[symbol] = count\n",
      "        result[name] = formula\n",
      "\n",
      "    return result"
     ],
     "language": "python",
     "metadata": {},
     "outputs": []
    },
    {
     "cell_type": "markdown",
     "metadata": {},
     "source": [
      "* 15 lines instead of 19, but all those lines are devoted to reading meaningful content\n",
      "* We can do better still"
     ]
    },
    {
     "cell_type": "code",
     "collapsed": false,
     "input": [
      "def read_formulas(formula_file):\n",
      "    result = {}\n",
      "    for line in readlines(formula_file):\n",
      "        name, atoms = line.split(':')\n",
      "        name = name.strip()\n",
      "        result[name] = make_formula(atoms)\n",
      "    return result\n",
      "\n",
      "def make_formula(atoms):\n",
      "    formula = {}\n",
      "    atoms = atoms.strip().split()\n",
      "    for i in range(0, len(atoms), 2):\n",
      "        symbol = atoms[i].strip()\n",
      "        count = int(atoms[i+1])\n",
      "        formula[symbol] = count\n",
      "    return formula"
     ],
     "language": "python",
     "metadata": {},
     "outputs": []
    },
    {
     "cell_type": "markdown",
     "metadata": {},
     "source": [
      "* 16 lines instead of 15, but each function does one job with one level of nesting"
     ]
    },
    {
     "cell_type": "markdown",
     "metadata": {},
     "source": [
      "* Now test"
     ]
    },
    {
     "cell_type": "code",
     "collapsed": false,
     "input": [
      "main('inventory-00.txt', 'formulas-00.txt')"
     ],
     "language": "python",
     "metadata": {},
     "outputs": [],
     "prompt_number": 35
    },
    {
     "cell_type": "code",
     "collapsed": false,
     "input": [
      "main('inventory-01.txt', 'formulas-01.txt')"
     ],
     "language": "python",
     "metadata": {},
     "outputs": [
      {
       "output_type": "stream",
       "stream": "stdout",
       "text": [
        "helium 1\n"
       ]
      }
     ],
     "prompt_number": 36
    },
    {
     "cell_type": "code",
     "collapsed": false,
     "input": [
      "main('inventory-02.txt', 'formulas-02.txt')"
     ],
     "language": "python",
     "metadata": {},
     "outputs": [
      {
       "output_type": "stream",
       "stream": "stdout",
       "text": [
        "helium 1\n",
        "water 0\n"
       ]
      }
     ],
     "prompt_number": 37
    },
    {
     "cell_type": "code",
     "collapsed": false,
     "input": [
      "main('inventory-03.txt', 'formulas-03.txt')"
     ],
     "language": "python",
     "metadata": {},
     "outputs": [
      {
       "output_type": "stream",
       "stream": "stdout",
       "text": [
        "helium 1\n",
        "hydrogen 2\n",
        "water 2\n"
       ]
      }
     ],
     "prompt_number": 38
    },
    {
     "cell_type": "markdown",
     "metadata": {},
     "source": [
      "* Could have (*should* have) tested right after refactoring `read_inventory`"
     ]
    },
    {
     "cell_type": "markdown",
     "metadata": {},
     "source": [
      "## Key Points\n",
      "\n",
      "* Whenever names are used to label things, consider using dictionaries to store them.\n",
      "* Use nested dictionaries to store hierarchical values (like molecule names and atomic counts).\n",
      "* Get it right, then refactor to make each part simple.\n",
      "* Test after each refactoring step."
     ]
    }
   ],
   "metadata": {}
  }
 ]
}