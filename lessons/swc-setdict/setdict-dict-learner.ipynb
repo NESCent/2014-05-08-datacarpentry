{
 "metadata": {
  "name": "setdict-dict-learner"
 },
 "nbformat": 3,
 "nbformat_minor": 0,
 "worksheets": [
  {
   "cells": [
    {
     "cell_type": "heading",
     "level": 1,
     "metadata": {},
     "source": [
      "Sets and Dictionaries in Python: Dictionaries (Learner Version)"
     ]
    },
    {
     "cell_type": "markdown",
     "metadata": {},
     "source": [
      "## Objectives\n",
      "\n",
      "* Explain the similarities and differences between sets and dictionaries.\n",
      "* Perform common operations on dictionaries."
     ]
    },
    {
     "cell_type": "markdown",
     "metadata": {},
     "source": [
      "## Lesson\n",
      "\n",
      "* Use a *dictionary* to keep track of key-value pairs\n",
      "* Its *keys* are like the elements of a set: unique, unordered, and immutable\n",
      "* The *values* associated with the keys can be anything, but can only be looked up via their keys"
     ]
    },
    {
     "cell_type": "markdown",
     "metadata": {},
     "source": [
      "* Create a dictionary:"
     ]
    },
    {
     "cell_type": "code",
     "collapsed": false,
     "input": [
      "birthdays = {'Newton' : 1642, 'Darwin' : 1809}"
     ],
     "language": "python",
     "metadata": {},
     "outputs": [],
     "prompt_number": 1
    },
    {
     "cell_type": "markdown",
     "metadata": {},
     "source": [
      "<table>\n",
      "    <tr><th>Key</th><th>Value</th></tr>\n",
      "    <tr><td><code>'Newton'</code></td><td>1642</td></tr>\n",
      "    <tr><td><code>'Darwin'</code></td><td>1809</td></tr>\n",
      "</table>"
     ]
    },
    {
     "cell_type": "markdown",
     "metadata": {},
     "source": [
      "* Access values by subscripting"
     ]
    },
    {
     "cell_type": "code",
     "collapsed": false,
     "input": [
      "print birthdays['Newton']"
     ],
     "language": "python",
     "metadata": {},
     "outputs": [
      {
       "output_type": "stream",
       "stream": "stdout",
       "text": [
        "1642\n"
       ]
      }
     ],
     "prompt_number": 2
    },
    {
     "cell_type": "code",
     "collapsed": false,
     "input": [
      "birthdays['Turing'] = 1612\n",
      "print birthdays"
     ],
     "language": "python",
     "metadata": {},
     "outputs": [
      {
       "output_type": "stream",
       "stream": "stdout",
       "text": [
        "{'Turing': 1612, 'Newton': 1642, 'Darwin': 1809}\n"
       ]
      }
     ],
     "prompt_number": 3
    },
    {
     "cell_type": "code",
     "collapsed": false,
     "input": [
      "birthdays['Turing'] = 1912\n",
      "print birthdays"
     ],
     "language": "python",
     "metadata": {},
     "outputs": [
      {
       "output_type": "stream",
       "stream": "stdout",
       "text": [
        "{'Turing': 1912, 'Newton': 1642, 'Darwin': 1809}\n"
       ]
      }
     ],
     "prompt_number": 4
    },
    {
     "cell_type": "markdown",
     "metadata": {},
     "source": [
      "<img src=\"files/simple_dict.png\" alt=\"A Simple Dictionary\" />"
     ]
    },
    {
     "cell_type": "markdown",
     "metadata": {},
     "source": [
      "* Can only read values that are already there"
     ]
    },
    {
     "cell_type": "code",
     "collapsed": false,
     "input": [
      "print birthdays['Nightingale']"
     ],
     "language": "python",
     "metadata": {},
     "outputs": [
      {
       "ename": "KeyError",
       "evalue": "'Nightingale'",
       "output_type": "pyerr",
       "traceback": [
        "\u001b[0;31m---------------------------------------------------------------------------\u001b[0m\n\u001b[0;31mKeyError\u001b[0m                                  Traceback (most recent call last)",
        "\u001b[0;32m<ipython-input-5-44ca8cabb590>\u001b[0m in \u001b[0;36m<module>\u001b[0;34m()\u001b[0m\n\u001b[0;32m----> 1\u001b[0;31m \u001b[0;32mprint\u001b[0m \u001b[0mbirthdays\u001b[0m\u001b[0;34m[\u001b[0m\u001b[0;34m'Nightingale'\u001b[0m\u001b[0;34m]\u001b[0m\u001b[0;34m\u001b[0m\u001b[0m\n\u001b[0m",
        "\u001b[0;31mKeyError\u001b[0m: 'Nightingale'"
       ]
      }
     ],
     "prompt_number": 5
    },
    {
     "cell_type": "markdown",
     "metadata": {},
     "source": [
      "* Test for the presence of a key using `in`"
     ]
    },
    {
     "cell_type": "code",
     "collapsed": false,
     "input": [
      "print 'Nightingale' in birthdays"
     ],
     "language": "python",
     "metadata": {},
     "outputs": [
      {
       "output_type": "stream",
       "stream": "stdout",
       "text": [
        "False\n"
       ]
      }
     ],
     "prompt_number": 6
    },
    {
     "cell_type": "code",
     "collapsed": false,
     "input": [
      "print 'Darwin' in birthdays"
     ],
     "language": "python",
     "metadata": {},
     "outputs": [
      {
       "output_type": "stream",
       "stream": "stdout",
       "text": [
        "True\n"
       ]
      }
     ],
     "prompt_number": 7
    },
    {
     "cell_type": "markdown",
     "metadata": {},
     "source": [
      "* `len` reports the number of items in the dictionary\n",
      "* `for` loops over the keys in some arbitrary order"
     ]
    },
    {
     "cell_type": "code",
     "collapsed": false,
     "input": [
      "print len(birthdays)\n",
      "for name in birthdays:\n",
      "    print name, birthdays[name]"
     ],
     "language": "python",
     "metadata": {},
     "outputs": [
      {
       "output_type": "stream",
       "stream": "stdout",
       "text": [
        "3\n",
        "Turing 1912\n",
        "Newton 1642\n",
        "Darwin 1809\n"
       ]
      }
     ],
     "prompt_number": 8
    },
    {
     "cell_type": "markdown",
     "metadata": {},
     "source": [
      "* Main function to count atomic symbols in a file"
     ]
    },
    {
     "cell_type": "code",
     "collapsed": false,
     "input": [
      "def main(filename):\n",
      "    counts = count_atoms(filename)\n",
      "    for atom in counts:\n",
      "        print atom, counts[atom]"
     ],
     "language": "python",
     "metadata": {},
     "outputs": [],
     "prompt_number": 14
    },
    {
     "cell_type": "markdown",
     "metadata": {},
     "source": [
      "* Count atoms, one per line"
     ]
    },
    {
     "cell_type": "code",
     "collapsed": false,
     "input": [
      "def count_atoms(filename):\n",
      "    '''Count unique atoms, returning a dictionary.'''\n",
      "\n",
      "    result = {}\n",
      "    with open(filename, 'r') as reader:\n",
      "\tfor line in reader:\n",
      "\t    atom = line.strip()\n",
      "            if atom not in result:\n",
      "                result[atom] = 1\n",
      "            else:\n",
      "                result[atom] = result[atom] + 1\n",
      "    return result"
     ],
     "language": "python",
     "metadata": {},
     "outputs": [],
     "prompt_number": 15
    },
    {
     "cell_type": "code",
     "collapsed": false,
     "input": [
      "main('some_atoms.txt')"
     ],
     "language": "python",
     "metadata": {},
     "outputs": [
      {
       "output_type": "stream",
       "stream": "stdout",
       "text": [
        "Na 3\n",
        "Si 1\n",
        "Fe 1\n",
        "Pd 1\n"
       ]
      }
     ],
     "prompt_number": 16
    },
    {
     "cell_type": "markdown",
     "metadata": {},
     "source": [
      "* Use tuples for multi-part keys"
     ]
    },
    {
     "cell_type": "code",
     "collapsed": false,
     "input": [
      "birthdays = {\n",
      "    ('Isaac', 'Newton') : 1642,\n",
      "    ('Charles', 'Robert', 'Darwin') : 1809,\n",
      "    ('Alan', 'Mathison', 'Turing') : 1912\n",
      "}\n",
      "print birthdays"
     ],
     "language": "python",
     "metadata": {},
     "outputs": [
      {
       "output_type": "stream",
       "stream": "stdout",
       "text": [
        "{('Charles', 'Robert', 'Darwin'): 1809, ('Isaac', 'Newton'): 1642, ('Alan', 'Mathison', 'Turing'): 1912}\n"
       ]
      }
     ],
     "prompt_number": 17
    },
    {
     "cell_type": "markdown",
     "metadata": {},
     "source": [
      "* Use the `keys` and `values` methods to get lists of keys and values"
     ]
    },
    {
     "cell_type": "code",
     "collapsed": false,
     "input": [
      "all_keys = birthdays.keys()\n",
      "print all_keys"
     ],
     "language": "python",
     "metadata": {},
     "outputs": [
      {
       "output_type": "stream",
       "stream": "stdout",
       "text": [
        "[('Charles', 'Robert', 'Darwin'), ('Isaac', 'Newton'), ('Alan', 'Mathison', 'Turing')]\n"
       ]
      }
     ],
     "prompt_number": 18
    },
    {
     "cell_type": "code",
     "collapsed": false,
     "input": [
      "all_values = birthdays.values()\n",
      "print all_values"
     ],
     "language": "python",
     "metadata": {},
     "outputs": [
      {
       "output_type": "stream",
       "stream": "stdout",
       "text": [
        "[1809, 1642, 1912]\n"
       ]
      }
     ],
     "prompt_number": 20
    },
    {
     "cell_type": "markdown",
     "metadata": {},
     "source": [
      "* Do *not* loop over `dict.keys()`, since that creates a list of keys rather than using them directly"
     ]
    },
    {
     "cell_type": "markdown",
     "metadata": {},
     "source": [
      "## Key Points\n",
      "\n",
      "* Use dictionaries to store key-value pairs with distinct keys.\n",
      "* Create dictionaries using `{k1:v1, k2:v2, ...}`.\n",
      "* Dictionaries are mutable, i.e., they can be updated in place.\n",
      "* Dictionary keys must be immutable, but values can be anything.\n",
      "* Use tuples to store multi-part keys in dictionaries.\n",
      "* `dict[key]` refers to the dictionary entry with a particular key.\n",
      "* `key in dict` tests whether a key is in a dictionary.\n",
      "* `len(dict)` returns the number of entries in a dictionary.\n",
      "* A loop over a dictionary produces each key once, in arbitrary order.\n",
      "* `dict.keys()` creates a list of the keys in a dictionary.\n",
      "* `dict.values()` creates a list of the keys in a dictionary."
     ]
    }
   ],
   "metadata": {}
  }
 ]
}