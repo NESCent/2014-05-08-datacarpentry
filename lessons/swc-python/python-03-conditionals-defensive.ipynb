{
 "metadata": {
  "name": ""
 },
 "nbformat": 3,
 "nbformat_minor": 0,
 "worksheets": [
  {
   "cells": [
    {
     "cell_type": "heading",
     "level": 1,
     "metadata": {},
     "source": [
      "Basic Programming Using Python: Making Decisions and Programming Defensively"
     ]
    },
    {
     "cell_type": "heading",
     "level": 2,
     "metadata": {},
     "source": [
      "Objectives"
     ]
    },
    {
     "cell_type": "markdown",
     "metadata": {},
     "source": [
      "- Explain what Boolean values are and correctly identify them in programs.\n",
      "- Name the three common Boolean operators and explain what they do.\n",
      "- Explain what short-circuit evaluation is and when it should be used.\n",
      "- Trace the behavior of programs containing `assert` statements.\n",
      "- Add useful assertions to programs.\n",
      "- Format output using strings."
     ]
    },
    {
     "cell_type": "heading",
     "level": 2,
     "metadata": {},
     "source": [
      "Changing Colors"
     ]
    },
    {
     "cell_type": "markdown",
     "metadata": {},
     "source": [
      "Let's create another grid and color a few cells:"
     ]
    },
    {
     "cell_type": "code",
     "collapsed": false,
     "input": [
      "from ipythonblocks import ImageGrid, colors # import both at the same time\n",
      "row = ImageGrid(6, 1)\n",
      "row[1, 0] = colors['Orchid']\n",
      "row[5, 0] = colors['Orchid']\n",
      "row.show()"
     ],
     "language": "python",
     "metadata": {},
     "outputs": [
      {
       "html": [
        "<style type=\"text/css\">table.blockgrid {border: none;} .blockgrid tr {border: none;} .blockgrid td {padding: 0px;} #blocksb796e939-795f-4a3a-b9b8-5c09797e796a td {border: 1px solid white;}</style><table id=\"blocksb796e939-795f-4a3a-b9b8-5c09797e796a\" class=\"blockgrid\"><tbody><tr><td title=\"Index: [0, 0]&#10;Color: (0, 0, 0)\" style=\"width: 20px; height: 20px;background-color: rgb(0, 0, 0);\"></td><td title=\"Index: [1, 0]&#10;Color: (218, 112, 214)\" style=\"width: 20px; height: 20px;background-color: rgb(218, 112, 214);\"></td><td title=\"Index: [2, 0]&#10;Color: (0, 0, 0)\" style=\"width: 20px; height: 20px;background-color: rgb(0, 0, 0);\"></td><td title=\"Index: [3, 0]&#10;Color: (0, 0, 0)\" style=\"width: 20px; height: 20px;background-color: rgb(0, 0, 0);\"></td><td title=\"Index: [4, 0]&#10;Color: (0, 0, 0)\" style=\"width: 20px; height: 20px;background-color: rgb(0, 0, 0);\"></td><td title=\"Index: [5, 0]&#10;Color: (218, 112, 214)\" style=\"width: 20px; height: 20px;background-color: rgb(218, 112, 214);\"></td></tr></tbody></table>"
       ],
       "metadata": {},
       "output_type": "display_data",
       "text": [
        "<IPython.core.display.HTML at 0x100445990>"
       ]
      }
     ],
     "prompt_number": 11
    },
    {
     "cell_type": "markdown",
     "metadata": {},
     "source": [
      "Suppose we want to invert these colors,\n",
      "i.e.,\n",
      "turn every black cell orchid,\n",
      "and every orchid cell black.\n",
      "We could do this directly,\n",
      "but if we want to do the operation frequently,\n",
      "on many different images,\n",
      "we ought to write a function,\n",
      "and that function ought to work equally well on this grid:"
     ]
    },
    {
     "cell_type": "code",
     "collapsed": false,
     "input": [
      "another_row = ImageGrid(8, 1)\n",
      "another_row[0, 0] = colors['Orchid']\n",
      "another_row[1, 0] = colors['Orchid']\n",
      "another_row[3, 0] = colors['Orchid']\n",
      "another_row.show()"
     ],
     "language": "python",
     "metadata": {},
     "outputs": [
      {
       "html": [
        "<style type=\"text/css\">table.blockgrid {border: none;} .blockgrid tr {border: none;} .blockgrid td {padding: 0px;} #blocksa36b39e2-733e-4f95-9fae-24f022385e6e td {border: 1px solid white;}</style><table id=\"blocksa36b39e2-733e-4f95-9fae-24f022385e6e\" class=\"blockgrid\"><tbody><tr><td title=\"Index: [0, 0]&#10;Color: (218, 112, 214)\" style=\"width: 20px; height: 20px;background-color: rgb(218, 112, 214);\"></td><td title=\"Index: [1, 0]&#10;Color: (218, 112, 214)\" style=\"width: 20px; height: 20px;background-color: rgb(218, 112, 214);\"></td><td title=\"Index: [2, 0]&#10;Color: (0, 0, 0)\" style=\"width: 20px; height: 20px;background-color: rgb(0, 0, 0);\"></td><td title=\"Index: [3, 0]&#10;Color: (218, 112, 214)\" style=\"width: 20px; height: 20px;background-color: rgb(218, 112, 214);\"></td><td title=\"Index: [4, 0]&#10;Color: (0, 0, 0)\" style=\"width: 20px; height: 20px;background-color: rgb(0, 0, 0);\"></td><td title=\"Index: [5, 0]&#10;Color: (0, 0, 0)\" style=\"width: 20px; height: 20px;background-color: rgb(0, 0, 0);\"></td><td title=\"Index: [6, 0]&#10;Color: (0, 0, 0)\" style=\"width: 20px; height: 20px;background-color: rgb(0, 0, 0);\"></td><td title=\"Index: [7, 0]&#10;Color: (0, 0, 0)\" style=\"width: 20px; height: 20px;background-color: rgb(0, 0, 0);\"></td></tr></tbody></table>"
       ],
       "metadata": {},
       "output_type": "display_data",
       "text": [
        "<IPython.core.display.HTML at 0x103480650>"
       ]
      }
     ],
     "prompt_number": 12
    },
    {
     "cell_type": "markdown",
     "metadata": {},
     "source": [
      "What we really want is a way for the computer to make decisions based on the data it is processing.\n",
      "The tool that does that is the [conditional statement](glossary.html#conditional_statement),\n",
      "often called an \"if statement\" because of how it's written:"
     ]
    },
    {
     "cell_type": "code",
     "collapsed": false,
     "input": [
      "if 5 > 0:\n",
      "    print '5 is greater than 0'\n",
      "if 5 < 0:\n",
      "    print '5 should not be less than 0'"
     ],
     "language": "python",
     "metadata": {},
     "outputs": [
      {
       "output_type": "stream",
       "stream": "stdout",
       "text": [
        "5 is greater than 0\n"
       ]
      }
     ],
     "prompt_number": 13
    },
    {
     "cell_type": "markdown",
     "metadata": {},
     "source": [
      "A conditional statement starts with the word `if`,\n",
      "followed by an expression that can be either true or false.\n",
      "If the expression is true,\n",
      "Python executes the block of code underneath the `if`;\n",
      "if it's false,\n",
      "Python skips that block:"
     ]
    },
    {
     "cell_type": "markdown",
     "metadata": {},
     "source": [
      "FIXME: diagram"
     ]
    },
    {
     "cell_type": "markdown",
     "metadata": {},
     "source": [
      "We often want to do one thing when a condition is true,\n",
      "and another thing when the condition is false,\n",
      "so Python allows us to attach an `else` to an `if` like this:"
     ]
    },
    {
     "cell_type": "code",
     "collapsed": false,
     "input": [
      "if 'abc' > 'xyz':\n",
      "    print 'whoops: \"abc\" should be less than \"xyz\"'\n",
      "else:\n",
      "    print 'correct: \"abc\" is less than \"xyz\"'"
     ],
     "language": "python",
     "metadata": {},
     "outputs": [
      {
       "output_type": "stream",
       "stream": "stdout",
       "text": [
        "correct: \"abc\" is less than \"xyz\"\n"
       ]
      }
     ],
     "prompt_number": 14
    },
    {
     "cell_type": "markdown",
     "metadata": {},
     "source": [
      "We can use another keyword,\n",
      "`elif`,\n",
      "to insert additional tests after the `if`.\n",
      "Python checks each one in order,\n",
      "and executes the code block belonging to the first one that's true.\n",
      "If none of them are,\n",
      "it executes the `else`,\n",
      "or does nothing at all if an `else` hasn't been provided:"
     ]
    },
    {
     "cell_type": "code",
     "collapsed": false,
     "input": [
      "for number in range(-2, 3): # produces -2, -1, 0, 1, 2\n",
      "    if number < 0:\n",
      "        print number, 'is negative'\n",
      "    elif number == 0:\n",
      "        print number, 'is zero'\n",
      "    else:\n",
      "        print number, 'must be positive'"
     ],
     "language": "python",
     "metadata": {},
     "outputs": [
      {
       "output_type": "stream",
       "stream": "stdout",
       "text": [
        "-2 is negative\n",
        "-1 is negative\n",
        "0 is zero\n",
        "1 must be positive\n",
        "2 must be positive\n"
       ]
      }
     ],
     "prompt_number": 15
    },
    {
     "cell_type": "markdown",
     "metadata": {},
     "source": [
      "We now have everything we need to invert the colors in a color grid:"
     ]
    },
    {
     "cell_type": "code",
     "collapsed": false,
     "input": [
      "def invert(grid):\n",
      "    for x in range(grid.width):\n",
      "        if grid[x, 0] == colors['Orchid']:\n",
      "            grid[x, 0] = colors['Black']\n",
      "        else: # must be black\n",
      "            grid[x, 0] = colors['Orchid']"
     ],
     "language": "python",
     "metadata": {},
     "outputs": [],
     "prompt_number": 16
    },
    {
     "cell_type": "markdown",
     "metadata": {},
     "source": [
      "As discussed in the previous lessons,\n",
      "`grid.width` is the width of the grid,\n",
      "so `range(grid.width)` is the sequence of numbers 0, 1, 2, &hellip;, `grid.width`-1,\n",
      "i.e.,\n",
      "the legal X indices for the grid.\n",
      "Inside that loop,\n",
      "we check `grid[x, 0]`'s color.\n",
      "If it's orchid,\n",
      "we turn it black;\n",
      "if it's not orchid,\n",
      "we assume that it's black\n",
      "and make it orchid.\n",
      "To test it,\n",
      "let's look at our original row:"
     ]
    },
    {
     "cell_type": "code",
     "collapsed": false,
     "input": [
      "row.show()"
     ],
     "language": "python",
     "metadata": {},
     "outputs": [
      {
       "html": [
        "<style type=\"text/css\">table.blockgrid {border: none;} .blockgrid tr {border: none;} .blockgrid td {padding: 0px;} #blocks355793fc-2acb-4b6b-9fb4-c224cf46c964 td {border: 1px solid white;}</style><table id=\"blocks355793fc-2acb-4b6b-9fb4-c224cf46c964\" class=\"blockgrid\"><tbody><tr><td title=\"Index: [0, 0]&#10;Color: (0, 0, 0)\" style=\"width: 20px; height: 20px;background-color: rgb(0, 0, 0);\"></td><td title=\"Index: [1, 0]&#10;Color: (218, 112, 214)\" style=\"width: 20px; height: 20px;background-color: rgb(218, 112, 214);\"></td><td title=\"Index: [2, 0]&#10;Color: (0, 0, 0)\" style=\"width: 20px; height: 20px;background-color: rgb(0, 0, 0);\"></td><td title=\"Index: [3, 0]&#10;Color: (0, 0, 0)\" style=\"width: 20px; height: 20px;background-color: rgb(0, 0, 0);\"></td><td title=\"Index: [4, 0]&#10;Color: (0, 0, 0)\" style=\"width: 20px; height: 20px;background-color: rgb(0, 0, 0);\"></td><td title=\"Index: [5, 0]&#10;Color: (218, 112, 214)\" style=\"width: 20px; height: 20px;background-color: rgb(218, 112, 214);\"></td></tr></tbody></table>"
       ],
       "metadata": {},
       "output_type": "display_data",
       "text": [
        "<IPython.core.display.HTML at 0x1023c8590>"
       ]
      }
     ],
     "prompt_number": 17
    },
    {
     "cell_type": "markdown",
     "metadata": {},
     "source": [
      "and then look at it again after inverting it:"
     ]
    },
    {
     "cell_type": "code",
     "collapsed": false,
     "input": [
      "invert(row)\n",
      "row.show()"
     ],
     "language": "python",
     "metadata": {},
     "outputs": [
      {
       "ename": "TypeError",
       "evalue": "exceptions must be old-style classes or derived from BaseException, not NotImplementedType",
       "output_type": "pyerr",
       "traceback": [
        "\u001b[0;31m---------------------------------------------------------------------------\u001b[0m\n\u001b[0;31mTypeError\u001b[0m                                 Traceback (most recent call last)",
        "\u001b[0;32m<ipython-input-18-976189eb5286>\u001b[0m in \u001b[0;36m<module>\u001b[0;34m()\u001b[0m\n\u001b[0;32m----> 1\u001b[0;31m \u001b[0minvert\u001b[0m\u001b[0;34m(\u001b[0m\u001b[0mrow\u001b[0m\u001b[0;34m)\u001b[0m\u001b[0;34m\u001b[0m\u001b[0m\n\u001b[0m\u001b[1;32m      2\u001b[0m \u001b[0mrow\u001b[0m\u001b[0;34m.\u001b[0m\u001b[0mshow\u001b[0m\u001b[0;34m(\u001b[0m\u001b[0;34m)\u001b[0m\u001b[0;34m\u001b[0m\u001b[0m\n",
        "\u001b[0;32m<ipython-input-16-48eb82a2f68c>\u001b[0m in \u001b[0;36minvert\u001b[0;34m(grid)\u001b[0m\n\u001b[1;32m      1\u001b[0m \u001b[0;32mdef\u001b[0m \u001b[0minvert\u001b[0m\u001b[0;34m(\u001b[0m\u001b[0mgrid\u001b[0m\u001b[0;34m)\u001b[0m\u001b[0;34m:\u001b[0m\u001b[0;34m\u001b[0m\u001b[0m\n\u001b[1;32m      2\u001b[0m     \u001b[0;32mfor\u001b[0m \u001b[0mx\u001b[0m \u001b[0;32min\u001b[0m \u001b[0mrange\u001b[0m\u001b[0;34m(\u001b[0m\u001b[0mgrid\u001b[0m\u001b[0;34m.\u001b[0m\u001b[0mwidth\u001b[0m\u001b[0;34m)\u001b[0m\u001b[0;34m:\u001b[0m\u001b[0;34m\u001b[0m\u001b[0m\n\u001b[0;32m----> 3\u001b[0;31m         \u001b[0;32mif\u001b[0m \u001b[0mgrid\u001b[0m\u001b[0;34m[\u001b[0m\u001b[0mx\u001b[0m\u001b[0;34m,\u001b[0m \u001b[0;36m0\u001b[0m\u001b[0;34m]\u001b[0m \u001b[0;34m==\u001b[0m \u001b[0mcolors\u001b[0m\u001b[0;34m[\u001b[0m\u001b[0;34m'Orchid'\u001b[0m\u001b[0;34m]\u001b[0m\u001b[0;34m:\u001b[0m\u001b[0;34m\u001b[0m\u001b[0m\n\u001b[0m\u001b[1;32m      4\u001b[0m             \u001b[0mgrid\u001b[0m\u001b[0;34m[\u001b[0m\u001b[0mx\u001b[0m\u001b[0;34m,\u001b[0m \u001b[0;36m0\u001b[0m\u001b[0;34m]\u001b[0m \u001b[0;34m=\u001b[0m \u001b[0mcolors\u001b[0m\u001b[0;34m[\u001b[0m\u001b[0;34m'Black'\u001b[0m\u001b[0;34m]\u001b[0m\u001b[0;34m\u001b[0m\u001b[0m\n\u001b[1;32m      5\u001b[0m         \u001b[0;32melse\u001b[0m\u001b[0;34m:\u001b[0m \u001b[0;31m# must be black\u001b[0m\u001b[0;34m\u001b[0m\u001b[0m\n",
        "\u001b[0;32m/Users/gwilson/anaconda/lib/python2.7/site-packages/ipythonblocks/ipythonblocks.pyc\u001b[0m in \u001b[0;36m__eq__\u001b[0;34m(self, other)\u001b[0m\n\u001b[1;32m    249\u001b[0m     \u001b[0;32mdef\u001b[0m \u001b[0m__eq__\u001b[0m\u001b[0;34m(\u001b[0m\u001b[0mself\u001b[0m\u001b[0;34m,\u001b[0m \u001b[0mother\u001b[0m\u001b[0;34m)\u001b[0m\u001b[0;34m:\u001b[0m\u001b[0;34m\u001b[0m\u001b[0m\n\u001b[1;32m    250\u001b[0m         \u001b[0;32mif\u001b[0m \u001b[0;32mnot\u001b[0m \u001b[0misinstance\u001b[0m\u001b[0;34m(\u001b[0m\u001b[0mother\u001b[0m\u001b[0;34m,\u001b[0m \u001b[0mBlock\u001b[0m\u001b[0;34m)\u001b[0m\u001b[0;34m:\u001b[0m\u001b[0;34m\u001b[0m\u001b[0m\n\u001b[0;32m--> 251\u001b[0;31m             \u001b[0;32mraise\u001b[0m \u001b[0mNotImplemented\u001b[0m\u001b[0;34m\u001b[0m\u001b[0m\n\u001b[0m\u001b[1;32m    252\u001b[0m         \u001b[0;32mreturn\u001b[0m \u001b[0mself\u001b[0m\u001b[0;34m.\u001b[0m\u001b[0mrgb\u001b[0m \u001b[0;34m==\u001b[0m \u001b[0mother\u001b[0m\u001b[0;34m.\u001b[0m\u001b[0mrgb\u001b[0m \u001b[0;32mand\u001b[0m \u001b[0mself\u001b[0m\u001b[0;34m.\u001b[0m\u001b[0msize\u001b[0m \u001b[0;34m==\u001b[0m \u001b[0mother\u001b[0m\u001b[0;34m.\u001b[0m\u001b[0msize\u001b[0m\u001b[0;34m\u001b[0m\u001b[0m\n\u001b[1;32m    253\u001b[0m \u001b[0;34m\u001b[0m\u001b[0m\n",
        "\u001b[0;31mTypeError\u001b[0m: exceptions must be old-style classes or derived from BaseException, not NotImplementedType"
       ]
      }
     ],
     "prompt_number": 18
    },
    {
     "cell_type": "markdown",
     "metadata": {},
     "source": [
      "This error message isn't particularly helpful,\n",
      "since it depends on concepts we haven't encountered yet.\n",
      "After a bit of poking around,\n",
      "though,\n",
      "it turns out that when we select a cell from a grid,\n",
      "we don't get the cell's RGB color value.\n",
      "Instead,\n",
      "we get a `Pixel` that contains both the cell's color and its XY coordinates:"
     ]
    },
    {
     "cell_type": "code",
     "collapsed": false,
     "input": [
      "pixel = row[0, 0]\n",
      "help(pixel)"
     ],
     "language": "python",
     "metadata": {},
     "outputs": [
      {
       "output_type": "stream",
       "stream": "stdout",
       "text": [
        "Help on Pixel in module ipythonblocks.ipythonblocks object:\n",
        "\n",
        "class Pixel(Block)\n",
        " |  Method resolution order:\n",
        " |      Pixel\n",
        " |      Block\n",
        " |      __builtin__.object\n",
        " |  \n",
        " |  Methods defined here:\n",
        " |  \n",
        " |  __str__(self)\n",
        " |  \n",
        " |  ----------------------------------------------------------------------\n",
        " |  Data descriptors defined here:\n",
        " |  \n",
        " |  x\n",
        " |      Horizontal coordinate of Pixel.\n",
        " |  \n",
        " |  y\n",
        " |      Vertical coordinate of Pixel.\n",
        " |  \n",
        " |  ----------------------------------------------------------------------\n",
        " |  Methods inherited from Block:\n",
        " |  \n",
        " |  __eq__(self, other)\n",
        " |  \n",
        " |  __init__(self, red, green, blue, size=20)\n",
        " |  \n",
        " |  __repr__(self)\n",
        " |  \n",
        " |  set_colors(self, red, green, blue)\n",
        " |      Updated block colors.\n",
        " |      \n",
        " |      Parameters\n",
        " |      ----------\n",
        " |      red, green, blue : int\n",
        " |          Integers on the range [0 - 255].\n",
        " |  \n",
        " |  show(self)\n",
        " |  \n",
        " |  ----------------------------------------------------------------------\n",
        " |  Data descriptors inherited from Block:\n",
        " |  \n",
        " |  __dict__\n",
        " |      dictionary for instance variables (if defined)\n",
        " |  \n",
        " |  __weakref__\n",
        " |      list of weak references to the object (if defined)\n",
        " |  \n",
        " |  blue\n",
        " |  \n",
        " |  col\n",
        " |  \n",
        " |  green\n",
        " |  \n",
        " |  red\n",
        " |  \n",
        " |  rgb\n",
        " |  \n",
        " |  row\n",
        " |  \n",
        " |  size\n",
        " |  \n",
        " |  ----------------------------------------------------------------------\n",
        " |  Data and other attributes inherited from Block:\n",
        " |  \n",
        " |  __hash__ = None\n",
        "\n"
       ]
      }
     ],
     "prompt_number": 19
    },
    {
     "cell_type": "markdown",
     "metadata": {},
     "source": [
      "What we need to do is compare `colors['Black']` with `grid[x, 0].rgb`.\n",
      "Let's rewrite our function and try it:"
     ]
    },
    {
     "cell_type": "code",
     "collapsed": false,
     "input": [
      "def invert(grid):\n",
      "    for x in range(grid.width):\n",
      "        if grid[x, 0].rgb == colors['Orchid']: # comparing to RGB\n",
      "            grid[x, 0] = colors['Black']\n",
      "        else:\n",
      "            grid[x, 0] = colors['Orchid']\n",
      "\n",
      "invert(row)\n",
      "row.show()"
     ],
     "language": "python",
     "metadata": {},
     "outputs": [
      {
       "html": [
        "<style type=\"text/css\">table.blockgrid {border: none;} .blockgrid tr {border: none;} .blockgrid td {padding: 0px;} #blocks6eea303d-5bfc-4bfd-a3bc-e4a6023d44ec td {border: 1px solid white;}</style><table id=\"blocks6eea303d-5bfc-4bfd-a3bc-e4a6023d44ec\" class=\"blockgrid\"><tbody><tr><td title=\"Index: [0, 0]&#10;Color: (218, 112, 214)\" style=\"width: 20px; height: 20px;background-color: rgb(218, 112, 214);\"></td><td title=\"Index: [1, 0]&#10;Color: (0, 0, 0)\" style=\"width: 20px; height: 20px;background-color: rgb(0, 0, 0);\"></td><td title=\"Index: [2, 0]&#10;Color: (218, 112, 214)\" style=\"width: 20px; height: 20px;background-color: rgb(218, 112, 214);\"></td><td title=\"Index: [3, 0]&#10;Color: (218, 112, 214)\" style=\"width: 20px; height: 20px;background-color: rgb(218, 112, 214);\"></td><td title=\"Index: [4, 0]&#10;Color: (218, 112, 214)\" style=\"width: 20px; height: 20px;background-color: rgb(218, 112, 214);\"></td><td title=\"Index: [5, 0]&#10;Color: (0, 0, 0)\" style=\"width: 20px; height: 20px;background-color: rgb(0, 0, 0);\"></td></tr></tbody></table>"
       ],
       "metadata": {},
       "output_type": "display_data",
       "text": [
        "<IPython.core.display.HTML at 0x10346f350>"
       ]
      }
     ],
     "prompt_number": 20
    },
    {
     "cell_type": "markdown",
     "metadata": {},
     "source": [
      "That seems to have worked&mdash;let's try with the other row:"
     ]
    },
    {
     "cell_type": "code",
     "collapsed": false,
     "input": [
      "invert(another_row)\n",
      "another_row.show()"
     ],
     "language": "python",
     "metadata": {},
     "outputs": [
      {
       "html": [
        "<style type=\"text/css\">table.blockgrid {border: none;} .blockgrid tr {border: none;} .blockgrid td {padding: 0px;} #blocks248441e9-e71c-4ef3-9cf1-093dc297587c td {border: 1px solid white;}</style><table id=\"blocks248441e9-e71c-4ef3-9cf1-093dc297587c\" class=\"blockgrid\"><tbody><tr><td title=\"Index: [0, 0]&#10;Color: (0, 0, 0)\" style=\"width: 20px; height: 20px;background-color: rgb(0, 0, 0);\"></td><td title=\"Index: [1, 0]&#10;Color: (0, 0, 0)\" style=\"width: 20px; height: 20px;background-color: rgb(0, 0, 0);\"></td><td title=\"Index: [2, 0]&#10;Color: (218, 112, 214)\" style=\"width: 20px; height: 20px;background-color: rgb(218, 112, 214);\"></td><td title=\"Index: [3, 0]&#10;Color: (0, 0, 0)\" style=\"width: 20px; height: 20px;background-color: rgb(0, 0, 0);\"></td><td title=\"Index: [4, 0]&#10;Color: (218, 112, 214)\" style=\"width: 20px; height: 20px;background-color: rgb(218, 112, 214);\"></td><td title=\"Index: [5, 0]&#10;Color: (218, 112, 214)\" style=\"width: 20px; height: 20px;background-color: rgb(218, 112, 214);\"></td><td title=\"Index: [6, 0]&#10;Color: (218, 112, 214)\" style=\"width: 20px; height: 20px;background-color: rgb(218, 112, 214);\"></td><td title=\"Index: [7, 0]&#10;Color: (218, 112, 214)\" style=\"width: 20px; height: 20px;background-color: rgb(218, 112, 214);\"></td></tr></tbody></table>"
       ],
       "metadata": {},
       "output_type": "display_data",
       "text": [
        "<IPython.core.display.HTML at 0x1034534d0>"
       ]
      }
     ],
     "prompt_number": 21
    },
    {
     "cell_type": "markdown",
     "metadata": {},
     "source": [
      "That seems to have worked too&mdash;or did it?\n",
      "We can't check by displaying the original state of `another_row`\n",
      "because we've just changed it.\n",
      "What we really ought to do is change our function to create a new grid\n",
      "rather than modifying the one we pass in:"
     ]
    },
    {
     "cell_type": "code",
     "collapsed": false,
     "input": [
      "def invert(grid):\n",
      "    result = ImageGrid(grid.width, 1)\n",
      "    for x in range(grid.width):\n",
      "        if grid[x, 0].rgb == colors['Orchid']:\n",
      "            result[x, 0] = colors['Black']\n",
      "        else:\n",
      "            result[x, 0] = colors['Orchid']\n",
      "    return result"
     ],
     "language": "python",
     "metadata": {},
     "outputs": [],
     "prompt_number": 22
    },
    {
     "cell_type": "markdown",
     "metadata": {},
     "source": [
      "Let's try it out:"
     ]
    },
    {
     "cell_type": "code",
     "collapsed": false,
     "input": [
      "test_case = ImageGrid(4, 1)\n",
      "test_case[0, 0] = colors['Orchid']\n",
      "test_case[3, 0] = colors['Orchid']\n",
      "test_case.show()"
     ],
     "language": "python",
     "metadata": {},
     "outputs": [
      {
       "html": [
        "<style type=\"text/css\">table.blockgrid {border: none;} .blockgrid tr {border: none;} .blockgrid td {padding: 0px;} #blocks3bf199a8-0c35-4df4-a526-71c95e88f28d td {border: 1px solid white;}</style><table id=\"blocks3bf199a8-0c35-4df4-a526-71c95e88f28d\" class=\"blockgrid\"><tbody><tr><td title=\"Index: [0, 0]&#10;Color: (218, 112, 214)\" style=\"width: 20px; height: 20px;background-color: rgb(218, 112, 214);\"></td><td title=\"Index: [1, 0]&#10;Color: (0, 0, 0)\" style=\"width: 20px; height: 20px;background-color: rgb(0, 0, 0);\"></td><td title=\"Index: [2, 0]&#10;Color: (0, 0, 0)\" style=\"width: 20px; height: 20px;background-color: rgb(0, 0, 0);\"></td><td title=\"Index: [3, 0]&#10;Color: (218, 112, 214)\" style=\"width: 20px; height: 20px;background-color: rgb(218, 112, 214);\"></td></tr></tbody></table>"
       ],
       "metadata": {},
       "output_type": "display_data",
       "text": [
        "<IPython.core.display.HTML at 0x103453e90>"
       ]
      }
     ],
     "prompt_number": 23
    },
    {
     "cell_type": "markdown",
     "metadata": {},
     "source": [
      "and:"
     ]
    },
    {
     "cell_type": "code",
     "collapsed": false,
     "input": [
      "changed = invert(test_case)\n",
      "changed.show()"
     ],
     "language": "python",
     "metadata": {},
     "outputs": [
      {
       "html": [
        "<style type=\"text/css\">table.blockgrid {border: none;} .blockgrid tr {border: none;} .blockgrid td {padding: 0px;} #blocksd4fff8da-44e7-405a-b893-2b002a5e906f td {border: 1px solid white;}</style><table id=\"blocksd4fff8da-44e7-405a-b893-2b002a5e906f\" class=\"blockgrid\"><tbody><tr><td title=\"Index: [0, 0]&#10;Color: (0, 0, 0)\" style=\"width: 20px; height: 20px;background-color: rgb(0, 0, 0);\"></td><td title=\"Index: [1, 0]&#10;Color: (218, 112, 214)\" style=\"width: 20px; height: 20px;background-color: rgb(218, 112, 214);\"></td><td title=\"Index: [2, 0]&#10;Color: (218, 112, 214)\" style=\"width: 20px; height: 20px;background-color: rgb(218, 112, 214);\"></td><td title=\"Index: [3, 0]&#10;Color: (0, 0, 0)\" style=\"width: 20px; height: 20px;background-color: rgb(0, 0, 0);\"></td></tr></tbody></table>"
       ],
       "metadata": {},
       "output_type": "display_data",
       "text": [
        "<IPython.core.display.HTML at 0x103453a10>"
       ]
      }
     ],
     "prompt_number": 24
    },
    {
     "cell_type": "markdown",
     "metadata": {},
     "source": [
      "and:"
     ]
    },
    {
     "cell_type": "code",
     "collapsed": false,
     "input": [
      "test_case.show()"
     ],
     "language": "python",
     "metadata": {},
     "outputs": [
      {
       "html": [
        "<style type=\"text/css\">table.blockgrid {border: none;} .blockgrid tr {border: none;} .blockgrid td {padding: 0px;} #blocksff030655-38bd-47fa-83c7-93f2dba53412 td {border: 1px solid white;}</style><table id=\"blocksff030655-38bd-47fa-83c7-93f2dba53412\" class=\"blockgrid\"><tbody><tr><td title=\"Index: [0, 0]&#10;Color: (218, 112, 214)\" style=\"width: 20px; height: 20px;background-color: rgb(218, 112, 214);\"></td><td title=\"Index: [1, 0]&#10;Color: (0, 0, 0)\" style=\"width: 20px; height: 20px;background-color: rgb(0, 0, 0);\"></td><td title=\"Index: [2, 0]&#10;Color: (0, 0, 0)\" style=\"width: 20px; height: 20px;background-color: rgb(0, 0, 0);\"></td><td title=\"Index: [3, 0]&#10;Color: (218, 112, 214)\" style=\"width: 20px; height: 20px;background-color: rgb(218, 112, 214);\"></td></tr></tbody></table>"
       ],
       "metadata": {},
       "output_type": "display_data",
       "text": [
        "<IPython.core.display.HTML at 0x1034537d0>"
       ]
      }
     ],
     "prompt_number": 25
    },
    {
     "cell_type": "markdown",
     "metadata": {},
     "source": [
      "That's better:\n",
      "we still have our original data to compare our new data to,\n",
      "and if we really want to overwrite the original,\n",
      "we can always do this:"
     ]
    },
    {
     "cell_type": "code",
     "collapsed": false,
     "input": [
      "test_case = invert(test_case)\n",
      "test_case.show()"
     ],
     "language": "python",
     "metadata": {},
     "outputs": [
      {
       "html": [
        "<style type=\"text/css\">table.blockgrid {border: none;} .blockgrid tr {border: none;} .blockgrid td {padding: 0px;} #blocks882b9daa-419d-4260-961d-3bba04843cf5 td {border: 1px solid white;}</style><table id=\"blocks882b9daa-419d-4260-961d-3bba04843cf5\" class=\"blockgrid\"><tbody><tr><td title=\"Index: [0, 0]&#10;Color: (0, 0, 0)\" style=\"width: 20px; height: 20px;background-color: rgb(0, 0, 0);\"></td><td title=\"Index: [1, 0]&#10;Color: (218, 112, 214)\" style=\"width: 20px; height: 20px;background-color: rgb(218, 112, 214);\"></td><td title=\"Index: [2, 0]&#10;Color: (218, 112, 214)\" style=\"width: 20px; height: 20px;background-color: rgb(218, 112, 214);\"></td><td title=\"Index: [3, 0]&#10;Color: (0, 0, 0)\" style=\"width: 20px; height: 20px;background-color: rgb(0, 0, 0);\"></td></tr></tbody></table>"
       ],
       "metadata": {},
       "output_type": "display_data",
       "text": [
        "<IPython.core.display.HTML at 0x103453dd0>"
       ]
      }
     ],
     "prompt_number": 26
    },
    {
     "cell_type": "markdown",
     "metadata": {},
     "source": [
      "<hr/>\n",
      "### *When to Mutate*\n",
      "\n",
      "<em>\n",
      "Changing a value in place is called [mutating](glossary.html#mutation) it.\n",
      "It makes programs harder to understand,\n",
      "since readers have to follow a sequence of steps in order to figure out\n",
      "what the value of a variable is,\n",
      "but it is often done for the sake of efficiency.\n",
      "Creating a new four-pixel image grid takes almost no time at all,\n",
      "but copying a multi-gigabyte video in order to eliminate red-eye in a couple of frames\n",
      "would be very slow.\n",
      "We'll return to this topic in [the lesson on lists](python-4-files-lists.ipynb).\n",
      "</em>\n",
      "<hr/>"
     ]
    },
    {
     "cell_type": "heading",
     "level": 2,
     "metadata": {},
     "source": [
      "Boolean Values and Operators"
     ]
    },
    {
     "cell_type": "markdown",
     "metadata": {},
     "source": [
      "Most people understand that 5+3 produces the value 8,\n",
      "but it can take a while to realize that 5>3 also produces a value.\n",
      "Let's do a few experiments:"
     ]
    },
    {
     "cell_type": "code",
     "collapsed": false,
     "input": [
      "print '5 is greater than 3:', 5 > 3\n",
      "print '5 is less than 3:', 5 < 3"
     ],
     "language": "python",
     "metadata": {},
     "outputs": [
      {
       "output_type": "stream",
       "stream": "stdout",
       "text": [
        "5 is greater than 3: True\n",
        "5 is less than 3: False\n"
       ]
      }
     ],
     "prompt_number": 27
    },
    {
     "cell_type": "markdown",
     "metadata": {},
     "source": [
      "The result of an expression like 5>3 is the [Boolean](glossary.html#Boolean) `True`;\n",
      "the result of 5<3 is the Boolean `False`.\n",
      "Those are the only two values of the type `bool`:\n",
      "there are many thousands of different characters,\n",
      "and millions of integers and floating-point numbers,\n",
      "but `True` and `False` are all that `bool` gets.\n",
      "Like other values,\n",
      "Booleans can be assigned to variables:"
     ]
    },
    {
     "cell_type": "code",
     "collapsed": false,
     "input": [
      "answer = 5 > 3\n",
      "print 'answer stored in variable:', answer"
     ],
     "language": "python",
     "metadata": {},
     "outputs": [
      {
       "output_type": "stream",
       "stream": "stdout",
       "text": [
        "answer stored in variable: True\n"
       ]
      }
     ],
     "prompt_number": 28
    },
    {
     "cell_type": "markdown",
     "metadata": {},
     "source": [
      "Booleans can also be used directly in conditional statements:"
     ]
    },
    {
     "cell_type": "code",
     "collapsed": false,
     "input": [
      "if answer:\n",
      "    print 'answer is true'"
     ],
     "language": "python",
     "metadata": {},
     "outputs": [
      {
       "output_type": "stream",
       "stream": "stdout",
       "text": [
        "answer is true\n"
       ]
      }
     ],
     "prompt_number": 29
    },
    {
     "cell_type": "markdown",
     "metadata": {},
     "source": [
      "Note that we do *not* write `if answer == True`.\n",
      "`answer` itself is either `True` or `False`,\n",
      "and that's all `if` needs.\n",
      "As the table below shows,\n",
      "comparing a Boolean to `True` is redundant:"
     ]
    },
    {
     "cell_type": "markdown",
     "metadata": {},
     "source": [
      "<table>\n",
      "<tr><th>Value</th><th>`== True`</th></tr>\n",
      "<tr><td>`True`</td><td>`True`</td></tr>\n",
      "<tr><td>`False`</td><td>`False`</td></tr>\n",
      "</table>"
     ]
    },
    {
     "cell_type": "markdown",
     "metadata": {},
     "source": [
      "Booleans can be manipulated using three operators: `and`, `or`, and `not`.\n",
      "The third is the simplest:\n",
      "if `x` is `True`,\n",
      "`not x` is `False`\n",
      "and vice versa.\n",
      "`and` produces `True` only if both of its operands are `True`,\n",
      "while `or` produces `True` if either or both of its operands are `True`.\n",
      "(This is sometimes called [inclusive or](glossary.html#inclusive_or);\n",
      "the term [exclusive or](glossary.html#exclusive_or) is used to mean\n",
      "\"one or the other is true, but not both\".)\n",
      "The Venn diagram below shows how these operators work\n",
      "when we are looking at creatures that can either fly or not,\n",
      "and are either real or not:"
     ]
    },
    {
     "cell_type": "markdown",
     "metadata": {},
     "source": [
      "FIXME: diagram"
     ]
    },
    {
     "cell_type": "markdown",
     "metadata": {},
     "source": [
      "Python evaluates `and` and `or` a bit differently from\n",
      "the way it evaluates arithmetic operators like `+` and `*`.\n",
      "When Python executes `x+y`,\n",
      "it gets the values of `x` and `y` before performing the addition,\n",
      "but is allowed to decide for itself whether to get `x` or `y` first.\n",
      "When it evaluates `x or y`,\n",
      "on the other hand,\n",
      "it always starts by checking whether `x` is `True`.\n",
      "If it is,\n",
      "it stops evaluation right there:\n",
      "since `or` is `True` if either operand is `True`,\n",
      "Python doesn't need to know the value of `y` in order to complete its calculations.\n",
      "If `x` is `False`,\n",
      "on the other hand,\n",
      "Python must get `y` in order to figure out the expression's final value."
     ]
    },
    {
     "cell_type": "markdown",
     "metadata": {},
     "source": [
      "Similarly,\n",
      "when Python evaluates `x and y`,\n",
      "it always starts by getting the value of `x`.\n",
      "If this is `False`,\n",
      "the result is bound to be `False`,\n",
      "so Python doesn't even try to get the value of `y`.\n",
      "This is called [short-circuit evaluation](glossary.html#short_circuit_evaluation),\n",
      "and is often used to do things like this:"
     ]
    },
    {
     "cell_type": "markdown",
     "metadata": {},
     "source": [
      "```python\n",
      "if (number != 0) and (1/number < threshold):\n",
      "    total += 1/number\n",
      "```"
     ]
    },
    {
     "cell_type": "markdown",
     "metadata": {},
     "source": [
      "Without that first test,\n",
      "the `if` would blow up if `number` was zero.\n",
      "Since Python always executes the check for zero *before* checking the reciprocal of `number`,\n",
      "though,\n",
      "this is safe to execute."
     ]
    },
    {
     "cell_type": "markdown",
     "metadata": {},
     "source": [
      "One other thing that's special about Booleans is that\n",
      "values of almost any other type can be used in their place.\n",
      "The numbers 0 and 0.0 are treated as equivalent to `False`,\n",
      "and so is the [empty string](glossary.html#empty_string) `''`;\n",
      "all other numbers and strings are equivalent to `True`.\n",
      "This means that we can rewrite:"
     ]
    },
    {
     "cell_type": "markdown",
     "metadata": {},
     "source": [
      "```python\n",
      "if len(some_string) > 0:\n",
      "    ...do something...\n",
      "```"
     ]
    },
    {
     "cell_type": "markdown",
     "metadata": {},
     "source": [
      "as:"
     ]
    },
    {
     "cell_type": "markdown",
     "metadata": {},
     "source": [
      "```python\n",
      "if len(some_string):\n",
      "    ...do something...\n",
      "```"
     ]
    },
    {
     "cell_type": "markdown",
     "metadata": {},
     "source": [
      "or even just as:"
     ]
    },
    {
     "cell_type": "markdown",
     "metadata": {},
     "source": [
      "```python\n",
      "if some_string:\n",
      "    ...do something...\n",
      "```"
     ]
    },
    {
     "cell_type": "markdown",
     "metadata": {},
     "source": [
      "The first version checks that the length of the string is greater than zero,\n",
      "i.e.,\n",
      "that the string contains some characters.\n",
      "The second version checks that the length of the string is not zero;\n",
      "since the length can't be negative,\n",
      "this is the same as checking that it's positive.\n",
      "The final version just checks that `some_string` is not the empty string:\n",
      "it's the shortest,\n",
      "the most efficient to execute,\n",
      "and the one that most experienced Python programmers would write,\n",
      "but it also puts the greatest burden on the reader.\n",
      "Which one you use is up to you,\n",
      "but whatever you do,\n",
      "please be consistent:\n",
      "many studies have shown that people can learn to read almost anything quickly\n",
      "as long as there are patterns for their eyes and brain to follow"
     ]
    },
    {
     "cell_type": "heading",
     "level": 2,
     "metadata": {},
     "source": [
      "Defensive Programming"
     ]
    },
    {
     "cell_type": "markdown",
     "metadata": {},
     "source": [
      "Initializing image grids by assigning colors to cells one at a time is getting pretty tedious,\n",
      "so let's invent something easier.\n",
      "As a general rule,\n",
      "this is how a lot of software gets written,\n",
      "and not just by scientists:\n",
      "if we find ourselves doing the same thing repeatedly,\n",
      "it's worth taking a few minutes to teach the computer how to do it for us."
     ]
    },
    {
     "cell_type": "markdown",
     "metadata": {},
     "source": [
      "We'll start by coloring the cells of a one-row grid red or green\n",
      "based on a string containing the letters 'R' and 'G':"
     ]
    },
    {
     "cell_type": "code",
     "collapsed": false,
     "input": [
      "data = 'RGRGRRGG'\n",
      "row = ImageGrid(8, 1)\n",
      "for x in range(8):\n",
      "    if data[x] == 'R':\n",
      "        row[x, 0] = colors['Red']\n",
      "    else:\n",
      "        row[x, 0] = colors['Green']\n",
      "row.show()"
     ],
     "language": "python",
     "metadata": {},
     "outputs": [
      {
       "html": [
        "<style type=\"text/css\">table.blockgrid {border: none;} .blockgrid tr {border: none;} .blockgrid td {padding: 0px;} #blocksc7bfa52e-d53c-4b5f-8d4f-83c961b305fb td {border: 1px solid white;}</style><table id=\"blocksc7bfa52e-d53c-4b5f-8d4f-83c961b305fb\" class=\"blockgrid\"><tbody><tr><td title=\"Index: [0, 0]&#10;Color: (255, 0, 0)\" style=\"width: 20px; height: 20px;background-color: rgb(255, 0, 0);\"></td><td title=\"Index: [1, 0]&#10;Color: (0, 128, 0)\" style=\"width: 20px; height: 20px;background-color: rgb(0, 128, 0);\"></td><td title=\"Index: [2, 0]&#10;Color: (255, 0, 0)\" style=\"width: 20px; height: 20px;background-color: rgb(255, 0, 0);\"></td><td title=\"Index: [3, 0]&#10;Color: (0, 128, 0)\" style=\"width: 20px; height: 20px;background-color: rgb(0, 128, 0);\"></td><td title=\"Index: [4, 0]&#10;Color: (255, 0, 0)\" style=\"width: 20px; height: 20px;background-color: rgb(255, 0, 0);\"></td><td title=\"Index: [5, 0]&#10;Color: (255, 0, 0)\" style=\"width: 20px; height: 20px;background-color: rgb(255, 0, 0);\"></td><td title=\"Index: [6, 0]&#10;Color: (0, 128, 0)\" style=\"width: 20px; height: 20px;background-color: rgb(0, 128, 0);\"></td><td title=\"Index: [7, 0]&#10;Color: (0, 128, 0)\" style=\"width: 20px; height: 20px;background-color: rgb(0, 128, 0);\"></td></tr></tbody></table>"
       ],
       "metadata": {},
       "output_type": "display_data",
       "text": [
        "<IPython.core.display.HTML at 0x10347a750>"
       ]
      }
     ],
     "prompt_number": 30
    },
    {
     "cell_type": "markdown",
     "metadata": {},
     "source": [
      "That seems to have worked:\n",
      "the cells of the grid are red and green in the same locations that\n",
      "the characters 'R' and 'G' appear in the string.\n",
      "Let's try putting the code in a function:"
     ]
    },
    {
     "cell_type": "code",
     "collapsed": false,
     "input": [
      "def color_from_string(grid, data):\n",
      "    for x in range(grid.width):\n",
      "        if data[x] == 'R':\n",
      "            grid[x, 0] = colors['Red']\n",
      "        else:\n",
      "            grid[x, 0] = colors['Green']\n",
      "\n",
      "test_row = ImageGrid(8, 1)\n",
      "color_from_string(test_row, 'RGRGRGG')\n",
      "test_row.show()"
     ],
     "language": "python",
     "metadata": {},
     "outputs": [
      {
       "ename": "IndexError",
       "evalue": "string index out of range",
       "output_type": "pyerr",
       "traceback": [
        "\u001b[0;31m---------------------------------------------------------------------------\u001b[0m\n\u001b[0;31mIndexError\u001b[0m                                Traceback (most recent call last)",
        "\u001b[0;32m<ipython-input-31-000b48022a44>\u001b[0m in \u001b[0;36m<module>\u001b[0;34m()\u001b[0m\n\u001b[1;32m      7\u001b[0m \u001b[0;34m\u001b[0m\u001b[0m\n\u001b[1;32m      8\u001b[0m \u001b[0mtest_row\u001b[0m \u001b[0;34m=\u001b[0m \u001b[0mImageGrid\u001b[0m\u001b[0;34m(\u001b[0m\u001b[0;36m8\u001b[0m\u001b[0;34m,\u001b[0m \u001b[0;36m1\u001b[0m\u001b[0;34m)\u001b[0m\u001b[0;34m\u001b[0m\u001b[0m\n\u001b[0;32m----> 9\u001b[0;31m \u001b[0mcolor_from_string\u001b[0m\u001b[0;34m(\u001b[0m\u001b[0mtest_row\u001b[0m\u001b[0;34m,\u001b[0m \u001b[0;34m'RGRGRGG'\u001b[0m\u001b[0;34m)\u001b[0m\u001b[0;34m\u001b[0m\u001b[0m\n\u001b[0m\u001b[1;32m     10\u001b[0m \u001b[0mtest_row\u001b[0m\u001b[0;34m.\u001b[0m\u001b[0mshow\u001b[0m\u001b[0;34m(\u001b[0m\u001b[0;34m)\u001b[0m\u001b[0;34m\u001b[0m\u001b[0m\n",
        "\u001b[0;32m<ipython-input-31-000b48022a44>\u001b[0m in \u001b[0;36mcolor_from_string\u001b[0;34m(grid, data)\u001b[0m\n\u001b[1;32m      1\u001b[0m \u001b[0;32mdef\u001b[0m \u001b[0mcolor_from_string\u001b[0m\u001b[0;34m(\u001b[0m\u001b[0mgrid\u001b[0m\u001b[0;34m,\u001b[0m \u001b[0mdata\u001b[0m\u001b[0;34m)\u001b[0m\u001b[0;34m:\u001b[0m\u001b[0;34m\u001b[0m\u001b[0m\n\u001b[1;32m      2\u001b[0m     \u001b[0;32mfor\u001b[0m \u001b[0mx\u001b[0m \u001b[0;32min\u001b[0m \u001b[0mrange\u001b[0m\u001b[0;34m(\u001b[0m\u001b[0mgrid\u001b[0m\u001b[0;34m.\u001b[0m\u001b[0mwidth\u001b[0m\u001b[0;34m)\u001b[0m\u001b[0;34m:\u001b[0m\u001b[0;34m\u001b[0m\u001b[0m\n\u001b[0;32m----> 3\u001b[0;31m         \u001b[0;32mif\u001b[0m \u001b[0mdata\u001b[0m\u001b[0;34m[\u001b[0m\u001b[0mx\u001b[0m\u001b[0;34m]\u001b[0m \u001b[0;34m==\u001b[0m \u001b[0;34m'R'\u001b[0m\u001b[0;34m:\u001b[0m\u001b[0;34m\u001b[0m\u001b[0m\n\u001b[0m\u001b[1;32m      4\u001b[0m             \u001b[0mgrid\u001b[0m\u001b[0;34m[\u001b[0m\u001b[0mx\u001b[0m\u001b[0;34m,\u001b[0m \u001b[0;36m0\u001b[0m\u001b[0;34m]\u001b[0m \u001b[0;34m=\u001b[0m \u001b[0mcolors\u001b[0m\u001b[0;34m[\u001b[0m\u001b[0;34m'Red'\u001b[0m\u001b[0;34m]\u001b[0m\u001b[0;34m\u001b[0m\u001b[0m\n\u001b[1;32m      5\u001b[0m         \u001b[0;32melse\u001b[0m\u001b[0;34m:\u001b[0m\u001b[0;34m\u001b[0m\u001b[0m\n",
        "\u001b[0;31mIndexError\u001b[0m: string index out of range"
       ]
      }
     ],
     "prompt_number": 31
    },
    {
     "cell_type": "markdown",
     "metadata": {},
     "source": [
      "Whoops:\n",
      "it looks like we're trying to get a character from the string that doesn't exist.\n",
      "Let's try printing out our loop variable as we go along:"
     ]
    },
    {
     "cell_type": "code",
     "collapsed": false,
     "input": [
      "def color_from_string(grid, data):\n",
      "    for x in range(grid.width):\n",
      "        print '*** x is', x\n",
      "        if data[x] == 'R':\n",
      "            grid[x, 0] = colors['Red']\n",
      "        else:\n",
      "            grid[x, 0] = colors['Green']\n",
      "\n",
      "color_from_string(test_row, 'RGRGRRGG')"
     ],
     "language": "python",
     "metadata": {},
     "outputs": [
      {
       "output_type": "stream",
       "stream": "stdout",
       "text": [
        "*** x is 0\n",
        "*** x is 1\n",
        "*** x is 2\n",
        "*** x is 3\n",
        "*** x is 4\n",
        "*** x is 5\n",
        "*** x is 6\n",
        "*** x is 7\n"
       ]
      }
     ],
     "prompt_number": 32
    },
    {
     "cell_type": "markdown",
     "metadata": {},
     "source": [
      "Why would printing out the loop variable stop the function from crashing?\n",
      "The answer is that we didn't just add a `print` statement to our function:\n",
      "we also passed in a different character string.\n",
      "In the first call,\n",
      "we used `'RGRGRGG'`,\n",
      "which has only 7 characters;\n",
      "in the second,\n",
      "we used `'RGRGRRGG'`,\n",
      "which has 8.\n",
      "This is an example of what happens when we violate the DRY Principle,\n",
      "so let's fix it now:"
     ]
    },
    {
     "cell_type": "code",
     "collapsed": false,
     "input": [
      "test_string = 'RGRGRRGG' # with the right number of characters\n",
      "color_from_string(test_row, test_string)\n",
      "test_row.show()"
     ],
     "language": "python",
     "metadata": {},
     "outputs": [
      {
       "output_type": "stream",
       "stream": "stdout",
       "text": [
        "*** x is 0\n",
        "*** x is 1\n",
        "*** x is 2\n",
        "*** x is 3\n",
        "*** x is 4\n",
        "*** x is 5\n",
        "*** x is 6\n",
        "*** x is 7\n"
       ]
      },
      {
       "html": [
        "<style type=\"text/css\">table.blockgrid {border: none;} .blockgrid tr {border: none;} .blockgrid td {padding: 0px;} #blocks2a9c2c57-821e-44fe-9929-49f8ed8356a7 td {border: 1px solid white;}</style><table id=\"blocks2a9c2c57-821e-44fe-9929-49f8ed8356a7\" class=\"blockgrid\"><tbody><tr><td title=\"Index: [0, 0]&#10;Color: (255, 0, 0)\" style=\"width: 20px; height: 20px;background-color: rgb(255, 0, 0);\"></td><td title=\"Index: [1, 0]&#10;Color: (0, 128, 0)\" style=\"width: 20px; height: 20px;background-color: rgb(0, 128, 0);\"></td><td title=\"Index: [2, 0]&#10;Color: (255, 0, 0)\" style=\"width: 20px; height: 20px;background-color: rgb(255, 0, 0);\"></td><td title=\"Index: [3, 0]&#10;Color: (0, 128, 0)\" style=\"width: 20px; height: 20px;background-color: rgb(0, 128, 0);\"></td><td title=\"Index: [4, 0]&#10;Color: (255, 0, 0)\" style=\"width: 20px; height: 20px;background-color: rgb(255, 0, 0);\"></td><td title=\"Index: [5, 0]&#10;Color: (255, 0, 0)\" style=\"width: 20px; height: 20px;background-color: rgb(255, 0, 0);\"></td><td title=\"Index: [6, 0]&#10;Color: (0, 128, 0)\" style=\"width: 20px; height: 20px;background-color: rgb(0, 128, 0);\"></td><td title=\"Index: [7, 0]&#10;Color: (0, 128, 0)\" style=\"width: 20px; height: 20px;background-color: rgb(0, 128, 0);\"></td></tr></tbody></table>"
       ],
       "metadata": {},
       "output_type": "display_data",
       "text": [
        "<IPython.core.display.HTML at 0x10347a9d0>"
       ]
      }
     ],
     "prompt_number": 33
    },
    {
     "cell_type": "markdown",
     "metadata": {},
     "source": [
      "That's better&mdash;but\n",
      "since there's no guarantee we won't make the same mistake again,\n",
      "we really ought to modify the function to detect the problem\n",
      "*before* we start modifying cell colors.\n",
      "(We also ought to take out the `print` statement.)"
     ]
    },
    {
     "cell_type": "code",
     "collapsed": false,
     "input": [
      "def color_from_string(grid, data):\n",
      "    assert grid.width == len(data), 'Grid and string lengths do not match'\n",
      "    for x in range(grid.width):\n",
      "        if data[x] == 'R':\n",
      "            grid[x, 0] = colors['Red']\n",
      "        else:\n",
      "            grid[x, 0] = colors['Green']"
     ],
     "language": "python",
     "metadata": {},
     "outputs": [],
     "prompt_number": 34
    },
    {
     "cell_type": "markdown",
     "metadata": {},
     "source": [
      "The statement on line 2 is called an [assertion](glossary.html#assertion).\n",
      "When Python encounters one,\n",
      "it checks that the assertion's condition is true.\n",
      "If it is,\n",
      "Python does nothing,\n",
      "but if it's not,\n",
      "Python halts the program immediately\n",
      "and prints the error message provided.\n",
      "Let's test it out:"
     ]
    },
    {
     "cell_type": "code",
     "collapsed": false,
     "input": [
      "should_work = ImageGrid(4, 1)\n",
      "color_from_string(should_work, 'RGRG')\n",
      "should_work.show()"
     ],
     "language": "python",
     "metadata": {},
     "outputs": [
      {
       "html": [
        "<style type=\"text/css\">table.blockgrid {border: none;} .blockgrid tr {border: none;} .blockgrid td {padding: 0px;} #blocksc8683597-a447-4a17-a0dc-af162ae88265 td {border: 1px solid white;}</style><table id=\"blocksc8683597-a447-4a17-a0dc-af162ae88265\" class=\"blockgrid\"><tbody><tr><td title=\"Index: [0, 0]&#10;Color: (255, 0, 0)\" style=\"width: 20px; height: 20px;background-color: rgb(255, 0, 0);\"></td><td title=\"Index: [1, 0]&#10;Color: (0, 128, 0)\" style=\"width: 20px; height: 20px;background-color: rgb(0, 128, 0);\"></td><td title=\"Index: [2, 0]&#10;Color: (255, 0, 0)\" style=\"width: 20px; height: 20px;background-color: rgb(255, 0, 0);\"></td><td title=\"Index: [3, 0]&#10;Color: (0, 128, 0)\" style=\"width: 20px; height: 20px;background-color: rgb(0, 128, 0);\"></td></tr></tbody></table>"
       ],
       "metadata": {},
       "output_type": "display_data",
       "text": [
        "<IPython.core.display.HTML at 0x10347af50>"
       ]
      }
     ],
     "prompt_number": 35
    },
    {
     "cell_type": "markdown",
     "metadata": {},
     "source": [
      "and:"
     ]
    },
    {
     "cell_type": "code",
     "collapsed": false,
     "input": [
      "should_fail = ImageGrid(4, 1)\n",
      "color_from_string(should_fail, 'RGRGRGRG') # string is too long"
     ],
     "language": "python",
     "metadata": {},
     "outputs": [
      {
       "ename": "AssertionError",
       "evalue": "Grid and string lengths do not match",
       "output_type": "pyerr",
       "traceback": [
        "\u001b[0;31m---------------------------------------------------------------------------\u001b[0m\n\u001b[0;31mAssertionError\u001b[0m                            Traceback (most recent call last)",
        "\u001b[0;32m<ipython-input-36-3ccc2222584d>\u001b[0m in \u001b[0;36m<module>\u001b[0;34m()\u001b[0m\n\u001b[1;32m      1\u001b[0m \u001b[0mshould_fail\u001b[0m \u001b[0;34m=\u001b[0m \u001b[0mImageGrid\u001b[0m\u001b[0;34m(\u001b[0m\u001b[0;36m4\u001b[0m\u001b[0;34m,\u001b[0m \u001b[0;36m1\u001b[0m\u001b[0;34m)\u001b[0m\u001b[0;34m\u001b[0m\u001b[0m\n\u001b[0;32m----> 2\u001b[0;31m \u001b[0mcolor_from_string\u001b[0m\u001b[0;34m(\u001b[0m\u001b[0mshould_fail\u001b[0m\u001b[0;34m,\u001b[0m \u001b[0;34m'RGRGRGRG'\u001b[0m\u001b[0;34m)\u001b[0m \u001b[0;31m# string is too long\u001b[0m\u001b[0;34m\u001b[0m\u001b[0m\n\u001b[0m",
        "\u001b[0;32m<ipython-input-34-bfa5631afc2f>\u001b[0m in \u001b[0;36mcolor_from_string\u001b[0;34m(grid, data)\u001b[0m\n\u001b[1;32m      1\u001b[0m \u001b[0;32mdef\u001b[0m \u001b[0mcolor_from_string\u001b[0m\u001b[0;34m(\u001b[0m\u001b[0mgrid\u001b[0m\u001b[0;34m,\u001b[0m \u001b[0mdata\u001b[0m\u001b[0;34m)\u001b[0m\u001b[0;34m:\u001b[0m\u001b[0;34m\u001b[0m\u001b[0m\n\u001b[0;32m----> 2\u001b[0;31m     \u001b[0;32massert\u001b[0m \u001b[0mgrid\u001b[0m\u001b[0;34m.\u001b[0m\u001b[0mwidth\u001b[0m \u001b[0;34m==\u001b[0m \u001b[0mlen\u001b[0m\u001b[0;34m(\u001b[0m\u001b[0mdata\u001b[0m\u001b[0;34m)\u001b[0m\u001b[0;34m,\u001b[0m \u001b[0;34m'Grid and string lengths do not match'\u001b[0m\u001b[0;34m\u001b[0m\u001b[0m\n\u001b[0m\u001b[1;32m      3\u001b[0m     \u001b[0;32mfor\u001b[0m \u001b[0mx\u001b[0m \u001b[0;32min\u001b[0m \u001b[0mrange\u001b[0m\u001b[0;34m(\u001b[0m\u001b[0mgrid\u001b[0m\u001b[0;34m.\u001b[0m\u001b[0mwidth\u001b[0m\u001b[0;34m)\u001b[0m\u001b[0;34m:\u001b[0m\u001b[0;34m\u001b[0m\u001b[0m\n\u001b[1;32m      4\u001b[0m         \u001b[0;32mif\u001b[0m \u001b[0mdata\u001b[0m\u001b[0;34m[\u001b[0m\u001b[0mx\u001b[0m\u001b[0;34m]\u001b[0m \u001b[0;34m==\u001b[0m \u001b[0;34m'R'\u001b[0m\u001b[0;34m:\u001b[0m\u001b[0;34m\u001b[0m\u001b[0m\n\u001b[1;32m      5\u001b[0m             \u001b[0mgrid\u001b[0m\u001b[0;34m[\u001b[0m\u001b[0mx\u001b[0m\u001b[0;34m,\u001b[0m \u001b[0;36m0\u001b[0m\u001b[0;34m]\u001b[0m \u001b[0;34m=\u001b[0m \u001b[0mcolors\u001b[0m\u001b[0;34m[\u001b[0m\u001b[0;34m'Red'\u001b[0m\u001b[0;34m]\u001b[0m\u001b[0;34m\u001b[0m\u001b[0m\n",
        "\u001b[0;31mAssertionError\u001b[0m: Grid and string lengths do not match"
       ]
      }
     ],
     "prompt_number": 36
    },
    {
     "cell_type": "markdown",
     "metadata": {},
     "source": [
      "Excellent:\n",
      "rather than trusting us to be perfect,\n",
      "our function is now checking that we've called it with sensible values,\n",
      "and halting immediately if we haven't.\n",
      "This is one embodiment of another general principle of programming called\n",
      "[FEFO](glossary.html#FEFO):\n",
      "fail early,\n",
      "fail often.\n",
      "The more code the computer executes between when something goes wrong\n",
      "and when the symptoms of that error show up,\n",
      "the more we'll have to wade through when debugging,\n",
      "so getting the computer to stop as soon as it can after a mistake can save us hours or days of hunting around.\n",
      "Assertions are also good documentation,\n",
      "since they give human readers hints about how the code ought to work."
     ]
    },
    {
     "cell_type": "markdown",
     "metadata": {},
     "source": [
      "We can check more than just the lengths of the row to be filled and the input string,\n",
      "and we should.\n",
      "Here's another mistaken call to our function:"
     ]
    },
    {
     "cell_type": "code",
     "collapsed": false,
     "input": [
      "filled_incorrectly = ImageGrid(12, 1)\n",
      "color_from_string(filled_incorrectly, 'GGGGGGRRRPRR')\n",
      "filled_incorrectly.show()"
     ],
     "language": "python",
     "metadata": {},
     "outputs": [
      {
       "html": [
        "<style type=\"text/css\">table.blockgrid {border: none;} .blockgrid tr {border: none;} .blockgrid td {padding: 0px;} #blocks71e7e065-09ff-4740-8937-a1929976b9fb td {border: 1px solid white;}</style><table id=\"blocks71e7e065-09ff-4740-8937-a1929976b9fb\" class=\"blockgrid\"><tbody><tr><td title=\"Index: [0, 0]&#10;Color: (0, 128, 0)\" style=\"width: 20px; height: 20px;background-color: rgb(0, 128, 0);\"></td><td title=\"Index: [1, 0]&#10;Color: (0, 128, 0)\" style=\"width: 20px; height: 20px;background-color: rgb(0, 128, 0);\"></td><td title=\"Index: [2, 0]&#10;Color: (0, 128, 0)\" style=\"width: 20px; height: 20px;background-color: rgb(0, 128, 0);\"></td><td title=\"Index: [3, 0]&#10;Color: (0, 128, 0)\" style=\"width: 20px; height: 20px;background-color: rgb(0, 128, 0);\"></td><td title=\"Index: [4, 0]&#10;Color: (0, 128, 0)\" style=\"width: 20px; height: 20px;background-color: rgb(0, 128, 0);\"></td><td title=\"Index: [5, 0]&#10;Color: (0, 128, 0)\" style=\"width: 20px; height: 20px;background-color: rgb(0, 128, 0);\"></td><td title=\"Index: [6, 0]&#10;Color: (255, 0, 0)\" style=\"width: 20px; height: 20px;background-color: rgb(255, 0, 0);\"></td><td title=\"Index: [7, 0]&#10;Color: (255, 0, 0)\" style=\"width: 20px; height: 20px;background-color: rgb(255, 0, 0);\"></td><td title=\"Index: [8, 0]&#10;Color: (255, 0, 0)\" style=\"width: 20px; height: 20px;background-color: rgb(255, 0, 0);\"></td><td title=\"Index: [9, 0]&#10;Color: (0, 128, 0)\" style=\"width: 20px; height: 20px;background-color: rgb(0, 128, 0);\"></td><td title=\"Index: [10, 0]&#10;Color: (255, 0, 0)\" style=\"width: 20px; height: 20px;background-color: rgb(255, 0, 0);\"></td><td title=\"Index: [11, 0]&#10;Color: (255, 0, 0)\" style=\"width: 20px; height: 20px;background-color: rgb(255, 0, 0);\"></td></tr></tbody></table>"
       ],
       "metadata": {},
       "output_type": "display_data",
       "text": [
        "<IPython.core.display.HTML at 0x10347add0>"
       ]
      }
     ],
     "prompt_number": 37
    },
    {
     "cell_type": "markdown",
     "metadata": {},
     "source": [
      "Why is one cell on the right green?\n",
      "It should be red,\n",
      "because our string is six G's and six&mdash;oh.\n",
      "Oops.\n",
      "There's a P mixed in with our R's,\n",
      "but since the two letters are so similar,\n",
      "it was hard to spot.\n",
      "Let's add an assertion to our function to check for that:"
     ]
    },
    {
     "cell_type": "code",
     "collapsed": false,
     "input": [
      "def color_from_string(grid, data):\n",
      "    assert grid.width == len(data), 'Grid and string lengths do not match'\n",
      "    for x in range(grid.width):\n",
      "        assert data[x] in 'GR', 'Unknown character in data string'\n",
      "        if data[x] == 'R':\n",
      "            grid[x, 0] = colors['Red']\n",
      "        else:\n",
      "            grid[x, 0] = colors['Green']\n",
      "\n",
      "color_from_string(filled_incorrectly, 'GGGGGGRRRPRR') # hopefully the same wrong string as before\n",
      "filled_incorrectly.show()"
     ],
     "language": "python",
     "metadata": {},
     "outputs": [
      {
       "ename": "AssertionError",
       "evalue": "Unknown character in data string",
       "output_type": "pyerr",
       "traceback": [
        "\u001b[0;31m---------------------------------------------------------------------------\u001b[0m\n\u001b[0;31mAssertionError\u001b[0m                            Traceback (most recent call last)",
        "\u001b[0;32m<ipython-input-38-8d1096cc830c>\u001b[0m in \u001b[0;36m<module>\u001b[0;34m()\u001b[0m\n\u001b[1;32m      8\u001b[0m             \u001b[0mgrid\u001b[0m\u001b[0;34m[\u001b[0m\u001b[0mx\u001b[0m\u001b[0;34m,\u001b[0m \u001b[0;36m0\u001b[0m\u001b[0;34m]\u001b[0m \u001b[0;34m=\u001b[0m \u001b[0mcolors\u001b[0m\u001b[0;34m[\u001b[0m\u001b[0;34m'Green'\u001b[0m\u001b[0;34m]\u001b[0m\u001b[0;34m\u001b[0m\u001b[0m\n\u001b[1;32m      9\u001b[0m \u001b[0;34m\u001b[0m\u001b[0m\n\u001b[0;32m---> 10\u001b[0;31m \u001b[0mcolor_from_string\u001b[0m\u001b[0;34m(\u001b[0m\u001b[0mfilled_incorrectly\u001b[0m\u001b[0;34m,\u001b[0m \u001b[0;34m'GGGGGGRRRPRR'\u001b[0m\u001b[0;34m)\u001b[0m \u001b[0;31m# hopefully the same wrong string as before\u001b[0m\u001b[0;34m\u001b[0m\u001b[0m\n\u001b[0m\u001b[1;32m     11\u001b[0m \u001b[0mfilled_incorrectly\u001b[0m\u001b[0;34m.\u001b[0m\u001b[0mshow\u001b[0m\u001b[0;34m(\u001b[0m\u001b[0;34m)\u001b[0m\u001b[0;34m\u001b[0m\u001b[0m\n",
        "\u001b[0;32m<ipython-input-38-8d1096cc830c>\u001b[0m in \u001b[0;36mcolor_from_string\u001b[0;34m(grid, data)\u001b[0m\n\u001b[1;32m      2\u001b[0m     \u001b[0;32massert\u001b[0m \u001b[0mgrid\u001b[0m\u001b[0;34m.\u001b[0m\u001b[0mwidth\u001b[0m \u001b[0;34m==\u001b[0m \u001b[0mlen\u001b[0m\u001b[0;34m(\u001b[0m\u001b[0mdata\u001b[0m\u001b[0;34m)\u001b[0m\u001b[0;34m,\u001b[0m \u001b[0;34m'Grid and string lengths do not match'\u001b[0m\u001b[0;34m\u001b[0m\u001b[0m\n\u001b[1;32m      3\u001b[0m     \u001b[0;32mfor\u001b[0m \u001b[0mx\u001b[0m \u001b[0;32min\u001b[0m \u001b[0mrange\u001b[0m\u001b[0;34m(\u001b[0m\u001b[0mgrid\u001b[0m\u001b[0;34m.\u001b[0m\u001b[0mwidth\u001b[0m\u001b[0;34m)\u001b[0m\u001b[0;34m:\u001b[0m\u001b[0;34m\u001b[0m\u001b[0m\n\u001b[0;32m----> 4\u001b[0;31m         \u001b[0;32massert\u001b[0m \u001b[0mdata\u001b[0m\u001b[0;34m[\u001b[0m\u001b[0mx\u001b[0m\u001b[0;34m]\u001b[0m \u001b[0;32min\u001b[0m \u001b[0;34m'GR'\u001b[0m\u001b[0;34m,\u001b[0m \u001b[0;34m'Unknown character in data string'\u001b[0m\u001b[0;34m\u001b[0m\u001b[0m\n\u001b[0m\u001b[1;32m      5\u001b[0m         \u001b[0;32mif\u001b[0m \u001b[0mdata\u001b[0m\u001b[0;34m[\u001b[0m\u001b[0mx\u001b[0m\u001b[0;34m]\u001b[0m \u001b[0;34m==\u001b[0m \u001b[0;34m'R'\u001b[0m\u001b[0;34m:\u001b[0m\u001b[0;34m\u001b[0m\u001b[0m\n\u001b[1;32m      6\u001b[0m             \u001b[0mgrid\u001b[0m\u001b[0;34m[\u001b[0m\u001b[0mx\u001b[0m\u001b[0;34m,\u001b[0m \u001b[0;36m0\u001b[0m\u001b[0;34m]\u001b[0m \u001b[0;34m=\u001b[0m \u001b[0mcolors\u001b[0m\u001b[0;34m[\u001b[0m\u001b[0;34m'Red'\u001b[0m\u001b[0;34m]\u001b[0m\u001b[0;34m\u001b[0m\u001b[0m\n",
        "\u001b[0;31mAssertionError\u001b[0m: Unknown character in data string"
       ]
      }
     ],
     "prompt_number": 38
    },
    {
     "cell_type": "markdown",
     "metadata": {},
     "source": [
      "Excellent:\n",
      "as strange as it may sound,\n",
      "the function is failing as desired."
     ]
    },
    {
     "cell_type": "markdown",
     "metadata": {},
     "source": [
      "<hr/>\n",
      "### *Other Ways To Do It*\n",
      "\n",
      "<em>\n",
      "Another way to write this function would be to check the characters as part of the conditional statement:\n",
      "</em>"
     ]
    },
    {
     "cell_type": "code",
     "collapsed": false,
     "input": [
      "def color_from_string(grid, data):\n",
      "    assert grid.width == len(data), 'Grid and string lengths do not match'\n",
      "    for x in range(grid.width):\n",
      "        if data[x] == 'R':\n",
      "            grid[x, 0] = colors['Red']\n",
      "        elif data[x] == 'G':\n",
      "            grid[x, 0] = colors['Green']\n",
      "        else:\n",
      "            assert False, 'Unknown character in data string'"
     ],
     "language": "python",
     "metadata": {},
     "outputs": [],
     "prompt_number": 39
    },
    {
     "cell_type": "markdown",
     "metadata": {},
     "source": [
      "<em>\n",
      "The advantage of this is that\n",
      "the legal characters only appear once,\n",
      "rather than being duplicated in the `assert` and in the conditional.\n",
      "The disadvantage is that `assert False` sounds odd to many people,\n",
      "since it's guaranteed to fail every time.\n",
      "More importantly,\n",
      "it doesn't make sense on its own:\n",
      "we can only understand **why** we're always failing on that line\n",
      "by reading the `if` and `elif` that come before it.\n",
      "</em>"
     ]
    },
    {
     "cell_type": "markdown",
     "metadata": {},
     "source": [
      "<em>\n",
      "Another way to write this,\n",
      "which many people prefer,\n",
      "is to do all our checking before we modify the grid:\n",
      "</em>"
     ]
    },
    {
     "cell_type": "code",
     "collapsed": false,
     "input": [
      "def color_from_string(grid, data):\n",
      "    assert grid.width == len(data), 'Grid and string lengths do not match'\n",
      "    for char in data:\n",
      "        assert char in 'RG', 'Unknown character in data string'\n",
      "    for x in range(grid.width):\n",
      "        if data[x] == 'R':\n",
      "            grid[x, 0] = colors['Red']\n",
      "        else:\n",
      "            grid[x, 0] = colors['Green']"
     ],
     "language": "python",
     "metadata": {},
     "outputs": [],
     "prompt_number": 40
    },
    {
     "cell_type": "markdown",
     "metadata": {},
     "source": [
      "<em>\n",
      "This version doesn't do anything until it's sure that whatever it does will succeed,\n",
      "so there's no risk of changing part of the grid but not the rest.\n",
      "On the other hand,\n",
      "there are now two loops instead of one.\n",
      "While the slowdown due to the extra loop won't be noticeable on small grids,\n",
      "checking data before modifying it can have a noticeable impact on\n",
      "the speed of programs that are working with terabytes.\n",
      "Again,\n",
      "it's up to you to use whichever variation you prefer,\n",
      "but whichever one you choose,\n",
      "you should write all your checks the same way.\n",
      "</em>\n",
      "<hr/>"
     ]
    },
    {
     "cell_type": "heading",
     "level": 2,
     "metadata": {},
     "source": [
      "String Formatting"
     ]
    },
    {
     "cell_type": "markdown",
     "metadata": {},
     "source": [
      "To end this lesson,\n",
      "let's try to make our error messages a little more helpful.\n",
      "After all,\n",
      "few things are as frustrating as being told that something is wrong,\n",
      "but not being told what.\n",
      "We'll start by inserting a few strings into another string:"
     ]
    },
    {
     "cell_type": "code",
     "collapsed": false,
     "input": [
      "print '{0} and {1} shared the Nobel Prize in 1947'.format('Gerty Cori', 'Carl Cori')"
     ],
     "language": "python",
     "metadata": {},
     "outputs": [
      {
       "output_type": "stream",
       "stream": "stdout",
       "text": [
        "Gerty Cori and Carl Cori shared the Nobel Prize in 1947\n"
       ]
      }
     ],
     "prompt_number": 41
    },
    {
     "cell_type": "markdown",
     "metadata": {},
     "source": [
      "As you can probably infer,\n",
      "strings have a method called `format`\n",
      "that can be given any number of parameters.\n",
      "These parameters are [interpolated](glossary.html#string_interpolation)\n",
      "wherever the markers `{0}`, `{1}`, and so on appear.\n",
      "It's OK to use a value several times:"
     ]
    },
    {
     "cell_type": "code",
     "collapsed": false,
     "input": [
      "print '{0} is the same as {0}'.format('this')"
     ],
     "language": "python",
     "metadata": {},
     "outputs": [
      {
       "output_type": "stream",
       "stream": "stdout",
       "text": [
        "this is the same as this\n"
       ]
      }
     ],
     "prompt_number": 42
    },
    {
     "cell_type": "markdown",
     "metadata": {},
     "source": [
      "and we can provide extra information to format numbers and many (many) other things:"
     ]
    },
    {
     "cell_type": "code",
     "collapsed": false,
     "input": [
      "print 'Four digits, two after the decimal point: {0:4.2f}'.format(3.14159)"
     ],
     "language": "python",
     "metadata": {},
     "outputs": [
      {
       "output_type": "stream",
       "stream": "stdout",
       "text": [
        "Four digits, two after the decimal point: 3.14\n"
       ]
      }
     ],
     "prompt_number": 43
    },
    {
     "cell_type": "markdown",
     "metadata": {},
     "source": [
      "What we *can't* do is change the original string:"
     ]
    },
    {
     "cell_type": "code",
     "collapsed": false,
     "input": [
      "mass = 46.5\n",
      "name = 'Lyell'\n",
      "template = 'Mass {0:4e} and name \"{1:^20}\"'\n",
      "result = template.format(mass, name)\n",
      "print 'result after formatting:', result\n",
      "print 'template after formatting:', template"
     ],
     "language": "python",
     "metadata": {},
     "outputs": [
      {
       "output_type": "stream",
       "stream": "stdout",
       "text": [
        "result after formatting: Mass 4.650000e+01 and name \"       Lyell        \"\n",
        "template after formatting: Mass {0:4e} and name \"{1:^20}\"\n"
       ]
      }
     ],
     "prompt_number": 44
    },
    {
     "cell_type": "markdown",
     "metadata": {},
     "source": [
      "The reason is that strings are [immutable](glossary.html#immutable),\n",
      "i.e.,\n",
      "they cannot be changed after they have been created.\n",
      "Numbers are also immutable:\n",
      "we can't assign a new value to 2 or 3.14159\n",
      "(although we can assign these values to variables,\n",
      "then change those variables).\n",
      "We will meet some mutable data types in the [python-4-files-lists.ipynb](next lesson);\n",
      "for now,\n",
      "we'll use what we have learned about string formatting\n",
      "to make our error messages more readable:"
     ]
    },
    {
     "cell_type": "code",
     "collapsed": false,
     "input": [
      "def color_from_string(grid, data):\n",
      "    assert grid.width == len(data), \\\n",
      "           'Grid and string lengths do not match: {0} != {1}'.format(grid.width, len(data))\n",
      "    for x in range(grid.width):\n",
      "        assert data[x] in 'GR', \\\n",
      "               'Unknown character in data string: \"{0}\"'.format(data[x])\n",
      "        if data[x] == 'R':\n",
      "            grid[x, 0] = colors['Red']\n",
      "        else:\n",
      "            grid[x, 0] = colors['Green']"
     ],
     "language": "python",
     "metadata": {},
     "outputs": [],
     "prompt_number": 45
    },
    {
     "cell_type": "markdown",
     "metadata": {},
     "source": [
      "Notice that we have used `\\` at the end of lines to tell Python that\n",
      "the statement continues on the following line.\n",
      "This makes the program easier to read\n",
      "by making the assertion's condition easier to spot,\n",
      "and by reducing the number of very long lines in our code.\n",
      "Let's try our revised function:"
     ]
    },
    {
     "cell_type": "code",
     "collapsed": false,
     "input": [
      "test_case = ImageGrid(4, 1)\n",
      "color_from_string(test_case, 'R') # wrong length"
     ],
     "language": "python",
     "metadata": {},
     "outputs": [
      {
       "ename": "AssertionError",
       "evalue": "Grid and string lengths do not match: 4 != 1",
       "output_type": "pyerr",
       "traceback": [
        "\u001b[0;31m---------------------------------------------------------------------------\u001b[0m\n\u001b[0;31mAssertionError\u001b[0m                            Traceback (most recent call last)",
        "\u001b[0;32m<ipython-input-46-05398559e78a>\u001b[0m in \u001b[0;36m<module>\u001b[0;34m()\u001b[0m\n\u001b[1;32m      1\u001b[0m \u001b[0mtest_case\u001b[0m \u001b[0;34m=\u001b[0m \u001b[0mImageGrid\u001b[0m\u001b[0;34m(\u001b[0m\u001b[0;36m4\u001b[0m\u001b[0;34m,\u001b[0m \u001b[0;36m1\u001b[0m\u001b[0;34m)\u001b[0m\u001b[0;34m\u001b[0m\u001b[0m\n\u001b[0;32m----> 2\u001b[0;31m \u001b[0mcolor_from_string\u001b[0m\u001b[0;34m(\u001b[0m\u001b[0mtest_case\u001b[0m\u001b[0;34m,\u001b[0m \u001b[0;34m'R'\u001b[0m\u001b[0;34m)\u001b[0m \u001b[0;31m# wrong length\u001b[0m\u001b[0;34m\u001b[0m\u001b[0m\n\u001b[0m",
        "\u001b[0;32m<ipython-input-45-884bbad757a8>\u001b[0m in \u001b[0;36mcolor_from_string\u001b[0;34m(grid, data)\u001b[0m\n\u001b[1;32m      1\u001b[0m \u001b[0;32mdef\u001b[0m \u001b[0mcolor_from_string\u001b[0m\u001b[0;34m(\u001b[0m\u001b[0mgrid\u001b[0m\u001b[0;34m,\u001b[0m \u001b[0mdata\u001b[0m\u001b[0;34m)\u001b[0m\u001b[0;34m:\u001b[0m\u001b[0;34m\u001b[0m\u001b[0m\n\u001b[0;32m----> 2\u001b[0;31m     \u001b[0;32massert\u001b[0m \u001b[0mgrid\u001b[0m\u001b[0;34m.\u001b[0m\u001b[0mwidth\u001b[0m \u001b[0;34m==\u001b[0m \u001b[0mlen\u001b[0m\u001b[0;34m(\u001b[0m\u001b[0mdata\u001b[0m\u001b[0;34m)\u001b[0m\u001b[0;34m,\u001b[0m            \u001b[0;34m'Grid and string lengths do not match: {0} != {1}'\u001b[0m\u001b[0;34m.\u001b[0m\u001b[0mformat\u001b[0m\u001b[0;34m(\u001b[0m\u001b[0mgrid\u001b[0m\u001b[0;34m.\u001b[0m\u001b[0mwidth\u001b[0m\u001b[0;34m,\u001b[0m \u001b[0mlen\u001b[0m\u001b[0;34m(\u001b[0m\u001b[0mdata\u001b[0m\u001b[0;34m)\u001b[0m\u001b[0;34m)\u001b[0m\u001b[0;34m\u001b[0m\u001b[0m\n\u001b[0m\u001b[1;32m      3\u001b[0m     \u001b[0;32mfor\u001b[0m \u001b[0mx\u001b[0m \u001b[0;32min\u001b[0m \u001b[0mrange\u001b[0m\u001b[0;34m(\u001b[0m\u001b[0mgrid\u001b[0m\u001b[0;34m.\u001b[0m\u001b[0mwidth\u001b[0m\u001b[0;34m)\u001b[0m\u001b[0;34m:\u001b[0m\u001b[0;34m\u001b[0m\u001b[0m\n\u001b[1;32m      4\u001b[0m         \u001b[0;32massert\u001b[0m \u001b[0mdata\u001b[0m\u001b[0;34m[\u001b[0m\u001b[0mx\u001b[0m\u001b[0;34m]\u001b[0m \u001b[0;32min\u001b[0m \u001b[0;34m'GR'\u001b[0m\u001b[0;34m,\u001b[0m                \u001b[0;34m'Unknown character in data string: \"{0}\"'\u001b[0m\u001b[0;34m.\u001b[0m\u001b[0mformat\u001b[0m\u001b[0;34m(\u001b[0m\u001b[0mdata\u001b[0m\u001b[0;34m[\u001b[0m\u001b[0mx\u001b[0m\u001b[0;34m]\u001b[0m\u001b[0;34m)\u001b[0m\u001b[0;34m\u001b[0m\u001b[0m\n\u001b[1;32m      5\u001b[0m         \u001b[0;32mif\u001b[0m \u001b[0mdata\u001b[0m\u001b[0;34m[\u001b[0m\u001b[0mx\u001b[0m\u001b[0;34m]\u001b[0m \u001b[0;34m==\u001b[0m \u001b[0;34m'R'\u001b[0m\u001b[0;34m:\u001b[0m\u001b[0;34m\u001b[0m\u001b[0m\n",
        "\u001b[0;31mAssertionError\u001b[0m: Grid and string lengths do not match: 4 != 1"
       ]
      }
     ],
     "prompt_number": 46
    },
    {
     "cell_type": "markdown",
     "metadata": {},
     "source": [
      "and:"
     ]
    },
    {
     "cell_type": "code",
     "collapsed": false,
     "input": [
      "color_from_string(test_case, 'PPPP')"
     ],
     "language": "python",
     "metadata": {},
     "outputs": [
      {
       "ename": "AssertionError",
       "evalue": "Unknown character in data string: \"P\"",
       "output_type": "pyerr",
       "traceback": [
        "\u001b[0;31m---------------------------------------------------------------------------\u001b[0m\n\u001b[0;31mAssertionError\u001b[0m                            Traceback (most recent call last)",
        "\u001b[0;32m<ipython-input-47-c132ae306847>\u001b[0m in \u001b[0;36m<module>\u001b[0;34m()\u001b[0m\n\u001b[0;32m----> 1\u001b[0;31m \u001b[0mcolor_from_string\u001b[0m\u001b[0;34m(\u001b[0m\u001b[0mtest_case\u001b[0m\u001b[0;34m,\u001b[0m \u001b[0;34m'PPPP'\u001b[0m\u001b[0;34m)\u001b[0m\u001b[0;34m\u001b[0m\u001b[0m\n\u001b[0m",
        "\u001b[0;32m<ipython-input-45-884bbad757a8>\u001b[0m in \u001b[0;36mcolor_from_string\u001b[0;34m(grid, data)\u001b[0m\n\u001b[1;32m      2\u001b[0m     \u001b[0;32massert\u001b[0m \u001b[0mgrid\u001b[0m\u001b[0;34m.\u001b[0m\u001b[0mwidth\u001b[0m \u001b[0;34m==\u001b[0m \u001b[0mlen\u001b[0m\u001b[0;34m(\u001b[0m\u001b[0mdata\u001b[0m\u001b[0;34m)\u001b[0m\u001b[0;34m,\u001b[0m            \u001b[0;34m'Grid and string lengths do not match: {0} != {1}'\u001b[0m\u001b[0;34m.\u001b[0m\u001b[0mformat\u001b[0m\u001b[0;34m(\u001b[0m\u001b[0mgrid\u001b[0m\u001b[0;34m.\u001b[0m\u001b[0mwidth\u001b[0m\u001b[0;34m,\u001b[0m \u001b[0mlen\u001b[0m\u001b[0;34m(\u001b[0m\u001b[0mdata\u001b[0m\u001b[0;34m)\u001b[0m\u001b[0;34m)\u001b[0m\u001b[0;34m\u001b[0m\u001b[0m\n\u001b[1;32m      3\u001b[0m     \u001b[0;32mfor\u001b[0m \u001b[0mx\u001b[0m \u001b[0;32min\u001b[0m \u001b[0mrange\u001b[0m\u001b[0;34m(\u001b[0m\u001b[0mgrid\u001b[0m\u001b[0;34m.\u001b[0m\u001b[0mwidth\u001b[0m\u001b[0;34m)\u001b[0m\u001b[0;34m:\u001b[0m\u001b[0;34m\u001b[0m\u001b[0m\n\u001b[0;32m----> 4\u001b[0;31m         \u001b[0;32massert\u001b[0m \u001b[0mdata\u001b[0m\u001b[0;34m[\u001b[0m\u001b[0mx\u001b[0m\u001b[0;34m]\u001b[0m \u001b[0;32min\u001b[0m \u001b[0;34m'GR'\u001b[0m\u001b[0;34m,\u001b[0m                \u001b[0;34m'Unknown character in data string: \"{0}\"'\u001b[0m\u001b[0;34m.\u001b[0m\u001b[0mformat\u001b[0m\u001b[0;34m(\u001b[0m\u001b[0mdata\u001b[0m\u001b[0;34m[\u001b[0m\u001b[0mx\u001b[0m\u001b[0;34m]\u001b[0m\u001b[0;34m)\u001b[0m\u001b[0;34m\u001b[0m\u001b[0m\n\u001b[0m\u001b[1;32m      5\u001b[0m         \u001b[0;32mif\u001b[0m \u001b[0mdata\u001b[0m\u001b[0;34m[\u001b[0m\u001b[0mx\u001b[0m\u001b[0;34m]\u001b[0m \u001b[0;34m==\u001b[0m \u001b[0;34m'R'\u001b[0m\u001b[0;34m:\u001b[0m\u001b[0;34m\u001b[0m\u001b[0m\n\u001b[1;32m      6\u001b[0m             \u001b[0mgrid\u001b[0m\u001b[0;34m[\u001b[0m\u001b[0mx\u001b[0m\u001b[0;34m,\u001b[0m \u001b[0;36m0\u001b[0m\u001b[0;34m]\u001b[0m \u001b[0;34m=\u001b[0m \u001b[0mcolors\u001b[0m\u001b[0;34m[\u001b[0m\u001b[0;34m'Red'\u001b[0m\u001b[0;34m]\u001b[0m\u001b[0;34m\u001b[0m\u001b[0m\n",
        "\u001b[0;31mAssertionError\u001b[0m: Unknown character in data string: \"P\""
       ]
      }
     ],
     "prompt_number": 47
    },
    {
     "cell_type": "markdown",
     "metadata": {},
     "source": [
      "There's only one thing left to do:\n",
      "document our function.\n",
      "The name `color_from_string` may seem obvious to us right now,\n",
      "but when we revisit this code in six weeks,\n",
      "we might easily think it means \"convert a string to a color\".\n",
      "Let's add a [docstring](glossary.html#docstring)\n",
      "(documentation string)\n",
      "to the function:"
     ]
    },
    {
     "cell_type": "code",
     "collapsed": false,
     "input": [
      "def color_from_string(grid, data):\n",
      "    \"Color grid cells red and green according to 'R' and 'G' in data.\"\n",
      "    assert grid.width == len(data), \\\n",
      "           'Grid and string lengths do not match: {0} != {1}'.format(grid.width, len(data))\n",
      "    for x in range(grid.width):\n",
      "        assert data[x] in 'GR', \\\n",
      "               'Unknown character in data string: \"{0}\"'.format(data[x])\n",
      "        if data[x] == 'R':\n",
      "            grid[x, 0] = colors['Red']\n",
      "        else:\n",
      "            grid[x, 0] = colors['Green']"
     ],
     "language": "python",
     "metadata": {},
     "outputs": [],
     "prompt_number": 48
    },
    {
     "cell_type": "markdown",
     "metadata": {},
     "source": [
      "We use a docstring rather than a comment because\n",
      "docstrings are what `help` displays:"
     ]
    },
    {
     "cell_type": "code",
     "collapsed": false,
     "input": [
      "help(color_from_string)"
     ],
     "language": "python",
     "metadata": {},
     "outputs": [
      {
       "output_type": "stream",
       "stream": "stdout",
       "text": [
        "Help on function color_from_string in module __main__:\n",
        "\n",
        "color_from_string(grid, data)\n",
        "    Color grid cells red and green according to 'R' and 'G' in data.\n",
        "\n"
       ]
      }
     ],
     "prompt_number": 49
    },
    {
     "cell_type": "heading",
     "level": 2,
     "metadata": {},
     "source": [
      "Key Points"
     ]
    },
    {
     "cell_type": "markdown",
     "metadata": {},
     "source": [
      "- Use `if`/`elif`/`else` to make choices in programs.\n",
      "- Use `assert` to embed self-checks in programs.\n",
      "- Use `string.format` to create nicely-formatted output.\n",
      "- Add docstrings to functions to provide interactive help."
     ]
    }
   ],
   "metadata": {}
  }
 ]
}