{
 "metadata": {
  "name": ""
 },
 "nbformat": 3,
 "nbformat_minor": 0,
 "worksheets": [
  {
   "cells": [
    {
     "cell_type": "heading",
     "level": 1,
     "metadata": {},
     "source": [
      "Basic Programming Using Python: Unit Testing"
     ]
    },
    {
     "cell_type": "heading",
     "level": 2,
     "metadata": {},
     "source": [
      "Objectives"
     ]
    },
    {
     "cell_type": "markdown",
     "metadata": {},
     "source": [
      "* Explain why it is not practical to prove a program correct by testing it.\n",
      "* Correctly write unit tests using an xUnit-style unit testing framework.\n",
      "* Name and explain the three types of results a test can produce."
     ]
    },
    {
     "cell_type": "heading",
     "level": 2,
     "metadata": {},
     "source": [
      "Setting Expectations"
     ]
    },
    {
     "cell_type": "markdown",
     "metadata": {},
     "source": [
      "Like any other piece of experimental apparatus,\n",
      "a complex program requires a much higher investment in testing than a simple one.\n",
      "Putting it another way,\n",
      "a small script that is only going to be used once,\n",
      "to produce one figure,\n",
      "probably doesn't need separate testing:\n",
      "its output is either correct or not.\n",
      "A linear algebra library that will be used by thousands of people\n",
      "in twice that number of applications\n",
      "over the course of a decade,\n",
      "on the other hand,\n",
      "definitely does."
     ]
    },
    {
     "cell_type": "markdown",
     "metadata": {},
     "source": [
      "Unfortunately,\n",
      "it's practically impossible to prove that a program will always do what it's supposed to.\n",
      "To see why,\n",
      "consider a function that checks whether a character strings contains only the letters 'A', 'C', 'G', and 'T'.\n",
      "These four tests clearly aren't sufficient:"
     ]
    },
    {
     "cell_type": "markdown",
     "metadata": {},
     "source": [
      "```python\n",
      "assert is_all_bases('A')\n",
      "assert is_all_bases('C')\n",
      "assert is_all_bases('G')\n",
      "assert is_all_bases('T')\n",
      "```"
     ]
    },
    {
     "cell_type": "markdown",
     "metadata": {},
     "source": [
      "because this version of `is_all_bases` passes them:"
     ]
    },
    {
     "cell_type": "markdown",
     "metadata": {},
     "source": [
      "```python\n",
      "def is_all_bases(bases):\n",
      "    return True\n",
      "```"
     ]
    },
    {
     "cell_type": "markdown",
     "metadata": {},
     "source": [
      "Adding these tests isn't enough:"
     ]
    },
    {
     "cell_type": "markdown",
     "metadata": {},
     "source": [
      "```python\n",
      "assert not is_all_bases('X')\n",
      "assert not is_all_bases('Y')\n",
      "assert not is_all_bases('Z')\n",
      "```"
     ]
    },
    {
     "cell_type": "markdown",
     "metadata": {},
     "source": [
      "because this version still passes:"
     ]
    },
    {
     "cell_type": "markdown",
     "metadata": {},
     "source": [
      "```python\n",
      "def is_all_bases(bases):\n",
      "    return bases[0] in 'ACGT'\n",
      "```"
     ]
    },
    {
     "cell_type": "markdown",
     "metadata": {},
     "source": [
      "We can add yet more tests:"
     ]
    },
    {
     "cell_type": "markdown",
     "metadata": {},
     "source": [
      "```python\n",
      "assert is_all_bases('ACGCGA')\n",
      "assert not is_all_bases('CGAZ')\n",
      "```"
     ]
    },
    {
     "cell_type": "markdown",
     "metadata": {},
     "source": [
      "but no matter how many we have,\n",
      "we can always write a function that passes them,\n",
      "but does the wrong thing in other cases.\n",
      "And as we add more tests,\n",
      "we have to start worrying about whether the tests themselves are correct,\n",
      "and about whether we can afford the time needed to write them.\n",
      "After all,\n",
      "if we really want to check that the square root function is correct for all values between 0.0 and 1.0,\n",
      "we need to write over a billion test cases;\n",
      "that's a lot of typing,\n",
      "and the chances of us getting every one right are effectively zero."
     ]
    },
    {
     "cell_type": "markdown",
     "metadata": {},
     "source": [
      "Testing is still worth doing, though:\n",
      "it's one of those things that doesn't work in theory,\n",
      "but is surprisingly effective in practice.\n",
      "If we choose our tests carefully,\n",
      "we can demonstrate that our software is as likely to be correct as a mathematical proof\n",
      "or a physical experiment."
     ]
    },
    {
     "cell_type": "markdown",
     "metadata": {},
     "source": [
      "Ensuring that we have the right answer is only one reason to to software.\n",
      "The other is that it speeds up development\n",
      "by reducing the amount of re-work we have to do.\n",
      "Even small programs can be quite complex,\n",
      "and changing one thing can all too easily break something else.\n",
      "If we test changes as we make them,\n",
      "and automatically re-test things we've already done,\n",
      "we can catch and fix errors while the changes are still fresh in our minds."
     ]
    },
    {
     "cell_type": "heading",
     "level": 2,
     "metadata": {},
     "source": [
      "Unit Testing"
     ]
    },
    {
     "cell_type": "markdown",
     "metadata": {},
     "source": [
      "Most people don't enjoy writing tests,\n",
      "so if we want them to actually do it,\n",
      "it must be easy to:\n",
      "\n",
      "- add or change tests,\n",
      "- understand the tests that have already been written,\n",
      "- run those tests, and\n",
      "- understand those tests' results."
     ]
    },
    {
     "cell_type": "markdown",
     "metadata": {},
     "source": [
      "Test results must also be reliable.\n",
      "If a testing tool says that code is working when it's not,\n",
      "or reports problems when there actually aren't any,\n",
      "people will lose faith in it and stop using it."
     ]
    },
    {
     "cell_type": "markdown",
     "metadata": {},
     "source": [
      "The simplest kind of test is a [unit test](glossary.html#unit_test)\n",
      "that checks the behavior of one component of a program.\n",
      "As an example,\n",
      "suppose we're testing a function called `rectangle_area`\n",
      "that returns the area of an `[x0, y0, x1, y1]` rectangle.\n",
      "We'll start by testing our code directly using `assert`.\n",
      "Here,\n",
      "we call the function three times with different arguments,\n",
      "checking that the right value is returned each time."
     ]
    },
    {
     "cell_type": "code",
     "collapsed": false,
     "input": [
      "from rectangle import rectangle_area\n",
      "\n",
      "assert rectangle_area([0, 0, 1, 1]) == 1.0\n",
      "assert rectangle_area([1, 1, 4, 4]) == 9.0\n",
      "assert rectangle_area([0, 1, 4, 7]) == 24.0"
     ],
     "language": "python",
     "metadata": {},
     "outputs": [
      {
       "ename": "AssertionError",
       "evalue": "",
       "output_type": "pyerr",
       "traceback": [
        "\u001b[0;31m---------------------------------------------------------------------------\u001b[0m\n\u001b[0;31mAssertionError\u001b[0m                            Traceback (most recent call last)",
        "\u001b[0;32m<ipython-input-11-ebf7f5f1c120>\u001b[0m in \u001b[0;36m<module>\u001b[0;34m()\u001b[0m\n\u001b[1;32m      3\u001b[0m \u001b[0;32massert\u001b[0m \u001b[0mrectangle_area\u001b[0m\u001b[0;34m(\u001b[0m\u001b[0;34m[\u001b[0m\u001b[0;36m0\u001b[0m\u001b[0;34m,\u001b[0m \u001b[0;36m0\u001b[0m\u001b[0;34m,\u001b[0m \u001b[0;36m1\u001b[0m\u001b[0;34m,\u001b[0m \u001b[0;36m1\u001b[0m\u001b[0;34m]\u001b[0m\u001b[0;34m)\u001b[0m \u001b[0;34m==\u001b[0m \u001b[0;36m1.0\u001b[0m\u001b[0;34m\u001b[0m\u001b[0m\n\u001b[1;32m      4\u001b[0m \u001b[0;32massert\u001b[0m \u001b[0mrectangle_area\u001b[0m\u001b[0;34m(\u001b[0m\u001b[0;34m[\u001b[0m\u001b[0;36m1\u001b[0m\u001b[0;34m,\u001b[0m \u001b[0;36m1\u001b[0m\u001b[0;34m,\u001b[0m \u001b[0;36m4\u001b[0m\u001b[0;34m,\u001b[0m \u001b[0;36m4\u001b[0m\u001b[0;34m]\u001b[0m\u001b[0;34m)\u001b[0m \u001b[0;34m==\u001b[0m \u001b[0;36m9.0\u001b[0m\u001b[0;34m\u001b[0m\u001b[0m\n\u001b[0;32m----> 5\u001b[0;31m \u001b[0;32massert\u001b[0m \u001b[0mrectangle_area\u001b[0m\u001b[0;34m(\u001b[0m\u001b[0;34m[\u001b[0m\u001b[0;36m0\u001b[0m\u001b[0;34m,\u001b[0m \u001b[0;36m1\u001b[0m\u001b[0;34m,\u001b[0m \u001b[0;36m4\u001b[0m\u001b[0;34m,\u001b[0m \u001b[0;36m7\u001b[0m\u001b[0;34m]\u001b[0m\u001b[0;34m)\u001b[0m \u001b[0;34m==\u001b[0m \u001b[0;36m24.0\u001b[0m\u001b[0;34m\u001b[0m\u001b[0m\n\u001b[0m",
        "\u001b[0;31mAssertionError\u001b[0m: "
       ]
      }
     ],
     "prompt_number": 11
    },
    {
     "cell_type": "markdown",
     "metadata": {},
     "source": [
      "This result is used,\n",
      "in the sense that we know something's wrong,\n",
      "but look what happens if we run the tests in a different order:"
     ]
    },
    {
     "cell_type": "code",
     "collapsed": false,
     "input": [
      "assert rectangle_area([0, 1, 4, 7]) == 24.0\n",
      "assert rectangle_area([1, 1, 4, 4]) == 9.0\n",
      "assert rectangle_area([0, 0, 1, 1]) == 1.0"
     ],
     "language": "python",
     "metadata": {},
     "outputs": [
      {
       "ename": "AssertionError",
       "evalue": "",
       "output_type": "pyerr",
       "traceback": [
        "\u001b[0;31m---------------------------------------------------------------------------\u001b[0m\n\u001b[0;31mAssertionError\u001b[0m                            Traceback (most recent call last)",
        "\u001b[0;32m<ipython-input-12-548f3f32c981>\u001b[0m in \u001b[0;36m<module>\u001b[0;34m()\u001b[0m\n\u001b[0;32m----> 1\u001b[0;31m \u001b[0;32massert\u001b[0m \u001b[0mrectangle_area\u001b[0m\u001b[0;34m(\u001b[0m\u001b[0;34m[\u001b[0m\u001b[0;36m0\u001b[0m\u001b[0;34m,\u001b[0m \u001b[0;36m1\u001b[0m\u001b[0;34m,\u001b[0m \u001b[0;36m4\u001b[0m\u001b[0;34m,\u001b[0m \u001b[0;36m7\u001b[0m\u001b[0;34m]\u001b[0m\u001b[0;34m)\u001b[0m \u001b[0;34m==\u001b[0m \u001b[0;36m24.0\u001b[0m\u001b[0;34m\u001b[0m\u001b[0m\n\u001b[0m\u001b[1;32m      2\u001b[0m \u001b[0;32massert\u001b[0m \u001b[0mrectangle_area\u001b[0m\u001b[0;34m(\u001b[0m\u001b[0;34m[\u001b[0m\u001b[0;36m1\u001b[0m\u001b[0;34m,\u001b[0m \u001b[0;36m1\u001b[0m\u001b[0;34m,\u001b[0m \u001b[0;36m4\u001b[0m\u001b[0;34m,\u001b[0m \u001b[0;36m4\u001b[0m\u001b[0;34m]\u001b[0m\u001b[0;34m)\u001b[0m \u001b[0;34m==\u001b[0m \u001b[0;36m9.0\u001b[0m\u001b[0;34m\u001b[0m\u001b[0m\n\u001b[1;32m      3\u001b[0m \u001b[0;32massert\u001b[0m \u001b[0mrectangle_area\u001b[0m\u001b[0;34m(\u001b[0m\u001b[0;34m[\u001b[0m\u001b[0;36m0\u001b[0m\u001b[0;34m,\u001b[0m \u001b[0;36m0\u001b[0m\u001b[0;34m,\u001b[0m \u001b[0;36m1\u001b[0m\u001b[0;34m,\u001b[0m \u001b[0;36m1\u001b[0m\u001b[0;34m]\u001b[0m\u001b[0;34m)\u001b[0m \u001b[0;34m==\u001b[0m \u001b[0;36m1.0\u001b[0m\u001b[0;34m\u001b[0m\u001b[0m\n",
        "\u001b[0;31mAssertionError\u001b[0m: "
       ]
      }
     ],
     "prompt_number": 12
    },
    {
     "cell_type": "markdown",
     "metadata": {},
     "source": [
      "Python halts at the first failed assertion,\n",
      "so the second and third tests aren't run at all.\n",
      "It would be more helpful if we could get data from all of our tests every time they're run,\n",
      "since the more information we have,\n",
      "the faster we're likely to be able to track down bugs.\n",
      "It would also be helpful to have some kind of summary report:\n",
      "if our [test suite](glossary.html#test_suite) includes thirty or forty tests\n",
      "(as it well might for a complex function or library that's widely used),\n",
      "we'd like to know how many passed or failed."
     ]
    },
    {
     "cell_type": "markdown",
     "metadata": {},
     "source": [
      "Here's a different approach.\n",
      "First, let's put each test in a function with a meaningful name:"
     ]
    },
    {
     "cell_type": "code",
     "collapsed": false,
     "input": [
      "def test_unit_square():\n",
      "    assert rectangle_area([0, 0, 1, 1]) == 1.0\n",
      "\n",
      "def test_large_square():\n",
      "    assert rectangle_area([1, 1, 4, 4]) == 9.0\n",
      "\n",
      "def test_actual_rectangle():\n",
      "    assert rectangle_area([0, 1, 4, 7]) == 24.0"
     ],
     "language": "python",
     "metadata": {},
     "outputs": [],
     "prompt_number": 13
    },
    {
     "cell_type": "markdown",
     "metadata": {},
     "source": [
      "Next,\n",
      "import a library called `ears`\n",
      "and ask it to run our tests for us:"
     ]
    },
    {
     "cell_type": "code",
     "collapsed": false,
     "input": [
      "import ears\n",
      "ears.run()"
     ],
     "language": "python",
     "metadata": {},
     "outputs": [
      {
       "output_type": "stream",
       "stream": "stdout",
       "text": [
        "..f\n",
        "2 pass, 1 fail, 0 error\n",
        "----------------------------------------\n",
        "fail: test_actual_rectangle\n",
        "Traceback (most recent call last):\n",
        "  File \"ears.py\", line 43, in run\n",
        "    test()\n",
        "  File \"<ipython-input-13-643689ad0a0f>\", line 8, in test_actual_rectangle\n",
        "    assert rectangle_area([0, 1, 4, 7]) == 24.0\n",
        "AssertionError\n",
        "\n"
       ]
      }
     ],
     "prompt_number": 14
    },
    {
     "cell_type": "markdown",
     "metadata": {},
     "source": [
      "`ears.run` looks in the calling program\n",
      "for functions whose names start with the letters `'test_'`\n",
      "and runs each one.\n",
      "If the function complete without an assertion being triggered,\n",
      "we count the test as a [success](glossary.html#test_success).\n",
      "If an assertion fails,\n",
      "we count the test as a [failure](glossary.html#test_failure),\n",
      "but if any other exception occurs,\n",
      "we count it as an [error](glossary.html#test_error)\n",
      "because the odds are that the test itself is broken."
     ]
    },
    {
     "cell_type": "markdown",
     "metadata": {},
     "source": [
      "`ears` belongs to a family of tools called [xUnit testing library](glossary.html#xUnit).\n",
      "The name \"xUnit\" comes from the fact that\n",
      "many of them are imitations of a Java testing library called JUnit.\n",
      "The [Wikipedia page](http://en.wikipedia.org/wiki/List_of_unit_testing_frameworks) on the subject\n",
      "lists dozens of similar frameworks in almost as many languages,\n",
      "all of which have a similar structure:\n",
      "each test is a single function that follows some naming convention\n",
      "(e.g., starts with `'test_'`),\n",
      "and the framework runs them in some order\n",
      "and reports how many passed, failed, or were broken."
     ]
    },
    {
     "cell_type": "markdown",
     "metadata": {},
     "source": [
      "Most unit tests aren't as simple as a single function call,\n",
      "and many include several assertions\n",
      "to check several aspects of the values that functions return.\n",
      "For example,\n",
      "suppose we have a function called `border`\n",
      "that's supposed to draw a black border around an image grid.\n",
      "Here are a couple of unit tests for it:"
     ]
    },
    {
     "cell_type": "code",
     "collapsed": false,
     "input": [
      "from ipythonblocks import ImageGrid\n",
      "from border import border\n",
      "\n",
      "black = (0, 0, 0)\n",
      "white = (255, 255, 255)\n",
      "\n",
      "def test_border_2x2():\n",
      "    fixture = ImageGrid(2, 2, fill=white)\n",
      "    border(fixture, black)\n",
      "    assert fixture[0, 0].rgb == black\n",
      "    assert fixture[0, 1].rgb == black\n",
      "    assert fixture[1, 0].rgb == black\n",
      "    assert fixture[1, 1].rgb == black\n",
      "\n",
      "def count_colors(grid):\n",
      "    num_black = num_white = num_other = 0\n",
      "    for x in range(grid.width):\n",
      "        for y in range(grid.height):\n",
      "            if grid[x, y].rgb == black:\n",
      "                num_black += 1\n",
      "            elif grid[x, y].rgb == white:\n",
      "                num_white += 1\n",
      "            else:\n",
      "                num_other = 0\n",
      "    return num_black, num_white, num_other\n",
      "    \n",
      "def test_border_3x3():\n",
      "    fixture = ImageGrid(3, 3, fill=white)\n",
      "    border(fixture, black)\n",
      "    num_black, num_white, num_other = count_colors(fixture)\n",
      "    assert num_black == 8\n",
      "    assert num_white == 1\n",
      "    assert num_other == 0\n",
      "    assert fixture[1, 1].rgb == white # only white cell is in the center\n",
      "        \n",
      "ears.run('test_border_')"
     ],
     "language": "python",
     "metadata": {},
     "outputs": [
      {
       "output_type": "stream",
       "stream": "stdout",
       "text": [
        "...\n",
        "3 pass, 0 fail, 0 error\n"
       ]
      }
     ],
     "prompt_number": 23
    },
    {
     "cell_type": "markdown",
     "metadata": {},
     "source": [
      "The first test checks things directly;\n",
      "the second uses a helper function to count cells of different colors,\n",
      "then checks that those counts are correct\n",
      "and that the only white cell is in the middle of the 3&times;3 grid.\n",
      "If we go on to test grids of a few other sizes,\n",
      "we can use this helper function to check them as well."
     ]
    },
    {
     "cell_type": "markdown",
     "metadata": {},
     "source": [
      "This example also demonstrates that\n",
      "writing tests can be as difficult as writing the program in the first place.\n",
      "In fact,\n",
      "if we don't build our program out of small functions that are more-or-less independent,\n",
      "writing tests can actually be *more* complicated than writing the code itself.\n",
      "Luckily,\n",
      "there's a technique to help us build things right."
     ]
    },
    {
     "cell_type": "heading",
     "level": 2,
     "metadata": {},
     "source": [
      "Test-Driven Development"
     ]
    },
    {
     "cell_type": "markdown",
     "metadata": {},
     "source": [
      "Libraries like `ear` can't think of test cases for us.\n",
      "We still have to decide what to test and how many tests to run.\n",
      "Our best guide here is economics:\n",
      "we want the tests that are most likely to give us useful information\n",
      "that we don't already have.\n",
      "For example,\n",
      "if `rectangle_area([0, 0, 1, 1])` works,\n",
      "there's probably not much point testing `rectangle_area([0, 0, 2, 2])`,\n",
      "since it's hard to think of a bug that would show up in one case but not in the other."
     ]
    },
    {
     "cell_type": "markdown",
     "metadata": {},
     "source": [
      "We should therefore try to choose tests that are as different from each other as possible,\n",
      "so that we force the code we're testing to execute in all the different ways it can.\n",
      "Another way of thinking about this is that we should try to find [boundary cases](glossary.html#boundary_case).\n",
      "If a function works for zero,\n",
      "one,\n",
      "and a million values,\n",
      "it will probably work for eighteen values."
     ]
    },
    {
     "cell_type": "markdown",
     "metadata": {},
     "source": [
      "Using boundary values as tests has another advantage:\n",
      "it can help us design our software.\n",
      "To see how,\n",
      "consider this test case for our rectangle area function:"
     ]
    },
    {
     "cell_type": "markdown",
     "metadata": {},
     "source": [
      "```python\n",
      "def test_inverted_rectangle():\n",
      "    assert rectangle_area([1, 5, 5, 2]) == -12.0\n",
      "```"
     ]
    },
    {
     "cell_type": "markdown",
     "metadata": {},
     "source": [
      "Is that test correct?\n",
      "I.e.,\n",
      "are rectangles with `x1<x0` or `y1<y0` legal,\n",
      "and do they have negative area?\n",
      "Or should the test be:"
     ]
    },
    {
     "cell_type": "markdown",
     "metadata": {},
     "source": [
      "```python\n",
      "def test_inverted_rectangle():\n",
      "    try:\n",
      "        rectangle_area([1, 5, 5, 2])\n",
      "        assert False, 'Function did not raise exception for invalid rectangle'\n",
      "    except ValueError:\n",
      "        pass # rectangle_area failed with the expected kind of exception\n",
      "    except Exception:\n",
      "        assert False, 'Function did not raise correct kind of exception for invalid rectangle'\n",
      "```"
     ]
    },
    {
     "cell_type": "markdown",
     "metadata": {},
     "source": [
      "The logic in this second version may take a moment to work out,\n",
      "but the idea is straightforward:\n",
      "we want to check that `rectangle_area` raises a `ValueError` exception\n",
      "if it's given a rectangle whose upper edge is below or to the left of its lower edge."
     ]
    },
    {
     "cell_type": "markdown",
     "metadata": {},
     "source": [
      "Here's another test case that can help us design our software:"
     ]
    },
    {
     "cell_type": "markdown",
     "metadata": {},
     "source": [
      "```python\n",
      "def test_zero_width():\n",
      "    assert rectangle_area([2, 1, 2, 8]) == 0\n",
      "```"
     ]
    },
    {
     "cell_type": "markdown",
     "metadata": {},
     "source": [
      "We might decide that rectangles with negative areas aren't allowed,\n",
      "but what about rectangles with zero area,\n",
      "i.e.,\n",
      "rectangles that are actually lines?\n",
      "Any actual implementation of `rectangle_area` will do *something* with one of these;\n",
      "writing unit tests for boundary cases is a good way to specify exactly what that something is."
     ]
    },
    {
     "cell_type": "markdown",
     "metadata": {},
     "source": [
      "Unit tests are actually such a good way to define how functions ought to behave that\n",
      "many programmers use a practice called [test-driven development](glossary.html#test_driven_development) (TDD).\n",
      "Instead of writing code,\n",
      "then figuring out how to test it,\n",
      "these programmers:\n",
      "\n",
      "1. write some unit tests for a function that doesn't exist yet,\n",
      "2. write that function,\n",
      "3. modify it until it passes all of the tests, then\n",
      "4. clean up the function, i.e., make it more readable or more efficient without breaking any of the tests."
     ]
    },
    {
     "cell_type": "markdown",
     "metadata": {},
     "source": [
      "The mantra often used during TDD is \"red, green, refactor\":\n",
      "get a red light (i.e., some failing tests),\n",
      "make it turn green (i.e., get something working),\n",
      "and then clean it up by refactoring.\n",
      "This cycle should take anywhere from a couple of minutes to an hour or so.\n",
      "If it takes longer than that,\n",
      "the change being made is probably too large,\n",
      "and should be broken down into smaller (and more comprehensible) steps."
     ]
    },
    {
     "cell_type": "markdown",
     "metadata": {},
     "source": [
      "TDD's proponents argue that it helps people produce better code for two reasons.\n",
      "First,\n",
      "it encourages them to write code in small, self-contained chunks,\n",
      "and to actually write tests for those chunks.\n",
      "Second,\n",
      "it frees them from [confirmation bias](glossary.html#confirmation_bias):\n",
      "since they haven't written their function yet,\n",
      "their subconscious cannot steer their testing toward proving it correct\n",
      "rather than finding errors."
     ]
    },
    {
     "cell_type": "markdown",
     "metadata": {},
     "source": [
      "Empirical studies of TDD have had mixed results:\n",
      "some have found it beneficial,\n",
      "while others have found no effect.\n",
      "But even if you don't use it day to day,\n",
      "trying it a few times helps you learn how to design functions and programs that are easier to test."
     ]
    },
    {
     "cell_type": "heading",
     "level": 2,
     "metadata": {},
     "source": [
      "Key Points"
     ]
    },
    {
     "cell_type": "markdown",
     "metadata": {},
     "source": [
      "- Use a unit-testing framework to check and re-check code's correctness.\n",
      "- Put each unit test in its own small function.\n",
      "- Use test-driven development to define how functions should behave."
     ]
    }
   ],
   "metadata": {}
  }
 ]
}